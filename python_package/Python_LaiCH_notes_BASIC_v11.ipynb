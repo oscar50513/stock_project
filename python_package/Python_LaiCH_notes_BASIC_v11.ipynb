{
 "cells": [
  {
   "cell_type": "markdown",
   "metadata": {},
   "source": [
    "###### <h1 style=\"color:blue;text-align:center\">Introduction to python </h1>\n",
    "<h3 style=\"color:blue;text-align:center\">賴志宏 Chih-Hung Lai</h3>\n",
    "建立日期： 2018     最後修改日期：2019.09.25"
   ]
  },
  {
   "cell_type": "markdown",
   "metadata": {},
   "source": [
    "<h2 style=\"background-color:#C7FF91; text-align:center; color:red\"> Top computer language 2017 from IEEE </h2>\n",
    "<img src =\"images/top_language2017.jpg\" style=\"width:600px;height:700px;\">"
   ]
  },
  {
   "cell_type": "code",
   "execution_count": null,
   "metadata": {
    "collapsed": true
   },
   "outputs": [],
   "source": [
    "教學建議：\n",
    "1. 安裝 anaconda （run the code line by line, cannot be compiled)\n",
    "2. 先教 ipython （教簡單的指令執行，並寫一個簡單的程式，但說明在此寫程式，程式無法存檔，無法重複執行，\n",
    "   所以要用spyder編輯並存檔）\n",
    "3. 教 spyder (學會存檔和執行檔案，存檔時存在documents, 也就是「我的文件」中，之後從cmd, anaconda prompt\n",
    "             ,檔案總管，或是jyputer notebook中都很容易存取)\n",
    "4. 教 jupyter notebook"
   ]
  },
  {
   "cell_type": "markdown",
   "metadata": {},
   "source": [
    "# Jupyter Notebook"
   ]
  },
  {
   "cell_type": "markdown",
   "metadata": {
    "collapsed": true
   },
   "source": [
    "建立 jupyter.bat 檔案方法：\n",
    "1. 打開文字編輯器 \n",
    "2. 輸入 jupyter notebook，並存檔為jupyter.bat\n",
    "3. 將檔案複製到要撰寫程式的資料夾中\n",
    "\n",
    "使用方式：\n",
    "以檔案總管雙按此檔案（jupyter.bat）即可"
   ]
  },
  {
   "cell_type": "markdown",
   "metadata": {
    "collapsed": true
   },
   "source": [
    "### jupyter notebook 的幾個實用 hotkey （可以使用 ESC 後按 H，會出現快速鍵的列表）\n",
    "* alt+enter: 執行 cell 並往下新增一個 cell\n",
    "* shift+enter: 執行 cell 並往下一個 cell (不新增)\n",
    "* esc+a: 往上新增一個 cell\n",
    "* esc+b: 往下新增一個 cell\n",
    "* esc+d+d (d 按兩次): 刪除 cell"
   ]
  },
  {
   "cell_type": "markdown",
   "metadata": {},
   "source": [
    "- list\n",
    " - small list\n",
    " \n",
    "[link](http://www.google.com)"
   ]
  },
  {
   "cell_type": "markdown",
   "metadata": {
    "collapsed": true
   },
   "source": [
    "載入現有的檔案: %load 檔案\n",
    "%load test.py\n",
    "%load www.ndhu.edu.tw/index.php\n",
    "\n",
    "使用作業系統或command的指令,格式: !指令\n",
    "例如: \n",
    "!dir\n",
    "!ping www.ndhu.edu.tw\n",
    "\n",
    "使用html 和 CSS,例如:\n",
    "   <h2 style=\"background-color:#C7FF91; text-align:center; color:red\"> Top computer language 2017 from IEEE </h2>\n",
    "   <img src =\"image/top_language2017.jpg\" style=\"width:600px;height:700px;\">\n"
   ]
  },
  {
   "cell_type": "markdown",
   "metadata": {},
   "source": [
    "### 加入圖片的方法：\n",
    "![logo](http://www.ndhu.edu.tw/ezfiles/0/1000/img/8/LOGO_NDHU.png)\n",
    "![東華大學logo](images/NDHU_logo.png)\n",
    "<img src = \"images/NDHU_logo.png\" height = \"150\" width = \"300\">"
   ]
  },
  {
   "cell_type": "markdown",
   "metadata": {},
   "source": [
    "###  [pip的詳細介紹在另一個檔案(pip.ipynb) -> click me](pip_instruction.ipynb)"
   ]
  },
  {
   "cell_type": "code",
   "execution_count": 3,
   "metadata": {
    "scrolled": true
   },
   "outputs": [
    {
     "name": "stdout",
     "output_type": "stream",
     "text": [
      "Requirement already satisfied: pytube in c:\\users\\laich\\appdata\\local\\programs\\python\\python36-32\\lib\\site-packages\n"
     ]
    },
    {
     "name": "stderr",
     "output_type": "stream",
     "text": [
      "Cache entry deserialization failed, entry ignored\n"
     ]
    }
   ],
   "source": [
    "!pip install pytube"
   ]
  },
  {
   "cell_type": "markdown",
   "metadata": {},
   "source": [
    "在cell內格式可以有\n",
    "* code\n",
    "* Markdown\n",
    "* Raw NBconvert\n",
    "* Heading\n",
    "\n",
    "**Markdown格式的詳細解說可以參考我的evernote的Markdown 語法說明**\n"
   ]
  },
  {
   "cell_type": "code",
   "execution_count": null,
   "metadata": {
    "collapsed": true
   },
   "outputs": [],
   "source": [
    "若是執行某一個cell的程式，在In[*]一直出現星號，無法執行完畢，可以重新執行Kernel，\n",
    "即按工具列上的按鈕"
   ]
  },
  {
   "cell_type": "markdown",
   "metadata": {},
   "source": [
    "# Python 環境"
   ]
  },
  {
   "cell_type": "markdown",
   "metadata": {},
   "source": [
    "### 建議安裝Anaconda，初學者可以直接使用 Spyder 或  jupyter notebook軟體進行編輯（Anaconda內含）"
   ]
  },
  {
   "cell_type": "markdown",
   "metadata": {},
   "source": [
    "windows 預設是無法執行python （UNIX和MAC預設有)，必須要安裝，需要的軟體包含：\n",
    "#### <b> 選項一：安裝Anaconda(建議）</b>\n",
    "\n",
    "  \n",
    "  Anaconda的下載網址為：https://www.continuum.io/downloads\n",
    " \n",
    " 安裝完Anaconda之後，也會同時安裝相關的套件(包含python直譯器、Spyder, Jupter notebook、beautifulsoup、requests等，所以可以不先個別安裝python），\n",
    "     例如jupyter專案的ipython（為python強化過的直譯器界面（shell)，輸入edit指令，\n",
    "     可以開啟預設的文字編輯器), 以及jupyter的ipython notebook(以瀏覽器為基礎的整合式編輯環境）\n",
    "     可分別在cmd下執行 ipython 或 ipython notebook （或jupyter notebook)開啟\n",
    "  若是比較複雜的套件（例如Numpy, matplotlib)，需要用到Anaconda軟體來安裝套件：\n",
    "\n",
    "  提醒：Window 安裝過程如果有一頁\"Advanced Options\"\n",
    "     兩個都要打勾\n",
    "      ◉ Add Anaconda to my PATH environment variable\n",
    "      ◉ Register Anaconda as my default Python 3.5\n",
    "     若未打勾則之後要在作業系統中的paht變數加入：C:\\Users\\laich\\Anaconda3\\Scripts，'laich'應改為實際的使用者名稱\n",
    "  \n",
    "  安裝完Anaconda之後，就可以使用下列方式安裝套件了，例如：\n",
    "   conda install Numpy   （大小寫均可）\n",
    "     \n",
    "#### <b> 選項二：安裝python </b>\n",
    "在https://www.python.org/downloads/release/python-361/ 下載執行檔 python-3.6.1-amd64.exe\n",
    "\n",
    "python 3.3以後已經內裝 pip.exe和easy_install.exe\n",
    "\n",
    "python.exe 檔案安裝以後是放在C:\\Users\\laich\\AppData\\Local\\Programs\\Python\\Python36-32 的目錄中（可以用python來查到所屬目錄）\n",
    "\n",
    "pip.exe 和 easy_install.exe 是放在 以下目錄\n",
    "C:\\Users\\laich\\AppData\\Local\\Programs\\Python\\Python36-32\\Scripts\n",
    "\n",
    "因此若要在cmd終端機中執行 python 和 pip，需要在windows中的環境變數中設定path變數中加入此二個路徑（方法已錄製完成）\n",
    "（或是在安裝過程中有詢問到加入pah時要打勾）\n",
    "\n",
    "程式撰寫：\n",
    ".互動式\n",
    "  .python shell\n",
    ".程式編輯器：\n",
    "  .notepad++ （註：要另外安裝）\n",
    "  .IDLE (python) (安裝python時會安裝此軟體）\n",
    "  .pythonwin （註：要另外安裝）\n",
    "  \n",
    "\n",
    "  註：ipython和 ipython notebook也可以分別用pip 來安裝\n",
    "     pip install ipython\n",
    "\t pip install jupyter"
   ]
  },
  {
   "cell_type": "markdown",
   "metadata": {},
   "source": [
    "# 線上編輯執行的程式IDE"
   ]
  },
  {
   "cell_type": "markdown",
   "metadata": {},
   "source": [
    "多種語言：  \n",
    "http://ideone.com/  \n",
    "http://www.tutorialspoint.com/codingground.htm  \n",
    "https://repl.it/languages/  (推薦）左邊視窗可以編寫程式檔案，右邊視窗可以單行執行  \n",
    "\n",
    "\n",
    "python3:\n",
    "http://pythonfiddle.com  \n",
    "https://docs.python.org/3.6/tutorial/index.html  \n",
    "https://www.tutorialspoint.com/python3/index.htm  \n",
    "\n",
    "python線上資源：  \n",
    "python線上教材：https://docs.python.org/  \n",
    "python說明文件：https://docs.python.org/3/tutorial/index.html  \n",
    "python套件(package index)：  \n",
    "     http://pypi.python.org/pypi  \n",
    "python社群：\n",
    "   http://www.python.org.tw  \n",
    "FaceBook的 Python Taiwan 社群   \n",
    "   https://www.facebook.com/groups/pythontw/\n"
   ]
  },
  {
   "cell_type": "markdown",
   "metadata": {},
   "source": [
    "# Python 語法"
   ]
  },
  {
   "cell_type": "markdown",
   "metadata": {},
   "source": [
    "* python撰寫規範  \n",
    "  https://www.python.org/dev/peps/pep-0008/\n",
    "\n",
    "* 即時說明文件：  \n",
    "  在python提示符號或ipython提示符號中輸入：help(要查詢的敘述），例如：help(print)\n",
    "  \n",
    "* 基礎：\n",
    " * 縮排表示區段來取代{ }， :表示區段（或縮排）的開始\n",
    " * 縮排可以使用tab，或是4個空格\n",
    "if a > b:\n",
    "   print (a)\n",
    "   print (b)\n",
    "else:\n",
    "   print (b)\n",
    "   print (a)\t  \n",
    "\t  \n",
    "* 註解\n",
    "\n",
    "   \\# 單行註解\n",
    "   \n",
    "   多行用三個單引號，或三個雙引號\n",
    "* 大小寫不同\n",
    "   \n",
    "* 行尾不需要;\n",
    " 但是可以用; 隔開兩個敘述(在同一行有超過兩行敘述時）\n",
    " \n",
    "* 字串可用單引號或雙引號包圍\n",
    "\n",
    "## ?? .變數的大小寫沒有區別，但是敘述或函式的大小寫有區別\n",
    "\n",
    "\n",
    "* Python 變數命名規則 ：\n",
    "\n",
    " * 不是空序列\n",
    " * 開頭第一個字不能是數字，可使用大小寫字母或_\n",
    " * 不可與內建關鍵字同名\n",
    " * Python3 加入Unicode(中文也可！，但建議不要使用中文的變數名稱)"
   ]
  },
  {
   "cell_type": "markdown",
   "metadata": {},
   "source": [
    "# 基本輸出入"
   ]
  },
  {
   "cell_type": "markdown",
   "metadata": {},
   "source": [
    "* print(內容)   #印完後會自動換行\n",
    "  .例如：print(\"Hi, world!\")\n",
    "        print(100)\n",
    "        print(a, b)\n",
    "     \n",
    "* 格式化輸出：　\n",
    "   1. 舊的格式：類似 C語言的方式，使用%d, %f等保留位置，再以 % 之後的運算式代替 （缺點：必須要記憶套用的資料型態，例如整數為%d）\n",
    "      例如：print (\"PI = %06d\" % int(math.pi))\n",
    "           print(\"Hi, %s! my name is %s!\" % (a, b))\n",
    "           print (\"the length of (%s) is %d\" %('Hello World',len('Hello World')))\n",
    "   2. 新的格式：使用{} 來保留位置，以format之後的運算式代入\n",
    "     print(\"{} + {} = {}\".format(a, b, a+b))  # {}會用之後的數去取代\n",
    "     print(\"n1 = {n1}, n0 = {n0}\".format(n0 = a, n1 = b)) \n",
    "\n",
    "* print(內容, end=\"\") #印完後不會自動換行\n",
    "\n",
    "* print(內容1, 內容2)\n",
    "  * print(\"list1:\", list1)\n",
    "  \n",
    "* print(a,b,c,d,e, sep=\"\\n\") # 印出a,b,c,d,e，中間會換行\n",
    "\n",
    "* 靠左右和輸出字元組：>靠右， :< 靠左， :^ 置中對齊，數字表示預留的格子數目，小數點後數字.2f表示顯示二位的小數位數\n",
    "   print(\"{:>2} + {:>2} = {:<4}\".format(a, b, a+b))\n",
    "   print(\"{:>.1f}\".format(3.52))   #靠右顯示一位小數\n",
    "   print(\"{:>5.2}\".format(a))  #靠右，且有效位數為2位\n",
    "* print('abc\\nabc')   #\\ is an escape quote\n",
    "* print(r'C:\\some\\name')  # note the r before the quote, use raw strings by adding an r before the first quote\n",
    "\n",
    "* print (\"My name is %s and weight is %d kg!\" % ('Zara', 21))   #My name is Zara and weight is 21 kg!\n",
    "\n",
    "print(\"Hi, {0} my name is {1}\".format(a, b))  # { } 後有數字表示對應到format 後面的運算式的次序，從0開始計算\n",
    "print(\"Hi, {your_name}! my name is {my_name}!\".format(your_name =a, my_name = b))\n",
    "\n",
    "* 填空字元：放在:之後  \n",
    "   print(\"{:$>5.1f}\".format(3.52))   #靠右顯示一位小數，空格用$填補 $$3.5"
   ]
  },
  {
   "cell_type": "code",
   "execution_count": 9,
   "metadata": {},
   "outputs": [
    {
     "name": "stdout",
     "output_type": "stream",
     "text": [
      "姓名   座號  國文  數學  英文\n",
      "林大明   1   100    87   79\n",
      "陳阿中   2    74    88  100\n",
      "張小英  11    82    65    8\n",
      "\n",
      "2 + 3 + 4 = 9\n"
     ]
    }
   ],
   "source": [
    "print(\"姓名   座號  國文  數學  英文\")\n",
    "print(\"%3s  %2d   %3d   %3d  %3d\" % (\"林大明\", 1, 100, 87, 79))\n",
    "print(\"%3s  %2d   %3d   %3d  %3d\" % (\"陳阿中\", 2, 74, 88, 100))\n",
    "print(\"%3s  %2d   %3d   %3d  %3d\" % (\"張小英\", 11, 82, 65, 8))\n",
    "\n",
    "print()\n",
    "a = 2; b = 3; c = 4\n",
    "print(a, \"+\", b, \"+\", c, \"=\", a+b+c)"
   ]
  },
  {
   "cell_type": "code",
   "execution_count": 1,
   "metadata": {},
   "outputs": [
    {
     "name": "stdout",
     "output_type": "stream",
     "text": [
      "5\n",
      "5\n",
      "5\n",
      "n1 = 6, n0 = 3, n2 = 10\n"
     ]
    }
   ],
   "source": [
    "a=b=c=5\n",
    "print(a,b,c, sep=\"\\n\")\n",
    "\n",
    "i = 3\n",
    "j =6\n",
    "k = 10\n",
    "print(\"n1 = {n1}, n0 = {n0}, n2 = {n2}\".format(n0 = i, n1 = j, n2 = k))\n"
   ]
  },
  {
   "cell_type": "code",
   "execution_count": 14,
   "metadata": {},
   "outputs": [
    {
     "name": "stdout",
     "output_type": "stream",
     "text": [
      "12345678\n",
      "  3.6\n",
      " 3.57\n"
     ]
    }
   ],
   "source": [
    "a = 3.567\n",
    "print(\"12345678\")\n",
    "print(\"{:>5.2}\".format(a))\n",
    "print(\"{:>5.2f}\".format(a))"
   ]
  },
  {
   "cell_type": "code",
   "execution_count": 11,
   "metadata": {},
   "outputs": [
    {
     "name": "stdout",
     "output_type": "stream",
     "text": [
      "Tom\n",
      "Hi! Tom        Tom Tom\n",
      "Hi, Tom! my name is Richard!\n",
      "Hi, Tom! my name is Richard!\n",
      "\n",
      "Tom\n",
      "Richard\n",
      "Tom, Richard\n",
      "Hi, Tom! my name is Richard!\n",
      "Hi10 is 20\n",
      "the length of (Hello World) is 11\n",
      "the length of (Hello World) is 11\n",
      "c = 10    d = 20.30\n",
      "c = 10   , 10/3 =  3.333  d = 20.30 \n",
      "second = 20 first = 10\n",
      "$$3.5\n"
     ]
    }
   ],
   "source": [
    "# \n",
    "b = \"Richard\"\n",
    "a = \"Tom\"\n",
    "print (a)\n",
    "print(\"Hi! {} {:>10} {}\".format(a, a ,a))\n",
    "\n",
    "print(\"Hi, {0}! my name is {1}!\".format(a, b))\n",
    "print(\"Hi, %s! my name is %s!\" %(a, b))\n",
    "print()\n",
    "\n",
    "print(a,b, sep=\"\\n\")\n",
    "print(a,b, sep = ', ')\n",
    "\n",
    "print(\"Hi, {your_name}! my name is {my_name}!\".format(your_name =a, my_name = b))\n",
    "\n",
    "c = 10\n",
    "d = 20.3\n",
    "print(\"Hi%d is %d\" % (c, d))\n",
    "print (\"the length of (%s) is %d\" %('Hello World',len('Hello World')))\n",
    "\n",
    "strHello = \"the length of (%s) is %d\" %('Hello World',len('Hello World'))\n",
    "print (strHello)\n",
    "\n",
    "print('c = {:<5} d = {:>5.2f}'.format (c, d))\n",
    "\n",
    "print('c = {0:<5}, 10/3 = {2:> 6.3f}  d = {1:>5.2f} '.format (c, d, 10/3))\n",
    "\n",
    "print('second = {1} first = {0}'.format (10, 20))\n",
    "\n",
    "print(\"{:$>5.1f}\".format(3.52))"
   ]
  },
  {
   "cell_type": "markdown",
   "metadata": {},
   "source": [
    "### 輸入格式\n",
    "\n",
    "* input('提示字串')\n",
    " * a = int(input())\n",
    " * 變數 = input('提示字串')"
   ]
  },
  {
   "cell_type": "code",
   "execution_count": 4,
   "metadata": {},
   "outputs": [
    {
     "name": "stdout",
     "output_type": "stream",
     "text": [
      "5\n",
      "Please input a number: 10\n",
      "20\n",
      "30\n",
      "5\n",
      "10\n",
      "20\n",
      "30\n"
     ]
    }
   ],
   "source": [
    "a = input()\n",
    "b = input(\"Please input a number: \")\n",
    "c = int(input())  #轉換成整數\n",
    "d = eval(input()) #轉換成數字\n",
    "\n",
    "print(a, b, c, d, sep=\"\\n\")"
   ]
  },
  {
   "cell_type": "code",
   "execution_count": null,
   "metadata": {
    "collapsed": true
   },
   "outputs": [],
   "source": [
    "nat = input(\"請輸入國文成績：\")\n",
    "math = input(\"請輸入數學成績：\")\n",
    "eng = input(\"請輸入英文成績：\")\n",
    "sum = int(nat) + int(math) + int(eng)  #輸入值需轉換為整數\n",
    "average = sum / 3\n",
    "print(\"成績總分：%d，平均成績：%5.2f\" % (sum, average))"
   ]
  },
  {
   "cell_type": "code",
   "execution_count": 10,
   "metadata": {},
   "outputs": [
    {
     "name": "stdout",
     "output_type": "stream",
     "text": [
      "Hi: 請輸入你的年齡 15\n",
      "Hi: 請輸入你的職業 teacher\n",
      "你是 15 歲的 teacher\n"
     ]
    }
   ],
   "source": [
    "# 使用tuple的print:\n",
    "format_A =\"你是 %s 歲的 %s\"\n",
    "dataA = input(\"Hi: 請輸入你的年齡 \")\n",
    "dataB = input(\"Hi: 請輸入你的職業 \")\n",
    "values_B = (dataA, dataB)\n",
    "print (format_A % values_B)"
   ]
  },
  {
   "cell_type": "markdown",
   "metadata": {},
   "source": [
    "## 中文編碼問題"
   ]
  },
  {
   "cell_type": "markdown",
   "metadata": {
    "collapsed": true
   },
   "source": [
    "python3 使用的編碼方式為 UTF-8\n",
    "Windows 記事本預設的編碼方式為 MS950 （相容於Big5），因此若是在記事本中輸入中文字，再用python印出來會出現亂碼，\n",
    "處理方式為：\n",
    "  1. 存檔時將編碼方式改為UTF-8\n",
    "  2. 在python 檔案最前面加上： # coding:MS950\n",
    "  3. 要顯示的文字變數.encode('UTF-8')\n",
    "\n",
    "其它的編輯軟體處理方式亦同"
   ]
  },
  {
   "cell_type": "markdown",
   "metadata": {},
   "source": [
    "# 資料類型"
   ]
  },
  {
   "cell_type": "markdown",
   "metadata": {
    "collapsed": true
   },
   "source": [
    "變數不需要事先宣告\n",
    "基本資料型別：數字（整數、浮點數、布林和複數）、字串\n",
    "進階資料型別：串列(list)、元組(tuple)、字典(dict)、集合(set)\n",
    "\n",
    "要知道資料型態，可以使用type(資料) 函式，例如 type(3.14)\n",
    "\n",
    "### 在python中所有型態都是物件"
   ]
  },
  {
   "cell_type": "raw",
   "metadata": {},
   "source": [
    "# 變數命名建議\n",
    "變數:以名詞開頭，第一個字小寫，第二個字以後的首字大寫(lower camel case)\n",
    "函式或方法:以動詞開頭，第一個字小寫，第二個字以後的首字大寫(lower camel case)\n",
    "類別名稱:以名詞開頭，第一個字首大寫，第二個字以後的首字大寫(upper camel case)"
   ]
  },
  {
   "cell_type": "markdown",
   "metadata": {},
   "source": [
    "## 數字"
   ]
  },
  {
   "cell_type": "code",
   "execution_count": null,
   "metadata": {
    "collapsed": true
   },
   "outputs": [],
   "source": [
    ".整數：為任意大小的整數，二進位以0b或0B開頭（如0b10是十進位的2），八進位以0o或0O（數字0和英文字o）為開頭，十六進為以0x0X或開頭（如0x2f) \n",
    "    支援大整數：任意大的數字\n",
    ".浮點數：小數，或是用科學數字格式：用E或e，例如123e+10\n",
    ".複數：用j或J結尾表示虛部，例如：5+3j\n",
    "  \n",
    "  .數字運算子\n",
    "    . ** 次方\n",
    "\t. // 除法取整數商\n",
    "\t. % 取餘數\n",
    "  .關係運算式\n",
    "    . >  <  ==  >=  <=  !=  \n",
    "  .邏輯運算子\n",
    "    . or  not  and  \n",
    "  .運算式\n",
    "    .= 左邊可以超過兩個變數，這是其他語言少見的\n",
    "\t. a, b, c = b, c, a\n",
    "\t. a = b = c =1\n",
    "   \n",
    ". bool 型態\n",
    "   . False: 包含 0, None, ''(空字串）, 空的串列、字典和元組\n",
    "   . True：其餘的數 （非0的數）\n",
    "   \n",
    "   可以使用 bool() 函數轉換數值成為 bool 型態的值"
   ]
  },
  {
   "cell_type": "code",
   "execution_count": 3,
   "metadata": {},
   "outputs": [
    {
     "name": "stdout",
     "output_type": "stream",
     "text": [
      "False\n",
      "True\n"
     ]
    }
   ],
   "source": [
    "print(bool(0))\n",
    "print(bool(3.4))"
   ]
  },
  {
   "cell_type": "code",
   "execution_count": null,
   "metadata": {
    "collapsed": true
   },
   "outputs": [],
   "source": [
    "內建數值函式:\n",
    "abs(x)  取絕對值\n",
    "min(x1,x2 , ...) 取最小數\n",
    "max(x1,x2 , ...) 取最大數\n",
    "hex(x) 轉十六進位\n",
    "oct(x) 轉八進位\n",
    "bin(x) 轉二進位\n",
    "int(x)\n",
    "round(x) 四捨五入\n",
    "pow(x, y) x的y次方\n",
    "float(x) 傳回字串轉浮點數"
   ]
  },
  {
   "cell_type": "code",
   "execution_count": 11,
   "metadata": {},
   "outputs": [
    {
     "name": "stdout",
     "output_type": "stream",
     "text": [
      "3.2\n",
      "1\n",
      "7\n",
      "0xdf\n"
     ]
    }
   ],
   "source": [
    "a = abs(-3.2)\n",
    "b = min(5,2,3,9,1)\n",
    "c = max(3,2,7)\n",
    "d = hex(223)\n",
    "print(a, b, c, d, sep='\\n')"
   ]
  },
  {
   "cell_type": "markdown",
   "metadata": {
    "collapsed": true
   },
   "source": [
    "### 數學函式：\n",
    "* import math\n",
    "* math.pow(x, y):x的y次方\n",
    "* math.sin(x)\n",
    "* math.fmod(x, y):求x/y的餘數\n",
    "* math.ceil(x):不小於x的最小整數\n",
    "* math.floor(x):不大於x的最大整數\n",
    "* math.sqrt(x)\n",
    "* math.pi\n",
    "* math.log(x[, base]) ：傳回x的自然對數的值，或傳回以base為基底的x的對數\n",
    "* math.radians(x) ：傳回角度x轉換為弳度的值，即 x * π /180\n",
    "* math.degrees(x) ：傳回弳度x轉換為角度的值，即 x * 180 / π \n",
    "\n",
    "* math.cos(x)：傳回三角函式的數值，math.sin(30*math.pi/180)，或是math.sin(math.radians(30))"
   ]
  },
  {
   "cell_type": "markdown",
   "metadata": {},
   "source": [
    "## 字串"
   ]
  },
  {
   "cell_type": "markdown",
   "metadata": {},
   "source": [
    "* 可使用單引號或雙引號刮起來\n",
    "  * 字串最後不需要有'\\0'的字元 （C語言需要）\n",
    "  * 逸出字元和C語言相同，例如 \\n, \\t\n",
    "     . 若不想使用逸出字元，也可在字串前面加上r，表示原始字串(raw string)，例如： r'\\ta' 也就相當於 '\\\\ta'\n",
    "  * \\0xhh會轉換ASCII為十六進位hh的字元，例如 \\0x41為 'A'\n",
    "  \n",
    "* 字串的索引：\n",
    "    strs = \"abcdefg\"\n",
    "    strs[2]   為 c  #從0開始\n",
    "\tstrs[-1]  從後面倒數第1個，所以是g\n",
    "\tstrs[2:4]   為第3個到第5個（不含），所以是cd\n",
    "\tstrs[:2]   # character from the beginning to position 2 (excluded)\n",
    "    strs[4:]   # characters from position 4 (included) to the end\n",
    "    strs[-2:]  # characters from the second-last (included) to the end\n",
    "\tstrs[1:3] = []  #串列可以用此法刪掉元素1和元素2，但是切記字串不可以如此作\n",
    "* print(r'C:\\some\\name')  # note the r before the quote, use raw strings by adding an r before the first quote\n",
    "\n",
    "* String literals can span multiple lines. One way is using triple-quotes: \"\"\"...\"\"\" or '''...'''. \n",
    "    print(\"\"\"\\\n",
    "    Usage: thingy [OPTIONS]\n",
    "         -h                        Display this usage message\n",
    "         -H hostname               Hostname to connect to\n",
    "    \"\"\")\n",
    "*  operators for strings\n",
    "  * +   Concatenation\n",
    "  * *   重複數次\n",
    "\t  3 * 'un' + 'ium'    #'unununium'\n",
    "\t  'abc' * 3           #'abcabcabc'"
   ]
  },
  {
   "cell_type": "code",
   "execution_count": null,
   "metadata": {
    "collapsed": true
   },
   "outputs": [],
   "source": []
  },
  {
   "cell_type": "markdown",
   "metadata": {},
   "source": [
    "# 型別轉換"
   ]
  },
  {
   "cell_type": "markdown",
   "metadata": {},
   "source": [
    "* int( )\n",
    "* float( )\n",
    "* eval( ) 轉數字\n",
    "* str( )\n",
    "* chr( ): ASCII值轉為ASCII字元\n",
    "* hex( )\n",
    "* long( )：文字轉成長整數\n",
    "* oct( )\n",
    "* ord( ): ASCII字元轉為ASCII數值"
   ]
  },
  {
   "cell_type": "markdown",
   "metadata": {},
   "source": [
    "# 流程控制"
   ]
  },
  {
   "cell_type": "markdown",
   "metadata": {},
   "source": [
    "## if else\n",
    "\n",
    "* Syntax:\n",
    "\n",
    "if (condition):  \n",
    "    statement ...\n",
    "    \n",
    "    \n",
    "if condition:  \n",
    "    statement..."
   ]
  },
  {
   "cell_type": "code",
   "execution_count": 5,
   "metadata": {},
   "outputs": [
    {
     "name": "stdout",
     "output_type": "stream",
     "text": [
      "50\n",
      "fail\n"
     ]
    }
   ],
   "source": [
    "# if 敘述\n",
    "score = eval(input())\n",
    "if score >= 60:\n",
    "   print ('pass')\n",
    "else:\n",
    "   print ('fail')\n",
    "   \n"
   ]
  },
  {
   "cell_type": "code",
   "execution_count": null,
   "metadata": {
    "collapsed": true
   },
   "outputs": [],
   "source": [
    "year = int(input())\n",
    "if ((year % 4 == 0) & (year % 100 != 0)) | (year % 400 == 0):\n",
    "    print(\"leap\")\n",
    "else:\n",
    "   print(\"not leap year\")"
   ]
  },
  {
   "cell_type": "code",
   "execution_count": 1,
   "metadata": {},
   "outputs": [
    {
     "name": "stdout",
     "output_type": "stream",
     "text": [
      "Please input your score:93.7\n",
      "Grade A\n"
     ]
    }
   ],
   "source": [
    "# 程式 7-1.py (Python 3 version)\n",
    "score = eval(input(\"Please input your score:\"))\n",
    "\n",
    "if score >= 90:\n",
    "    print(\"Grade A\")\n",
    "elif score >= 80:\n",
    "    print(\"Grade B\")\n",
    "elif score >= 70:\n",
    "    print(\"Grade C\")\n",
    "elif score >= 60:\n",
    "    print(\"Grade D\")\n",
    "else:\n",
    "    print(\"You fail the test!\")"
   ]
  },
  {
   "cell_type": "code",
   "execution_count": null,
   "metadata": {
    "collapsed": true
   },
   "outputs": [],
   "source": [
    "money = int(input(\"請輸入購物金額：\"))\n",
    "if(money >= 10000):\n",
    "    if(money >= 100000):\n",
    "        print(str(money * 0.8), end=\" 元\\n\")  #八折\n",
    "    elif(money >= 50000):\n",
    "        print(str(money * 0.85), end=\" 元\\n\")  #八五折\n",
    "    elif(money >= 30000):\n",
    "        print(str(money * 0.9), end=\" 元\\n\")  #九折\n",
    "    else:\n",
    "        print(str(money * 0.95), end=\" 元\\n\")  #九五折\n",
    "else:\n",
    "    print(str(money), end=\" 元\\n\")  #未打折"
   ]
  },
  {
   "cell_type": "markdown",
   "metadata": {},
   "source": [
    "## while"
   ]
  },
  {
   "cell_type": "markdown",
   "metadata": {},
   "source": [
    "Syntax:\n",
    "1. while(condition):\n",
    "2. while condition:"
   ]
  },
  {
   "cell_type": "code",
   "execution_count": null,
   "metadata": {
    "collapsed": true
   },
   "outputs": [],
   "source": [
    "total = person = score = 0\n",
    "while(score != -1):\n",
    "    person += 1\n",
    "    total += score\n",
    "    score = int(input(\"請輸入第 %d 位學生的成績：\" % person))\n",
    "average = total / (person - 1)\n",
    "print(\"本班總成績：%d 分，平均成績：%5.2f 分\" % (total, average))"
   ]
  },
  {
   "cell_type": "code",
   "execution_count": 2,
   "metadata": {},
   "outputs": [
    {
     "name": "stdout",
     "output_type": "stream",
     "text": [
      "3\n",
      "2\n",
      "6\n"
     ]
    }
   ],
   "source": [
    "# 7-3.py (Python 3 version)\n",
    "\n",
    "import random\n",
    "x = random.randint(1,6)\n",
    "print(x)\n",
    "while x != 6:\n",
    "  x = random.randint(1,6)\n",
    "  print(x)"
   ]
  },
  {
   "cell_type": "code",
   "execution_count": null,
   "metadata": {
    "collapsed": true
   },
   "outputs": [],
   "source": [
    "# 7-8.py (Python 3 version)\n",
    "\n",
    "import random\n",
    "while True:\n",
    "    x = random.randint(1,6)\n",
    "    print(x)\n",
    "    if x == 6 : break"
   ]
  },
  {
   "cell_type": "code",
   "execution_count": null,
   "metadata": {
    "collapsed": true
   },
   "outputs": [],
   "source": []
  },
  {
   "cell_type": "markdown",
   "metadata": {},
   "source": [
    "## for loop"
   ]
  },
  {
   "cell_type": "code",
   "execution_count": null,
   "metadata": {
    "collapsed": true
   },
   "outputs": [],
   "source": [
    ".for 敘述\n",
    "  .使用數字的次數\n",
    "for i in range(1, 11):   #1到小於11，也就是1 到 10\n",
    "   ...\n",
    "\n",
    ".使用串列   (p.7-05)\n",
    "alist = [1, 3, 5, 7, 9]\n",
    "for a in alist:\n",
    "   print (a) \n",
    "   \n",
    "sum = 0\n",
    "alist = [1, 3, 5, 7, 9]\n",
    "for a in alist:\n",
    "   sum  = sum + a\n",
    "print (sum)           #25\n",
    "\n",
    "for i in range(1, 11, 2):   #1到小於11，也就是1 到 10，每次增加2\n",
    "\n",
    "   .使用串列或tuple\n",
    "t = (\"妙蛙種子\",\"小火龍\",\"傑尼龜\",\"胖丁\",\"皮皮\")\n",
    "for i in range(len(t)):\n",
    "    print (t[i])\n",
    "    \n",
    "  .使用字典 \n",
    "price_dict = {'book': 200, 'ruler':30, 'earser':50, 'pen': 35}\n",
    "for keys, value in price_dict.items( ):\n",
    "   if value > 40:\n",
    "      print(\"({}, {})\".format(keys, value))\n",
    "\t  \n",
    "for i in Week:\n",
    "   print (i, Week[i])\n",
    "\n",
    ". 加上索引\n",
    "names = ['Richard', 'Tom', 'Cindy']\n",
    "for index, element in enumerate(names):  \n",
    "    print('%d %s' % (index, element))"
   ]
  },
  {
   "cell_type": "code",
   "execution_count": null,
   "metadata": {
    "collapsed": true
   },
   "outputs": [],
   "source": [
    "sum = 0\n",
    "n = int(input(\"請輸入正整數：\"))\n",
    "for i in range(1, n+1):\n",
    "    sum += i\n",
    "print(\"1 到 %d 的整數和為 %d\" % (n, sum))"
   ]
  },
  {
   "cell_type": "code",
   "execution_count": null,
   "metadata": {
    "collapsed": true
   },
   "outputs": [],
   "source": [
    "score = []\n",
    "total = inscore = 0\n",
    "while(inscore != -1):\n",
    "    inscore = int(input(\"請輸入學生的成績：\"))\n",
    "    score.append(inscore)\n",
    "print(\"共有 %d 位學生\" % (len(score) - 1))\n",
    "for i in range(0, len(score) - 1):\n",
    "    total += score[i]\n",
    "average = total / (len(score) - 1)\n",
    "print(\"本班總成績：%d 分，平均成績：%5.2f 分\" % (total, average))"
   ]
  },
  {
   "cell_type": "code",
   "execution_count": null,
   "metadata": {
    "collapsed": true
   },
   "outputs": [],
   "source": [
    "# 7-7.py (Python 3 version)\n",
    "\n",
    "for i in range(2,9):\n",
    "    if i != 2 and i != 6 : continue\n",
    "    for j in range(1,10):\n",
    "        for k in range(i,i+5):\n",
    "            print(\"{}x{}={:>2}    \".format(k, j, k*j), end=\"\")\n",
    "        print()\n",
    "    print()"
   ]
  },
  {
   "cell_type": "code",
   "execution_count": 2,
   "metadata": {},
   "outputs": [
    {
     "name": "stdout",
     "output_type": "stream",
     "text": [
      "0 Alice\n",
      "1 Bob\n",
      "2 Cindy\n"
     ]
    }
   ],
   "source": [
    "names = ['Richard', 'Tom', 'Cindy']\n",
    "for index, element in enumerate(names):\n",
    "    print('%d %s' % (index, element))"
   ]
  },
  {
   "cell_type": "markdown",
   "metadata": {},
   "source": [
    "# 進階資料型別：串列list, 元組tuple, 字典dict, 集合set"
   ]
  },
  {
   "cell_type": "markdown",
   "metadata": {},
   "source": [
    "## 串列"
   ]
  },
  {
   "cell_type": "markdown",
   "metadata": {},
   "source": [
    "* 串列：儲存有序的資料，以數字當索引（從0開始），類似陣列，但是每一個元素可以是不同的資料型別  \n",
    "  * 定義串列，用[ ]括起來  \n",
    "    * a_list = [2, 4, 6, 8, 10, 12]  \n",
    "\t* str_list = ['John', 'Tom', 'Richard']\n",
    "\t* score = ['Richard', 100]    \n",
    "\t* num_list1 = list(range(10))      # 從0到小於10的數字，  [0, 1, 2, 3, 4, 5, 6, 7, 8, 9]       \n",
    "    * num_list2 = list(range(3,10))    # 從3到小於10的數字，  [3, 4, 5, 6, 7, 8, 9]  \n",
    "    * num_list3 = list(range(3,10,2))  # 從3到小於10的數字，間隔為2，  [3, 5, 7, 9]\n",
    "\t\n",
    "* 串列存取：方法和陣列一樣  \n",
    " * print (a_list[2])     #印出 6  \n",
    " * a_list[3] = 8\n",
    " * a_list[1:3]       #取出第2至第4個元素，為串列  [4, 6, 8]\n",
    " * a_list[1:5:2]     #取出第2至第6個元素，間隔為2的串列  [4, 8, 12]\n",
    " * a_list[1:5:2] = 5 #設定元素的內容為5\n",
    " * del a_list[3]     #刪除元素\n",
    " * lists = a_list * 3  #重複3次\n",
    "\t\n",
    "* 用函數存取\n",
    " * str = 'Hi, Richard! Good morning!'\n",
    "  * str_lists = list(str)   # ['H', 'i', ' ', ........]  也就是每一個字元當作串列的一個元素\n",
    "  * str_list = str.split( )   # ['Hi,', 'Richard!', 'Good', 'morning!']\n",
    "  * str_list = str.split('!')\n",
    "  * char_list = list(str)     # ['H', 'i', ',', ' ', 'R', 'i', 'c', 'h', 'a', 'r', 'd', '!']\n",
    "* 多維串列\n",
    "  * score1 = ['John', 80]  \n",
    "\tscore2 = ['Richard', 60]  \n",
    "\tscore3 = ['Tom', 100]  \n",
    "\tscores = [score1, score2, score3]  \n",
    "\tprint(scores)             #[['John', 80], ['Richard', 60], ['Tom', 100]]  \n",
    "\tprint(scores[2])    #['Tom', 100]  \n",
    "\tprint(scores[2][0])       #Tom  \n",
    "* 串列的操作\n",
    " * + 可以將串列連接起來\n",
    " * my_score1 = score1 + score2\t+ score3    結果是 ['John', 80, 'Richard', 60, 'Tom', 100]\n",
    "\t     注意：scores = [score1, score2, score3]   的結果是 [['John', 80], ['Richard', 60], ['Tom', 100]]，它是二維，結果不同\n",
    " * in 運算可以檢測有一資料是否為串列中的一個元素\n",
    " * if 'Richard' in score2     #結果為True \n",
    " * if 'Richard' in scores     #結果為False，因為它不是一個完整的元素\n",
    "\t  \n",
    "* 串列的函數操作\n",
    " * 參見p.6-16  \n",
    "\thttps://www.tutorialspoint.com/python/python_lists.htm"
   ]
  },
  {
   "cell_type": "code",
   "execution_count": 1,
   "metadata": {},
   "outputs": [
    {
     "name": "stdout",
     "output_type": "stream",
     "text": [
      "23\n",
      "30\n",
      "31\n",
      "40\n",
      "45\n"
     ]
    }
   ],
   "source": [
    "aList = [23, 30, 45,31, 40]\n",
    "\n",
    "aList.sort()\n",
    "for i in aList:\n",
    "    print(i)"
   ]
  },
  {
   "cell_type": "code",
   "execution_count": null,
   "metadata": {
    "collapsed": true
   },
   "outputs": [],
   "source": [
    "bList = []\n",
    "sum = 0\n",
    "for i in range(1, 3):\n",
    "    num = int(input())\n",
    "    bList.append(num)\n",
    "print(bList)"
   ]
  },
  {
   "cell_type": "code",
   "execution_count": null,
   "metadata": {
    "collapsed": true
   },
   "outputs": [],
   "source": [
    "# 程式7-9.py ( Python 3 version )\n",
    "\n",
    "def pick(x):\n",
    "    fruits = ['Apple', 'Banana', 'Orange', 'Tomato', 'Pine Apple', 'Berry']\n",
    "    return fruits[x]\n",
    "\n",
    "alist = [1, 4, 2, 5, 0, 3, 4, 4, 2]\n",
    "choices = map(pick, alist)\n",
    "for choice in choices:\n",
    "    print(choice)"
   ]
  },
  {
   "cell_type": "code",
   "execution_count": null,
   "metadata": {
    "collapsed": true
   },
   "outputs": [],
   "source": [
    "# _*_ coding: utf-8 _*_\n",
    "# 程式 7-13 (Python 3 version )\n",
    "import os\n",
    "class_101 = dict() #記錄學生座號及姓名\n",
    "chi_score = dict() #記錄國文成績\n",
    "eng_score = dict() #記錄英文成績\n",
    "mat_score = dict() #記錄數學成績\n",
    "subjects = [\"國文\", \"英文\", \"數學\"]\n",
    "scores  = [chi_score, eng_score, mat_score]\n",
    "\n",
    "def disp_menu():\n",
    "    os.system(\"clear\")\n",
    "    print(\"Class 101班級成績管理系統\")\n",
    "    print(\"-------------------------\")\n",
    "    print(\"1. 輸入學生姓名\")\n",
    "    print(\"2. 輸入國文成績\")\n",
    "    print(\"3. 輸入英文成績\")\n",
    "    print(\"4. 輸入數學成績\")\n",
    "    print(\"5. 顯示成績單\")\n",
    "    print(\"0. 結束程式\")\n",
    "    print(\"-------------------------\")\n",
    "\n",
    "def enter_std_data():\n",
    "    while True:\n",
    "        no = int(input(\"座號（0==>停止輸入）：\"))\n",
    "        if no <=0 or no >100: break\n",
    "        name = input(\"姓名：\")\n",
    "        class_101[no] = name\n",
    "        print(class_101)\n",
    "\n",
    "def enter_score(subject_no):\n",
    "    for no, name in class_101.items():\n",
    "        scores[subject_no][no] = \\\n",
    "          int(input(\"{},{}的{}成績:\". \\\n",
    "            format(no, name, subjects[subject_no])))\n",
    "    print(scores[subject_no])\n",
    "    x = input(\"按Enter返回主選單\")\n",
    "\n",
    "def disp_score_table():\n",
    "    for no in class_101.keys():\n",
    "        print(\"{:<5}:\".format(class_101[no]), end=\"\")\n",
    "        sum = 0\n",
    "        for subject_no in range(0,3):\n",
    "            sum = sum + scores[subject_no][no]\n",
    "            print(\"{}:{:>3} \".format(subjects[subject_no], \\\n",
    "              scores[subject_no][no]), end=\"\")\n",
    "        print(\"總分:{:>3}, 平均:{:.2f}\".format(sum, \\\n",
    "          float(sum)/len(scores)))\n",
    "    x = input(\"按Enter返回主選單\")\n",
    "\n",
    "\n",
    "### 主程式從這裡開始\n",
    "\n",
    "while True:\n",
    "    disp_menu()\n",
    "    user_choice = int(input(\"請輸入您的選擇：\"))\n",
    "    if user_choice==1:\n",
    "        enter_std_data()\n",
    "    elif user_choice>=2 and user_choice<=4:\n",
    "        enter_score(user_choice-2)\n",
    "    elif user_choice==5:\n",
    "        disp_score_table()\n",
    "    else:\n",
    "        break\n",
    "print(\"謝謝您的使用，再見！\")"
   ]
  },
  {
   "cell_type": "markdown",
   "metadata": {},
   "source": [
    "## 元組tuple"
   ]
  },
  {
   "cell_type": "markdown",
   "metadata": {},
   "source": [
    "* 資料結構和串列一樣，但是無法修改（因此除了修改元素內容的函數之外，元組都可以使用）\n",
    "* 設定元組變數時使用小括號( )，取出元素值時也是用中括號[]\n",
    "  * a = (1, 3, 5)\n",
    "\t  num = a[1]\n",
    "  *不可以改  a[2] =6\n",
    "   * num_tpl = tuple(range(10))  #(0, 1, 2, 3, 4, 5, 6, 7, 8, 9)\n",
    "\t\n",
    "* tuple運用：\n",
    "\t     format_A =\"Hello %s %s\"\n",
    "         values_B = (\"AA\",\"BB\")\n",
    "         print (format_A % values_B)\n",
    "\t\t \n",
    "* 綜合input跟tuple\n",
    "         format_A =\"你是 %s 歲的 %s\"\n",
    "         dataA = input(\"Hi: 請輸入你的年齡 \")\n",
    "         dataB = input(\"Hi: 請輸入你的職業 \")\n",
    "         values_B = (dataA, dataB)\n",
    "         print (format_A % values_B)"
   ]
  },
  {
   "cell_type": "markdown",
   "metadata": {},
   "source": [
    "## 字典dict"
   ]
  },
  {
   "cell_type": "markdown",
   "metadata": {},
   "source": [
    "* 字典包含鍵(key)和值(value)\n",
    "* 和串列的差別在於以鍵(key)當索引(index)，串列是以數字當索引元素的內容\n",
    " * key要是唯一值\n",
    " * 元素的內容沒有先後次序\n",
    " * 元素內容是以大括號刮起來，存取元素值時也是用中括號[]\n",
    " * 設定\n",
    "   * a_dict = {}    #先宣告a_list是一字典\n",
    "\t a_list['Tom'] = 100\n",
    "\t a_list['Richard'] = 80   # a_list的內容為  {'Tom': 100, 'Richard': 80}\n",
    "\t print(a_list['Tom'])     # 100\n",
    "   * 但是設定方式不可以用 a_dict = {'Tom', 100}，會被看作是集合set\n",
    "\t* print(a_list['Tom'])\n",
    "\t* 字典的函式請參見p.6-19\n",
    "\t\n",
    "\t字典中也可以放字典\n",
    "inventory = {  \n",
    "    'coin' : 500,  \n",
    "    'wallet' : ['student ID', 'key'],   \n",
    "    'backpack' : {'iphone':2,'NB':1, 'book':3, 'apple':2}  \n",
    "    }  \n",
    "inventory[\"wallet\"].append(\"earphone\")  \n",
    "inventory['wallet'].sort()   \n",
    "inventory[\"backpack\"][\"book\"]=5  \n",
    "inventory[\"coin\"]+=50  \n",
    "print(inventory)  \n",
    "  \n",
    "* 字典清空（兩種方法）：\n",
    "inventory.clear()  \n",
    "inventory = {}"
   ]
  },
  {
   "cell_type": "code",
   "execution_count": 9,
   "metadata": {},
   "outputs": [
    {
     "name": "stdout",
     "output_type": "stream",
     "text": [
      "dict_keys(['coin', 'wallet', 'backpack'])\n",
      "dict_keys(['iphone', 'NB', 'book', 'apple'])\n"
     ]
    }
   ],
   "source": [
    "inventory = {\n",
    "    'coin' : 500,\n",
    "    'wallet' : ['student ID', 'key'], \n",
    "    'backpack' : {'iphone':2,'NB':1, 'book':3, 'apple':2}\n",
    "    }\n",
    "print(inventory.keys())\n",
    "print(inventory['backpack'].keys())"
   ]
  },
  {
   "cell_type": "code",
   "execution_count": null,
   "metadata": {
    "collapsed": true
   },
   "outputs": [],
   "source": [
    "# 程式 7-4.py (Python 3 version)\n",
    "adict = {'book':10, 'pen':3, 'earser':6, 'ruler':2}\n",
    "\n",
    "for key, value in adict.items():\n",
    "    if value < 5:\n",
    "      print(\"({},{})\".format(key, value))"
   ]
  },
  {
   "cell_type": "code",
   "execution_count": null,
   "metadata": {
    "collapsed": true
   },
   "outputs": [],
   "source": [
    "# _*_ coding: utf-8 _*_\n",
    "# 程式 7-13 (Python 3 version )\n",
    "import os\n",
    "class_101 = dict() #記錄學生座號及姓名\n",
    "chi_score = dict() #記錄國文成績\n",
    "eng_score = dict() #記錄英文成績\n",
    "mat_score = dict() #記錄數學成績\n",
    "subjects = [\"國文\", \"英文\", \"數學\"]\n",
    "scores  = [chi_score, eng_score, mat_score]\n",
    "\n",
    "def disp_menu():\n",
    "    os.system(\"clear\")\n",
    "    print(\"Class 101班級成績管理系統\")\n",
    "    print(\"-------------------------\")\n",
    "    print(\"1. 輸入學生姓名\")\n",
    "    print(\"2. 輸入國文成績\")\n",
    "    print(\"3. 輸入英文成績\")\n",
    "    print(\"4. 輸入數學成績\")\n",
    "    print(\"5. 顯示成績單\")\n",
    "    print(\"0. 結束程式\")\n",
    "    print(\"-------------------------\")\n",
    "\n",
    "def enter_std_data():\n",
    "    while True:\n",
    "        no = int(input(\"座號（0==>停止輸入）：\"))\n",
    "        if no <=0 or no >100: break\n",
    "        name = input(\"姓名：\")\n",
    "        class_101[no] = name\n",
    "        print(class_101)\n",
    "\n",
    "def enter_score(subject_no):\n",
    "    for no, name in class_101.items():\n",
    "        scores[subject_no][no] = \\\n",
    "          int(input(\"{},{}的{}成績:\". \\\n",
    "            format(no, name, subjects[subject_no])))\n",
    "    print(scores[subject_no])\n",
    "    x = input(\"按Enter返回主選單\")\n",
    "\n",
    "def disp_score_table():\n",
    "    for no in class_101.keys():\n",
    "        print(\"{:<5}:\".format(class_101[no]), end=\"\")\n",
    "        sum = 0\n",
    "        for subject_no in range(0,3):\n",
    "            sum = sum + scores[subject_no][no]\n",
    "            print(\"{}:{:>3} \".format(subjects[subject_no], \\\n",
    "              scores[subject_no][no]), end=\"\")\n",
    "        print(\"總分:{:>3}, 平均:{:.2f}\".format(sum, \\\n",
    "          float(sum)/len(scores)))\n",
    "    x = input(\"按Enter返回主選單\")\n",
    "\n",
    "\n",
    "### 主程式從這裡開始\n",
    "\n",
    "while True:\n",
    "    disp_menu()\n",
    "    user_choice = int(input(\"請輸入您的選擇：\"))\n",
    "    if user_choice==1:\n",
    "        enter_std_data()\n",
    "    elif user_choice>=2 and user_choice<=4:\n",
    "        enter_score(user_choice-2)\n",
    "    elif user_choice==5:\n",
    "        disp_score_table()\n",
    "    else:\n",
    "        break\n",
    "print(\"謝謝您的使用，再見！\")"
   ]
  },
  {
   "cell_type": "markdown",
   "metadata": {},
   "source": [
    "# 模組"
   ]
  },
  {
   "cell_type": "markdown",
   "metadata": {},
   "source": [
    "* 模組為數個函式集合的檔案，副檔名仍為.py\n",
    "* 套件為資料夾名稱，且資料夾中一定要有 _init_.py檔案，套件中可以再有子套件（也就是資料夾中可以有子資料夾，子資料夾中也要有）\n",
    "* 套件中可以有許多模組（也就是資料夾中有數個檔案）\n",
    "* 匯入模組的方式\n",
    " * import 模組名稱\n",
    "  * 也可以是 import 套件名稱.模組名稱 \n",
    " * import 模組名稱 as 新名稱  \n",
    "  * 如 import pandas as pd\n",
    " * from 模組名稱 import 函式名稱 （或變數名稱）\n",
    "  * 若要import數個函數，要用逗號隔開，也可以使用 * 表示全部的函數和變數名稱，但不建議，因為有可能出現同樣的名稱\n",
    " * from 套件名稱 import 模組名稱\n",
    "  *（如 from urllib.request import urlopen)\n",
    "  \n",
    "* 四種方式在使用函式時有差異\n",
    "  * 第三種  \n",
    "\t   sqrt(9)\n",
    "  * 除了第三種以外，使用函式時需要加上模組名稱，  \n",
    "\t   import math  \n",
    "\t   math.sqrt(9)"
   ]
  },
  {
   "cell_type": "markdown",
   "metadata": {},
   "source": [
    "# Random"
   ]
  },
  {
   "cell_type": "markdown",
   "metadata": {},
   "source": [
    "要import random\n",
    "\n",
    "random.random()\n",
    "用來隨機生成一個0到1之間的浮點數，包括零，不含1。\n",
    "\n",
    "random.randint(a, b)\n",
    "用來生成[a,b]之間的隨意整數，包括b。\n",
    "\n",
    "random.uniform(a,b)\n",
    "用來生成[a,b]之間的隨意浮點數，包括兩個邊界值。\n",
    "\n",
    "choice(seq)\n",
    "從一個非空序列選出隨機一個元素。seq泛指list，tuple，字符串等\n",
    "\n",
    "randrange(start, stop[, step = 1])\n",
    "這個就是random和range函數的合二為一了。但注意，range用法有變。\n",
    "\n",
    "random.shuffle(x[,random])\n",
    "正如函數名所表示的意思，shuffle，洗牌，將一個列表中的元素打亂。\n",
    "li = [1, 2, 3, 4, 5]\n",
    "random.shuffle(li)\n",
    "\n",
    "random.sample(sequence,k)\n",
    "\n",
    "sample，樣品，從有序列表中選k個作為一個片段返回。\n",
    "\n",
    "random.seed ( [x] )\n",
    "x:改變隨機數生成器的種子seed。如果你不了解其原理，你不必特別去設定seed，Python會幫你選擇seed。\n",
    "\n",
    "\n",
    "\n"
   ]
  },
  {
   "cell_type": "code",
   "execution_count": null,
   "metadata": {
    "collapsed": true
   },
   "outputs": [],
   "source": [
    "給定一個序列 xs = [1.0, 1, 2, \"Hello\"]\n",
    "\n",
    "random.choice(xs) -> 從 xs 中挑選一個\n",
    "random.choice(range(0, 100, 3)) -> 從 (0,3,6,...,99) 中挑選出一個\n",
    "random.randrange(0, 100, 3) -> 從 (0,3,6,...,99) 中挑選出一個 > 沒有實際的 range object 會被產生。\n",
    "random.randrange(10) -> 從 (0,1,2,...,9) 中挑選出一個\n",
    "random.sample(xs, k)\n",
    "從 xs 中挑選 k 個且不會被重複挑中。\n",
    "直接回傳新的序列，不會影響傳入的 xs。\n",
    "序列操作\n",
    "\n",
    "random.shuffle(xs) -> 將序列亂數排序。會改變 xs 狀態。\n",
    "\n",
    "狀態初始化\n",
    "\n",
    "random.seed(seed=None)\n",
    "\n",
    "預設為 None，會取 system time 當種子。\n",
    "同樣的種子保證同樣的亂數生成順序"
   ]
  },
  {
   "cell_type": "code",
   "execution_count": 22,
   "metadata": {},
   "outputs": [
    {
     "name": "stdout",
     "output_type": "stream",
     "text": [
      "10\t1\t7\t8\t10\t1\t4\t8\t8\t5\t\n",
      "83\t21\t5\t67\t63\t41\t9\t31\t95\t47\t"
     ]
    }
   ],
   "source": [
    "import random\n",
    "random.seed(10)\n",
    "for i in range(10):\n",
    "    print(random.randint(1, 10), end = '\\t')\n",
    "print()\n",
    "for i in range(10):\n",
    "    print(random.randrange(1, 100, 2), end = '\\t')"
   ]
  },
  {
   "cell_type": "code",
   "execution_count": null,
   "metadata": {
    "collapsed": true
   },
   "outputs": [],
   "source": [
    ">>> import random\n",
    ">>> random.choice(['apple', 'pear', 'banana'])\n",
    "'apple'\n",
    ">>> random.sample(range(100), 10)   # sampling without replacement\n",
    "[30, 83, 16, 4, 8, 81, 41, 50, 18, 33]\n",
    ">>> random.random()    # random float\n",
    "0.17970987693706186\n",
    ">>> random.randrange(6)    # random integer chosen from range(6)\n",
    "4"
   ]
  },
  {
   "cell_type": "code",
   "execution_count": 12,
   "metadata": {},
   "outputs": [
    {
     "name": "stdout",
     "output_type": "stream",
     "text": [
      "pear\n",
      "[63, 44, 15, 30, 55, 33, 75, 35, 1, 92]\n",
      "9\n",
      "[2, 1, 4, 3, 5]\n"
     ]
    }
   ],
   "source": [
    "import random\n",
    "print(random.choice(['apple', 'pear', 'banana']))\n",
    "a = random.sample(range(100), 10)\n",
    "print(a)\n",
    "print(random.randint(5, 10))  #產生5到10（包含）的亂數\n",
    "\n",
    "print()\n",
    "li = [1, 2, 3, 4, 5]\n",
    "random.shuffle(li)\n",
    "print(li)"
   ]
  },
  {
   "cell_type": "markdown",
   "metadata": {},
   "source": [
    "# 函式"
   ]
  },
  {
   "cell_type": "code",
   "execution_count": null,
   "metadata": {
    "collapsed": true
   },
   "outputs": [],
   "source": [
    "#def一個函式\n",
    "，將功能抽象成一個函數以方便其他模塊使用。\n",
    "# Python透過\":\"和縮排來管理語法\n",
    "#函數內沒有接受參數的情形\n",
    "\n",
    "def spam():\n",
    "    eggs = 12\n",
    "    return eggs, eggs*2, str(eggs)*2\n",
    "\n",
    "spam()  #呼叫函式\n",
    "\n",
    "\n",
    "def super_print(x):\n",
    "   for i in x:\n",
    "       print (i)\n",
    "\t   \n",
    "super_print(\"cool\")  #呼叫函式\n",
    "結果輸出：\n",
    "c\n",
    "o\n",
    "o\n",
    "l\n",
    "\n",
    "super_print([1,2,3,4,5])\n",
    "結果輸出：\n",
    "1\n",
    "2\n",
    "3\n",
    "4\n",
    "5\n",
    "\n",
    "super_print(13+5)  #會有錯誤，因為無法傳遞參數給x"
   ]
  },
  {
   "cell_type": "code",
   "execution_count": null,
   "metadata": {
    "collapsed": true
   },
   "outputs": [],
   "source": [
    "# 程式 6-1.py (Python 3.x version)\n",
    "# _*_ coding: utf-8 _*_\n",
    "\n",
    "def add2number(a, b):\n",
    "    global d\n",
    "    c = a + b\n",
    "    d = a + b\n",
    "    print(\"在函數中，(c={}, d={})\".format(c,d))\n",
    "    return c\n",
    "\n",
    "c = 10\n",
    "d = 99\n",
    "print(\"呼叫函數前，(c={}, d={})\".format(c,d))\n",
    "print(\"{} + {} = {}\".format(2, 2, add2number(2, 2)))\n",
    "print(\"函數呼叫後，(c={}, d={})\".format(c,d))"
   ]
  },
  {
   "cell_type": "code",
   "execution_count": null,
   "metadata": {
    "collapsed": true
   },
   "outputs": [],
   "source": [
    "# 程式7-10.py ( Python 3 version )\n",
    "\n",
    "import sympy\n",
    "a, b = 500,600\n",
    "numbers = range(a,b)\n",
    "prime_numbers = filter(sympy.isprime, numbers)\n",
    "print(\"Prime numbers({}-{}):\".format(a,b))\n",
    "for prime_number in prime_numbers:\n",
    "    print(prime_number, end=\",\")\n",
    "print()"
   ]
  },
  {
   "cell_type": "code",
   "execution_count": null,
   "metadata": {
    "collapsed": true
   },
   "outputs": [],
   "source": [
    "def calsum(*params):\n",
    "    total = 0\n",
    "    for param in params:\n",
    "        total += param\n",
    "    return total\n",
    "    \n",
    "print(\"不定數目參數範例：\")\n",
    "print(\"2 個參數：4 + 5 = %d\" % calsum(4,5))\n",
    "print(\"3 個參數：4 + 5 + 12 = %d\" % calsum(4,5,12))\n",
    "print(\"4 個參數：4 + 5 + 12 + 8 = %d\" % calsum(4,5,12,8))"
   ]
  },
  {
   "cell_type": "code",
   "execution_count": null,
   "metadata": {
    "collapsed": true
   },
   "outputs": [],
   "source": []
  },
  {
   "cell_type": "markdown",
   "metadata": {},
   "source": []
  },
  {
   "cell_type": "code",
   "execution_count": null,
   "metadata": {
    "collapsed": true
   },
   "outputs": [],
   "source": []
  },
  {
   "cell_type": "markdown",
   "metadata": {},
   "source": [
    "# 檔案存取"
   ]
  },
  {
   "cell_type": "markdown",
   "metadata": {},
   "source": [
    "* 開檔格式:\n",
    "\n",
    "    格式一：fp = open(\"檔案名稱\", \"檔案開啟模式\")  \n",
    "        fp = open('online_book_crowl.html','w', encoding = 'UTF-8')  \n",
    "    格式二：用於簡單的開啟動作，對檔案存取的指令行數較短時使用\n",
    "        with open(檔案名稱, 開檔模式) as fp:   #開檔格式可以是 'r'讀檔， 'w'寫入檔案， 'a' 寫入檔案最後面\n",
    "  \n",
    "  \n",
    "* 寫入檔案:  \n",
    "    fp.write(寫入的內容)\n",
    "\n",
    "* 讀取指令  \n",
    "    read( )       讀取整個檔案內容，以一個字串作輸出  \n",
    "    readline( )   每次讀取一行的內容  \n",
    "readlines( )  讀取整個檔案內容，以一個串列作輸出，串列的每個元素為一行\n",
    "\n",
    "* 範例：\n",
    "    #列出某一資料夾(第一個參數）底下的所有檔案，並輸出到檔案（第2個參數）  \n",
    "    例如輸入： python lch_file_1.py c:\\\\laich\\\\mind test.txt\n",
    "    \n"
   ]
  },
  {
   "cell_type": "code",
   "execution_count": null,
   "metadata": {
    "collapsed": true
   },
   "outputs": [],
   "source": [
    "import sys, os\n",
    "\n",
    "if len(sys.argv) <2:\n",
    "   print(\"用法：python lch_file_1.py <<target absolute_path>>\")\n",
    "   exit(1)\n",
    "\n",
    "sample_tree = os.walk(sys.argv[1])\n",
    "\n",
    "path =\"\"\n",
    "for dirname, subdir, files in sample_tree:\n",
    "   for file1 in files:\n",
    "      path += (dirname + \"\\\\\" + file1 + \"\\n\")\n",
    "\n",
    "with open(sys.argv[2], 'w') as fp:\n",
    "   fp.write(path)\n",
    "   \n",
    "print(\"已將資料儲存到{}\".format(sys.argv[2]))   \n",
    "print(path)"
   ]
  }
 ],
 "metadata": {
  "kernelspec": {
   "display_name": "Python 3",
   "language": "python",
   "name": "python3"
  },
  "language_info": {
   "codemirror_mode": {
    "name": "ipython",
    "version": 3
   },
   "file_extension": ".py",
   "mimetype": "text/x-python",
   "name": "python",
   "nbconvert_exporter": "python",
   "pygments_lexer": "ipython3",
   "version": "3.8.8"
  },
  "toc": {
   "base_numbering": 1,
   "nav_menu": {},
   "number_sections": true,
   "sideBar": true,
   "skip_h1_title": false,
   "title_cell": "Table of Contents",
   "title_sidebar": "Contents",
   "toc_cell": false,
   "toc_position": {},
   "toc_section_display": true,
   "toc_window_display": false
  }
 },
 "nbformat": 4,
 "nbformat_minor": 2
}
