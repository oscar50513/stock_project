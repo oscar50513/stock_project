{
 "cells": [
  {
   "cell_type": "markdown",
   "metadata": {},
   "source": [
    "## 取得證交所股價網址\n",
    "### 步驟:\n",
    " * 進入 https://www.twse.com.tw/zh/page/trading/exchange/STOCK_DAY.html 輸入需要查詢的股價代碼\n",
    " * 按下 F12 >> Network， 點選 查詢 按鈕。\n",
    " * Headers >>　General >> Request URL :找到請求回傳該檔股價內容的網址(如下)\n",
    " * 紅字為可以更改得項目：\n",
    "https://www.twse.com.tw/exchangeReport/STOCK_DAY?response=json&date=<font color = 'red'>202101</font>01&stockNo=<font color = 'red'>2892</font>&_=1631954825319\n",
    " * 使用 requests 套件 .get() 方法\n",
    " * 運用 .json() 將爬取到的資訊轉換為字典的資料型態"
   ]
  },
  {
   "cell_type": "code",
   "execution_count": 4,
   "metadata": {},
   "outputs": [
    {
     "name": "stdout",
     "output_type": "stream",
     "text": [
      "<Response [200]>\n",
      "\n",
      "stock:\n",
      " {'stat': 'OK', 'date': '20210101', 'title': '110年01月 2892 第一金           各日成交資訊', 'fields': ['日期', '成交股數', '成交金額', '開盤價', '最高價', '最低價', '收盤價', '漲跌價差', '成交筆數'], 'data': [['110/01/04', '16,825,924', '356,241,152', '21.25', '21.30', '21.10', '21.10', '-0.25', '5,677'], ['110/01/05', '11,583,857', '245,024,349', '21.10', '21.25', '21.05', '21.25', '+0.15', '4,357'], ['110/01/06', '16,223,033', '342,079,373', '21.15', '21.20', '21.00', '21.00', '-0.25', '6,089'], ['110/01/07', '13,894,006', '294,116,943', '21.00', '21.25', '21.00', '21.25', '+0.25', '4,411'], ['110/01/08', '26,914,103', '574,502,534', '21.25', '21.50', '21.15', '21.50', '+0.25', '6,805'], ['110/01/11', '14,977,789', '321,059,788', '21.50', '21.50', '21.35', '21.50', ' 0.00', '5,106'], ['110/01/12', '9,652,065', '205,510,423', '21.45', '21.45', '21.20', '21.30', '-0.20', '4,000'], ['110/01/13', '14,687,245', '312,683,820', '21.20', '21.40', '21.20', '21.25', '-0.05', '4,207'], ['110/01/14', '11,620,815', '247,220,712', '21.25', '21.35', '21.20', '21.30', '+0.05', '3,627'], ['110/01/15', '15,277,822', '323,345,791', '21.30', '21.35', '21.05', '21.05', '-0.25', '5,851'], ['110/01/18', '17,159,976', '358,804,466', '21.05', '21.05', '20.85', '20.95', '-0.10', '5,890'], ['110/01/19', '11,981,246', '250,707,181', '20.90', '21.00', '20.90', '20.90', '-0.05', '4,744'], ['110/01/20', '29,436,652', '607,453,981', '20.85', '20.85', '20.50', '20.50', '-0.40', '13,343'], ['110/01/21', '14,942,765', '307,741,404', '20.55', '20.75', '20.50', '20.50', ' 0.00', '6,221'], ['110/01/22', '22,306,652', '455,810,839', '20.50', '20.55', '20.40', '20.40', '-0.10', '7,809'], ['110/01/25', '12,404,234', '255,552,611', '20.40', '20.75', '20.40', '20.70', '+0.30', '4,301'], ['110/01/26', '14,965,595', '307,003,249', '20.60', '20.70', '20.45', '20.45', '-0.25', '6,261'], ['110/01/27', '14,966,579', '306,283,623', '20.50', '20.65', '20.40', '20.40', '-0.05', '4,339'], ['110/01/28', '16,563,541', '337,018,267', '20.40', '20.45', '20.30', '20.35', '-0.05', '6,731'], ['110/01/29', '27,351,943', '553,862,882', '20.30', '20.50', '20.20', '20.20', '-0.15', '10,138']], 'notes': ['符號說明:+/-/X表示漲/跌/不比價', '當日統計資訊含一般、零股、盤後定價、鉅額交易，不含拍賣、標購。', 'ETF證券代號第六碼為K、M、S、C者，表示該ETF以外幣交易。']}\n"
     ]
    }
   ],
   "source": [
    "import requests as req\n",
    "url = 'https://www.twse.com.tw/exchangeReport/STOCK_DAY?response=json&date=20210101&stockNo=2892&_=1631954825319'\n",
    "r = req.get(url)\n",
    "print(r)\n",
    "stock = r.json()\n",
    "print(\"\\nstock:\\n\", stock)"
   ]
  },
  {
   "cell_type": "code",
   "execution_count": 71,
   "metadata": {},
   "outputs": [
    {
     "name": "stdout",
     "output_type": "stream",
     "text": [
      "<class 'dict'>\n",
      "取得欄位: ['日期', '成交股數', '成交金額', '開盤價', '最高價', '最低價', '收盤價', '漲跌價差', '成交筆數']\n",
      "<class 'list'>\n"
     ]
    }
   ],
   "source": [
    "# 檢視資料型態與欄位\n",
    "print(type(stock))\n",
    "print(\"取得欄位:\", stock['fields'])\n",
    "print(type(stock['fields']))"
   ]
  },
  {
   "cell_type": "code",
   "execution_count": 22,
   "metadata": {},
   "outputs": [
    {
     "name": "stdout",
     "output_type": "stream",
     "text": [
      "輸入查詢的股價代碼:2330\n",
      "輸入要查詢的時間:2023\n",
      "https://www.twse.com.tw/exchangeReport/STOCK_DAY?response=json&date=20230101&stockNo=2330&_\n",
      "{'stat': '查詢日期大於今日，請重新查詢!'}\n"
     ]
    }
   ],
   "source": [
    "# 測試網址(超過現在時間)\n",
    "stock = input(\"輸入查詢的股價代碼:\")\n",
    "date = input(\"輸入要查詢的時間:\")\n",
    "url = 'https://www.twse.com.tw/exchangeReport/STOCK_DAY?response=json&date=' + str(date) + '0101&stockNo=' +  str(stock) + '&_'\n",
    "print(url)\n",
    "headers = {\n",
    "    'user-agent': 'Mozilla/5.0 (Windows NT 10.0; Win64; x64) AppleWebKit/537.36 (KHTML, like Gecko) Chrome/93.0.4577.82 Safari/537.36'\n",
    "}\n",
    "datas = req.get(url, headers = headers)\n",
    "stock = datas.json()\n",
    "print(stock)"
   ]
  },
  {
   "cell_type": "code",
   "execution_count": 26,
   "metadata": {},
   "outputs": [
    {
     "name": "stdout",
     "output_type": "stream",
     "text": [
      "查詢日期大於今日，請重新查詢!\n",
      "<class 'str'>\n",
      "error\n"
     ]
    }
   ],
   "source": [
    "stat = stock['stat']\n",
    "print(stat)\n",
    "print(type(stat))\n",
    "if stat == 'OK':\n",
    "    print('ok')\n",
    "else:\n",
    "    print('error')\n"
   ]
  },
  {
   "cell_type": "code",
   "execution_count": 31,
   "metadata": {
    "collapsed": true
   },
   "outputs": [
    {
     "name": "stdout",
     "output_type": "stream",
     "text": [
      "輸入查詢的股價代碼:0056\n",
      "輸入要查詢的年分:2020\n"
     ]
    },
    {
     "ename": "ConnectionError",
     "evalue": "('Connection aborted.', ConnectionResetError(10054, '遠端主機已強制關閉一個現存的連線。', None, 10054, None))",
     "output_type": "error",
     "traceback": [
      "\u001b[1;31m---------------------------------------------------------------------------\u001b[0m",
      "\u001b[1;31mConnectionResetError\u001b[0m                      Traceback (most recent call last)",
      "\u001b[1;32m~\\anaconda3\\lib\\site-packages\\urllib3\\connectionpool.py\u001b[0m in \u001b[0;36murlopen\u001b[1;34m(self, method, url, body, headers, retries, redirect, assert_same_host, timeout, pool_timeout, release_conn, chunked, body_pos, **response_kw)\u001b[0m\n\u001b[0;32m    698\u001b[0m             \u001b[1;31m# Make the request on the httplib connection object.\u001b[0m\u001b[1;33m\u001b[0m\u001b[1;33m\u001b[0m\u001b[1;33m\u001b[0m\u001b[0m\n\u001b[1;32m--> 699\u001b[1;33m             httplib_response = self._make_request(\n\u001b[0m\u001b[0;32m    700\u001b[0m                 \u001b[0mconn\u001b[0m\u001b[1;33m,\u001b[0m\u001b[1;33m\u001b[0m\u001b[1;33m\u001b[0m\u001b[0m\n",
      "\u001b[1;32m~\\anaconda3\\lib\\site-packages\\urllib3\\connectionpool.py\u001b[0m in \u001b[0;36m_make_request\u001b[1;34m(self, conn, method, url, timeout, chunked, **httplib_request_kw)\u001b[0m\n\u001b[0;32m    444\u001b[0m                     \u001b[1;31m# Otherwise it looks like a bug in the code.\u001b[0m\u001b[1;33m\u001b[0m\u001b[1;33m\u001b[0m\u001b[1;33m\u001b[0m\u001b[0m\n\u001b[1;32m--> 445\u001b[1;33m                     \u001b[0msix\u001b[0m\u001b[1;33m.\u001b[0m\u001b[0mraise_from\u001b[0m\u001b[1;33m(\u001b[0m\u001b[0me\u001b[0m\u001b[1;33m,\u001b[0m \u001b[1;32mNone\u001b[0m\u001b[1;33m)\u001b[0m\u001b[1;33m\u001b[0m\u001b[1;33m\u001b[0m\u001b[0m\n\u001b[0m\u001b[0;32m    446\u001b[0m         \u001b[1;32mexcept\u001b[0m \u001b[1;33m(\u001b[0m\u001b[0mSocketTimeout\u001b[0m\u001b[1;33m,\u001b[0m \u001b[0mBaseSSLError\u001b[0m\u001b[1;33m,\u001b[0m \u001b[0mSocketError\u001b[0m\u001b[1;33m)\u001b[0m \u001b[1;32mas\u001b[0m \u001b[0me\u001b[0m\u001b[1;33m:\u001b[0m\u001b[1;33m\u001b[0m\u001b[1;33m\u001b[0m\u001b[0m\n",
      "\u001b[1;32m~\\anaconda3\\lib\\site-packages\\urllib3\\packages\\six.py\u001b[0m in \u001b[0;36mraise_from\u001b[1;34m(value, from_value)\u001b[0m\n",
      "\u001b[1;32m~\\anaconda3\\lib\\site-packages\\urllib3\\connectionpool.py\u001b[0m in \u001b[0;36m_make_request\u001b[1;34m(self, conn, method, url, timeout, chunked, **httplib_request_kw)\u001b[0m\n\u001b[0;32m    439\u001b[0m                 \u001b[1;32mtry\u001b[0m\u001b[1;33m:\u001b[0m\u001b[1;33m\u001b[0m\u001b[1;33m\u001b[0m\u001b[0m\n\u001b[1;32m--> 440\u001b[1;33m                     \u001b[0mhttplib_response\u001b[0m \u001b[1;33m=\u001b[0m \u001b[0mconn\u001b[0m\u001b[1;33m.\u001b[0m\u001b[0mgetresponse\u001b[0m\u001b[1;33m(\u001b[0m\u001b[1;33m)\u001b[0m\u001b[1;33m\u001b[0m\u001b[1;33m\u001b[0m\u001b[0m\n\u001b[0m\u001b[0;32m    441\u001b[0m                 \u001b[1;32mexcept\u001b[0m \u001b[0mBaseException\u001b[0m \u001b[1;32mas\u001b[0m \u001b[0me\u001b[0m\u001b[1;33m:\u001b[0m\u001b[1;33m\u001b[0m\u001b[1;33m\u001b[0m\u001b[0m\n",
      "\u001b[1;32m~\\anaconda3\\lib\\http\\client.py\u001b[0m in \u001b[0;36mgetresponse\u001b[1;34m(self)\u001b[0m\n\u001b[0;32m   1347\u001b[0m             \u001b[1;32mtry\u001b[0m\u001b[1;33m:\u001b[0m\u001b[1;33m\u001b[0m\u001b[1;33m\u001b[0m\u001b[0m\n\u001b[1;32m-> 1348\u001b[1;33m                 \u001b[0mresponse\u001b[0m\u001b[1;33m.\u001b[0m\u001b[0mbegin\u001b[0m\u001b[1;33m(\u001b[0m\u001b[1;33m)\u001b[0m\u001b[1;33m\u001b[0m\u001b[1;33m\u001b[0m\u001b[0m\n\u001b[0m\u001b[0;32m   1349\u001b[0m             \u001b[1;32mexcept\u001b[0m \u001b[0mConnectionError\u001b[0m\u001b[1;33m:\u001b[0m\u001b[1;33m\u001b[0m\u001b[1;33m\u001b[0m\u001b[0m\n",
      "\u001b[1;32m~\\anaconda3\\lib\\http\\client.py\u001b[0m in \u001b[0;36mbegin\u001b[1;34m(self)\u001b[0m\n\u001b[0;32m    315\u001b[0m         \u001b[1;32mwhile\u001b[0m \u001b[1;32mTrue\u001b[0m\u001b[1;33m:\u001b[0m\u001b[1;33m\u001b[0m\u001b[1;33m\u001b[0m\u001b[0m\n\u001b[1;32m--> 316\u001b[1;33m             \u001b[0mversion\u001b[0m\u001b[1;33m,\u001b[0m \u001b[0mstatus\u001b[0m\u001b[1;33m,\u001b[0m \u001b[0mreason\u001b[0m \u001b[1;33m=\u001b[0m \u001b[0mself\u001b[0m\u001b[1;33m.\u001b[0m\u001b[0m_read_status\u001b[0m\u001b[1;33m(\u001b[0m\u001b[1;33m)\u001b[0m\u001b[1;33m\u001b[0m\u001b[1;33m\u001b[0m\u001b[0m\n\u001b[0m\u001b[0;32m    317\u001b[0m             \u001b[1;32mif\u001b[0m \u001b[0mstatus\u001b[0m \u001b[1;33m!=\u001b[0m \u001b[0mCONTINUE\u001b[0m\u001b[1;33m:\u001b[0m\u001b[1;33m\u001b[0m\u001b[1;33m\u001b[0m\u001b[0m\n",
      "\u001b[1;32m~\\anaconda3\\lib\\http\\client.py\u001b[0m in \u001b[0;36m_read_status\u001b[1;34m(self)\u001b[0m\n\u001b[0;32m    276\u001b[0m     \u001b[1;32mdef\u001b[0m \u001b[0m_read_status\u001b[0m\u001b[1;33m(\u001b[0m\u001b[0mself\u001b[0m\u001b[1;33m)\u001b[0m\u001b[1;33m:\u001b[0m\u001b[1;33m\u001b[0m\u001b[1;33m\u001b[0m\u001b[0m\n\u001b[1;32m--> 277\u001b[1;33m         \u001b[0mline\u001b[0m \u001b[1;33m=\u001b[0m \u001b[0mstr\u001b[0m\u001b[1;33m(\u001b[0m\u001b[0mself\u001b[0m\u001b[1;33m.\u001b[0m\u001b[0mfp\u001b[0m\u001b[1;33m.\u001b[0m\u001b[0mreadline\u001b[0m\u001b[1;33m(\u001b[0m\u001b[0m_MAXLINE\u001b[0m \u001b[1;33m+\u001b[0m \u001b[1;36m1\u001b[0m\u001b[1;33m)\u001b[0m\u001b[1;33m,\u001b[0m \u001b[1;34m\"iso-8859-1\"\u001b[0m\u001b[1;33m)\u001b[0m\u001b[1;33m\u001b[0m\u001b[1;33m\u001b[0m\u001b[0m\n\u001b[0m\u001b[0;32m    278\u001b[0m         \u001b[1;32mif\u001b[0m \u001b[0mlen\u001b[0m\u001b[1;33m(\u001b[0m\u001b[0mline\u001b[0m\u001b[1;33m)\u001b[0m \u001b[1;33m>\u001b[0m \u001b[0m_MAXLINE\u001b[0m\u001b[1;33m:\u001b[0m\u001b[1;33m\u001b[0m\u001b[1;33m\u001b[0m\u001b[0m\n",
      "\u001b[1;32m~\\anaconda3\\lib\\socket.py\u001b[0m in \u001b[0;36mreadinto\u001b[1;34m(self, b)\u001b[0m\n\u001b[0;32m    668\u001b[0m             \u001b[1;32mtry\u001b[0m\u001b[1;33m:\u001b[0m\u001b[1;33m\u001b[0m\u001b[1;33m\u001b[0m\u001b[0m\n\u001b[1;32m--> 669\u001b[1;33m                 \u001b[1;32mreturn\u001b[0m \u001b[0mself\u001b[0m\u001b[1;33m.\u001b[0m\u001b[0m_sock\u001b[0m\u001b[1;33m.\u001b[0m\u001b[0mrecv_into\u001b[0m\u001b[1;33m(\u001b[0m\u001b[0mb\u001b[0m\u001b[1;33m)\u001b[0m\u001b[1;33m\u001b[0m\u001b[1;33m\u001b[0m\u001b[0m\n\u001b[0m\u001b[0;32m    670\u001b[0m             \u001b[1;32mexcept\u001b[0m \u001b[0mtimeout\u001b[0m\u001b[1;33m:\u001b[0m\u001b[1;33m\u001b[0m\u001b[1;33m\u001b[0m\u001b[0m\n",
      "\u001b[1;32m~\\anaconda3\\lib\\ssl.py\u001b[0m in \u001b[0;36mrecv_into\u001b[1;34m(self, buffer, nbytes, flags)\u001b[0m\n\u001b[0;32m   1240\u001b[0m                   self.__class__)\n\u001b[1;32m-> 1241\u001b[1;33m             \u001b[1;32mreturn\u001b[0m \u001b[0mself\u001b[0m\u001b[1;33m.\u001b[0m\u001b[0mread\u001b[0m\u001b[1;33m(\u001b[0m\u001b[0mnbytes\u001b[0m\u001b[1;33m,\u001b[0m \u001b[0mbuffer\u001b[0m\u001b[1;33m)\u001b[0m\u001b[1;33m\u001b[0m\u001b[1;33m\u001b[0m\u001b[0m\n\u001b[0m\u001b[0;32m   1242\u001b[0m         \u001b[1;32melse\u001b[0m\u001b[1;33m:\u001b[0m\u001b[1;33m\u001b[0m\u001b[1;33m\u001b[0m\u001b[0m\n",
      "\u001b[1;32m~\\anaconda3\\lib\\ssl.py\u001b[0m in \u001b[0;36mread\u001b[1;34m(self, len, buffer)\u001b[0m\n\u001b[0;32m   1098\u001b[0m             \u001b[1;32mif\u001b[0m \u001b[0mbuffer\u001b[0m \u001b[1;32mis\u001b[0m \u001b[1;32mnot\u001b[0m \u001b[1;32mNone\u001b[0m\u001b[1;33m:\u001b[0m\u001b[1;33m\u001b[0m\u001b[1;33m\u001b[0m\u001b[0m\n\u001b[1;32m-> 1099\u001b[1;33m                 \u001b[1;32mreturn\u001b[0m \u001b[0mself\u001b[0m\u001b[1;33m.\u001b[0m\u001b[0m_sslobj\u001b[0m\u001b[1;33m.\u001b[0m\u001b[0mread\u001b[0m\u001b[1;33m(\u001b[0m\u001b[0mlen\u001b[0m\u001b[1;33m,\u001b[0m \u001b[0mbuffer\u001b[0m\u001b[1;33m)\u001b[0m\u001b[1;33m\u001b[0m\u001b[1;33m\u001b[0m\u001b[0m\n\u001b[0m\u001b[0;32m   1100\u001b[0m             \u001b[1;32melse\u001b[0m\u001b[1;33m:\u001b[0m\u001b[1;33m\u001b[0m\u001b[1;33m\u001b[0m\u001b[0m\n",
      "\u001b[1;31mConnectionResetError\u001b[0m: [WinError 10054] 遠端主機已強制關閉一個現存的連線。",
      "\nDuring handling of the above exception, another exception occurred:\n",
      "\u001b[1;31mProtocolError\u001b[0m                             Traceback (most recent call last)",
      "\u001b[1;32m~\\anaconda3\\lib\\site-packages\\requests\\adapters.py\u001b[0m in \u001b[0;36msend\u001b[1;34m(self, request, stream, timeout, verify, cert, proxies)\u001b[0m\n\u001b[0;32m    438\u001b[0m             \u001b[1;32mif\u001b[0m \u001b[1;32mnot\u001b[0m \u001b[0mchunked\u001b[0m\u001b[1;33m:\u001b[0m\u001b[1;33m\u001b[0m\u001b[1;33m\u001b[0m\u001b[0m\n\u001b[1;32m--> 439\u001b[1;33m                 resp = conn.urlopen(\n\u001b[0m\u001b[0;32m    440\u001b[0m                     \u001b[0mmethod\u001b[0m\u001b[1;33m=\u001b[0m\u001b[0mrequest\u001b[0m\u001b[1;33m.\u001b[0m\u001b[0mmethod\u001b[0m\u001b[1;33m,\u001b[0m\u001b[1;33m\u001b[0m\u001b[1;33m\u001b[0m\u001b[0m\n",
      "\u001b[1;32m~\\anaconda3\\lib\\site-packages\\urllib3\\connectionpool.py\u001b[0m in \u001b[0;36murlopen\u001b[1;34m(self, method, url, body, headers, retries, redirect, assert_same_host, timeout, pool_timeout, release_conn, chunked, body_pos, **response_kw)\u001b[0m\n\u001b[0;32m    754\u001b[0m \u001b[1;33m\u001b[0m\u001b[0m\n\u001b[1;32m--> 755\u001b[1;33m             retries = retries.increment(\n\u001b[0m\u001b[0;32m    756\u001b[0m                 \u001b[0mmethod\u001b[0m\u001b[1;33m,\u001b[0m \u001b[0murl\u001b[0m\u001b[1;33m,\u001b[0m \u001b[0merror\u001b[0m\u001b[1;33m=\u001b[0m\u001b[0me\u001b[0m\u001b[1;33m,\u001b[0m \u001b[0m_pool\u001b[0m\u001b[1;33m=\u001b[0m\u001b[0mself\u001b[0m\u001b[1;33m,\u001b[0m \u001b[0m_stacktrace\u001b[0m\u001b[1;33m=\u001b[0m\u001b[0msys\u001b[0m\u001b[1;33m.\u001b[0m\u001b[0mexc_info\u001b[0m\u001b[1;33m(\u001b[0m\u001b[1;33m)\u001b[0m\u001b[1;33m[\u001b[0m\u001b[1;36m2\u001b[0m\u001b[1;33m]\u001b[0m\u001b[1;33m\u001b[0m\u001b[1;33m\u001b[0m\u001b[0m\n",
      "\u001b[1;32m~\\anaconda3\\lib\\site-packages\\urllib3\\util\\retry.py\u001b[0m in \u001b[0;36mincrement\u001b[1;34m(self, method, url, response, error, _pool, _stacktrace)\u001b[0m\n\u001b[0;32m    531\u001b[0m             \u001b[1;32mif\u001b[0m \u001b[0mread\u001b[0m \u001b[1;32mis\u001b[0m \u001b[1;32mFalse\u001b[0m \u001b[1;32mor\u001b[0m \u001b[1;32mnot\u001b[0m \u001b[0mself\u001b[0m\u001b[1;33m.\u001b[0m\u001b[0m_is_method_retryable\u001b[0m\u001b[1;33m(\u001b[0m\u001b[0mmethod\u001b[0m\u001b[1;33m)\u001b[0m\u001b[1;33m:\u001b[0m\u001b[1;33m\u001b[0m\u001b[1;33m\u001b[0m\u001b[0m\n\u001b[1;32m--> 532\u001b[1;33m                 \u001b[1;32mraise\u001b[0m \u001b[0msix\u001b[0m\u001b[1;33m.\u001b[0m\u001b[0mreraise\u001b[0m\u001b[1;33m(\u001b[0m\u001b[0mtype\u001b[0m\u001b[1;33m(\u001b[0m\u001b[0merror\u001b[0m\u001b[1;33m)\u001b[0m\u001b[1;33m,\u001b[0m \u001b[0merror\u001b[0m\u001b[1;33m,\u001b[0m \u001b[0m_stacktrace\u001b[0m\u001b[1;33m)\u001b[0m\u001b[1;33m\u001b[0m\u001b[1;33m\u001b[0m\u001b[0m\n\u001b[0m\u001b[0;32m    533\u001b[0m             \u001b[1;32melif\u001b[0m \u001b[0mread\u001b[0m \u001b[1;32mis\u001b[0m \u001b[1;32mnot\u001b[0m \u001b[1;32mNone\u001b[0m\u001b[1;33m:\u001b[0m\u001b[1;33m\u001b[0m\u001b[1;33m\u001b[0m\u001b[0m\n",
      "\u001b[1;32m~\\anaconda3\\lib\\site-packages\\urllib3\\packages\\six.py\u001b[0m in \u001b[0;36mreraise\u001b[1;34m(tp, value, tb)\u001b[0m\n\u001b[0;32m    768\u001b[0m             \u001b[1;32mif\u001b[0m \u001b[0mvalue\u001b[0m\u001b[1;33m.\u001b[0m\u001b[0m__traceback__\u001b[0m \u001b[1;32mis\u001b[0m \u001b[1;32mnot\u001b[0m \u001b[0mtb\u001b[0m\u001b[1;33m:\u001b[0m\u001b[1;33m\u001b[0m\u001b[1;33m\u001b[0m\u001b[0m\n\u001b[1;32m--> 769\u001b[1;33m                 \u001b[1;32mraise\u001b[0m \u001b[0mvalue\u001b[0m\u001b[1;33m.\u001b[0m\u001b[0mwith_traceback\u001b[0m\u001b[1;33m(\u001b[0m\u001b[0mtb\u001b[0m\u001b[1;33m)\u001b[0m\u001b[1;33m\u001b[0m\u001b[1;33m\u001b[0m\u001b[0m\n\u001b[0m\u001b[0;32m    770\u001b[0m             \u001b[1;32mraise\u001b[0m \u001b[0mvalue\u001b[0m\u001b[1;33m\u001b[0m\u001b[1;33m\u001b[0m\u001b[0m\n",
      "\u001b[1;32m~\\anaconda3\\lib\\site-packages\\urllib3\\connectionpool.py\u001b[0m in \u001b[0;36murlopen\u001b[1;34m(self, method, url, body, headers, retries, redirect, assert_same_host, timeout, pool_timeout, release_conn, chunked, body_pos, **response_kw)\u001b[0m\n\u001b[0;32m    698\u001b[0m             \u001b[1;31m# Make the request on the httplib connection object.\u001b[0m\u001b[1;33m\u001b[0m\u001b[1;33m\u001b[0m\u001b[1;33m\u001b[0m\u001b[0m\n\u001b[1;32m--> 699\u001b[1;33m             httplib_response = self._make_request(\n\u001b[0m\u001b[0;32m    700\u001b[0m                 \u001b[0mconn\u001b[0m\u001b[1;33m,\u001b[0m\u001b[1;33m\u001b[0m\u001b[1;33m\u001b[0m\u001b[0m\n",
      "\u001b[1;32m~\\anaconda3\\lib\\site-packages\\urllib3\\connectionpool.py\u001b[0m in \u001b[0;36m_make_request\u001b[1;34m(self, conn, method, url, timeout, chunked, **httplib_request_kw)\u001b[0m\n\u001b[0;32m    444\u001b[0m                     \u001b[1;31m# Otherwise it looks like a bug in the code.\u001b[0m\u001b[1;33m\u001b[0m\u001b[1;33m\u001b[0m\u001b[1;33m\u001b[0m\u001b[0m\n\u001b[1;32m--> 445\u001b[1;33m                     \u001b[0msix\u001b[0m\u001b[1;33m.\u001b[0m\u001b[0mraise_from\u001b[0m\u001b[1;33m(\u001b[0m\u001b[0me\u001b[0m\u001b[1;33m,\u001b[0m \u001b[1;32mNone\u001b[0m\u001b[1;33m)\u001b[0m\u001b[1;33m\u001b[0m\u001b[1;33m\u001b[0m\u001b[0m\n\u001b[0m\u001b[0;32m    446\u001b[0m         \u001b[1;32mexcept\u001b[0m \u001b[1;33m(\u001b[0m\u001b[0mSocketTimeout\u001b[0m\u001b[1;33m,\u001b[0m \u001b[0mBaseSSLError\u001b[0m\u001b[1;33m,\u001b[0m \u001b[0mSocketError\u001b[0m\u001b[1;33m)\u001b[0m \u001b[1;32mas\u001b[0m \u001b[0me\u001b[0m\u001b[1;33m:\u001b[0m\u001b[1;33m\u001b[0m\u001b[1;33m\u001b[0m\u001b[0m\n",
      "\u001b[1;32m~\\anaconda3\\lib\\site-packages\\urllib3\\packages\\six.py\u001b[0m in \u001b[0;36mraise_from\u001b[1;34m(value, from_value)\u001b[0m\n",
      "\u001b[1;32m~\\anaconda3\\lib\\site-packages\\urllib3\\connectionpool.py\u001b[0m in \u001b[0;36m_make_request\u001b[1;34m(self, conn, method, url, timeout, chunked, **httplib_request_kw)\u001b[0m\n\u001b[0;32m    439\u001b[0m                 \u001b[1;32mtry\u001b[0m\u001b[1;33m:\u001b[0m\u001b[1;33m\u001b[0m\u001b[1;33m\u001b[0m\u001b[0m\n\u001b[1;32m--> 440\u001b[1;33m                     \u001b[0mhttplib_response\u001b[0m \u001b[1;33m=\u001b[0m \u001b[0mconn\u001b[0m\u001b[1;33m.\u001b[0m\u001b[0mgetresponse\u001b[0m\u001b[1;33m(\u001b[0m\u001b[1;33m)\u001b[0m\u001b[1;33m\u001b[0m\u001b[1;33m\u001b[0m\u001b[0m\n\u001b[0m\u001b[0;32m    441\u001b[0m                 \u001b[1;32mexcept\u001b[0m \u001b[0mBaseException\u001b[0m \u001b[1;32mas\u001b[0m \u001b[0me\u001b[0m\u001b[1;33m:\u001b[0m\u001b[1;33m\u001b[0m\u001b[1;33m\u001b[0m\u001b[0m\n",
      "\u001b[1;32m~\\anaconda3\\lib\\http\\client.py\u001b[0m in \u001b[0;36mgetresponse\u001b[1;34m(self)\u001b[0m\n\u001b[0;32m   1347\u001b[0m             \u001b[1;32mtry\u001b[0m\u001b[1;33m:\u001b[0m\u001b[1;33m\u001b[0m\u001b[1;33m\u001b[0m\u001b[0m\n\u001b[1;32m-> 1348\u001b[1;33m                 \u001b[0mresponse\u001b[0m\u001b[1;33m.\u001b[0m\u001b[0mbegin\u001b[0m\u001b[1;33m(\u001b[0m\u001b[1;33m)\u001b[0m\u001b[1;33m\u001b[0m\u001b[1;33m\u001b[0m\u001b[0m\n\u001b[0m\u001b[0;32m   1349\u001b[0m             \u001b[1;32mexcept\u001b[0m \u001b[0mConnectionError\u001b[0m\u001b[1;33m:\u001b[0m\u001b[1;33m\u001b[0m\u001b[1;33m\u001b[0m\u001b[0m\n",
      "\u001b[1;32m~\\anaconda3\\lib\\http\\client.py\u001b[0m in \u001b[0;36mbegin\u001b[1;34m(self)\u001b[0m\n\u001b[0;32m    315\u001b[0m         \u001b[1;32mwhile\u001b[0m \u001b[1;32mTrue\u001b[0m\u001b[1;33m:\u001b[0m\u001b[1;33m\u001b[0m\u001b[1;33m\u001b[0m\u001b[0m\n\u001b[1;32m--> 316\u001b[1;33m             \u001b[0mversion\u001b[0m\u001b[1;33m,\u001b[0m \u001b[0mstatus\u001b[0m\u001b[1;33m,\u001b[0m \u001b[0mreason\u001b[0m \u001b[1;33m=\u001b[0m \u001b[0mself\u001b[0m\u001b[1;33m.\u001b[0m\u001b[0m_read_status\u001b[0m\u001b[1;33m(\u001b[0m\u001b[1;33m)\u001b[0m\u001b[1;33m\u001b[0m\u001b[1;33m\u001b[0m\u001b[0m\n\u001b[0m\u001b[0;32m    317\u001b[0m             \u001b[1;32mif\u001b[0m \u001b[0mstatus\u001b[0m \u001b[1;33m!=\u001b[0m \u001b[0mCONTINUE\u001b[0m\u001b[1;33m:\u001b[0m\u001b[1;33m\u001b[0m\u001b[1;33m\u001b[0m\u001b[0m\n",
      "\u001b[1;32m~\\anaconda3\\lib\\http\\client.py\u001b[0m in \u001b[0;36m_read_status\u001b[1;34m(self)\u001b[0m\n\u001b[0;32m    276\u001b[0m     \u001b[1;32mdef\u001b[0m \u001b[0m_read_status\u001b[0m\u001b[1;33m(\u001b[0m\u001b[0mself\u001b[0m\u001b[1;33m)\u001b[0m\u001b[1;33m:\u001b[0m\u001b[1;33m\u001b[0m\u001b[1;33m\u001b[0m\u001b[0m\n\u001b[1;32m--> 277\u001b[1;33m         \u001b[0mline\u001b[0m \u001b[1;33m=\u001b[0m \u001b[0mstr\u001b[0m\u001b[1;33m(\u001b[0m\u001b[0mself\u001b[0m\u001b[1;33m.\u001b[0m\u001b[0mfp\u001b[0m\u001b[1;33m.\u001b[0m\u001b[0mreadline\u001b[0m\u001b[1;33m(\u001b[0m\u001b[0m_MAXLINE\u001b[0m \u001b[1;33m+\u001b[0m \u001b[1;36m1\u001b[0m\u001b[1;33m)\u001b[0m\u001b[1;33m,\u001b[0m \u001b[1;34m\"iso-8859-1\"\u001b[0m\u001b[1;33m)\u001b[0m\u001b[1;33m\u001b[0m\u001b[1;33m\u001b[0m\u001b[0m\n\u001b[0m\u001b[0;32m    278\u001b[0m         \u001b[1;32mif\u001b[0m \u001b[0mlen\u001b[0m\u001b[1;33m(\u001b[0m\u001b[0mline\u001b[0m\u001b[1;33m)\u001b[0m \u001b[1;33m>\u001b[0m \u001b[0m_MAXLINE\u001b[0m\u001b[1;33m:\u001b[0m\u001b[1;33m\u001b[0m\u001b[1;33m\u001b[0m\u001b[0m\n",
      "\u001b[1;32m~\\anaconda3\\lib\\socket.py\u001b[0m in \u001b[0;36mreadinto\u001b[1;34m(self, b)\u001b[0m\n\u001b[0;32m    668\u001b[0m             \u001b[1;32mtry\u001b[0m\u001b[1;33m:\u001b[0m\u001b[1;33m\u001b[0m\u001b[1;33m\u001b[0m\u001b[0m\n\u001b[1;32m--> 669\u001b[1;33m                 \u001b[1;32mreturn\u001b[0m \u001b[0mself\u001b[0m\u001b[1;33m.\u001b[0m\u001b[0m_sock\u001b[0m\u001b[1;33m.\u001b[0m\u001b[0mrecv_into\u001b[0m\u001b[1;33m(\u001b[0m\u001b[0mb\u001b[0m\u001b[1;33m)\u001b[0m\u001b[1;33m\u001b[0m\u001b[1;33m\u001b[0m\u001b[0m\n\u001b[0m\u001b[0;32m    670\u001b[0m             \u001b[1;32mexcept\u001b[0m \u001b[0mtimeout\u001b[0m\u001b[1;33m:\u001b[0m\u001b[1;33m\u001b[0m\u001b[1;33m\u001b[0m\u001b[0m\n",
      "\u001b[1;32m~\\anaconda3\\lib\\ssl.py\u001b[0m in \u001b[0;36mrecv_into\u001b[1;34m(self, buffer, nbytes, flags)\u001b[0m\n\u001b[0;32m   1240\u001b[0m                   self.__class__)\n\u001b[1;32m-> 1241\u001b[1;33m             \u001b[1;32mreturn\u001b[0m \u001b[0mself\u001b[0m\u001b[1;33m.\u001b[0m\u001b[0mread\u001b[0m\u001b[1;33m(\u001b[0m\u001b[0mnbytes\u001b[0m\u001b[1;33m,\u001b[0m \u001b[0mbuffer\u001b[0m\u001b[1;33m)\u001b[0m\u001b[1;33m\u001b[0m\u001b[1;33m\u001b[0m\u001b[0m\n\u001b[0m\u001b[0;32m   1242\u001b[0m         \u001b[1;32melse\u001b[0m\u001b[1;33m:\u001b[0m\u001b[1;33m\u001b[0m\u001b[1;33m\u001b[0m\u001b[0m\n",
      "\u001b[1;32m~\\anaconda3\\lib\\ssl.py\u001b[0m in \u001b[0;36mread\u001b[1;34m(self, len, buffer)\u001b[0m\n\u001b[0;32m   1098\u001b[0m             \u001b[1;32mif\u001b[0m \u001b[0mbuffer\u001b[0m \u001b[1;32mis\u001b[0m \u001b[1;32mnot\u001b[0m \u001b[1;32mNone\u001b[0m\u001b[1;33m:\u001b[0m\u001b[1;33m\u001b[0m\u001b[1;33m\u001b[0m\u001b[0m\n\u001b[1;32m-> 1099\u001b[1;33m                 \u001b[1;32mreturn\u001b[0m \u001b[0mself\u001b[0m\u001b[1;33m.\u001b[0m\u001b[0m_sslobj\u001b[0m\u001b[1;33m.\u001b[0m\u001b[0mread\u001b[0m\u001b[1;33m(\u001b[0m\u001b[0mlen\u001b[0m\u001b[1;33m,\u001b[0m \u001b[0mbuffer\u001b[0m\u001b[1;33m)\u001b[0m\u001b[1;33m\u001b[0m\u001b[1;33m\u001b[0m\u001b[0m\n\u001b[0m\u001b[0;32m   1100\u001b[0m             \u001b[1;32melse\u001b[0m\u001b[1;33m:\u001b[0m\u001b[1;33m\u001b[0m\u001b[1;33m\u001b[0m\u001b[0m\n",
      "\u001b[1;31mProtocolError\u001b[0m: ('Connection aborted.', ConnectionResetError(10054, '遠端主機已強制關閉一個現存的連線。', None, 10054, None))",
      "\nDuring handling of the above exception, another exception occurred:\n",
      "\u001b[1;31mConnectionError\u001b[0m                           Traceback (most recent call last)",
      "\u001b[1;32m<ipython-input-31-aa6233e4e691>\u001b[0m in \u001b[0;36m<module>\u001b[1;34m\u001b[0m\n\u001b[0;32m      6\u001b[0m     \u001b[1;34m'user-agent'\u001b[0m\u001b[1;33m:\u001b[0m \u001b[1;34m'Mozilla/5.0 (Windows NT 10.0; Win64; x64) AppleWebKit/537.36 (KHTML, like Gecko) Chrome/93.0.4577.82 Safari/537.36'\u001b[0m\u001b[1;33m\u001b[0m\u001b[1;33m\u001b[0m\u001b[0m\n\u001b[0;32m      7\u001b[0m }\n\u001b[1;32m----> 8\u001b[1;33m \u001b[0mdatas\u001b[0m \u001b[1;33m=\u001b[0m \u001b[0mreq\u001b[0m\u001b[1;33m.\u001b[0m\u001b[0mget\u001b[0m\u001b[1;33m(\u001b[0m\u001b[0murl\u001b[0m\u001b[1;33m,\u001b[0m \u001b[0mheaders\u001b[0m \u001b[1;33m=\u001b[0m \u001b[0mheaders\u001b[0m\u001b[1;33m)\u001b[0m\u001b[1;33m\u001b[0m\u001b[1;33m\u001b[0m\u001b[0m\n\u001b[0m\u001b[0;32m      9\u001b[0m \u001b[0mprint\u001b[0m\u001b[1;33m(\u001b[0m\u001b[0mtype\u001b[0m\u001b[1;33m(\u001b[0m\u001b[0mdatas\u001b[0m\u001b[1;33m.\u001b[0m\u001b[0mtext\u001b[0m\u001b[1;33m)\u001b[0m\u001b[1;33m)\u001b[0m\u001b[1;33m\u001b[0m\u001b[1;33m\u001b[0m\u001b[0m\n\u001b[0;32m     10\u001b[0m \u001b[0mstock\u001b[0m \u001b[1;33m=\u001b[0m \u001b[0mdatas\u001b[0m\u001b[1;33m.\u001b[0m\u001b[0mjson\u001b[0m\u001b[1;33m(\u001b[0m\u001b[1;33m)\u001b[0m\u001b[1;33m\u001b[0m\u001b[1;33m\u001b[0m\u001b[0m\n",
      "\u001b[1;32m~\\anaconda3\\lib\\site-packages\\requests\\api.py\u001b[0m in \u001b[0;36mget\u001b[1;34m(url, params, **kwargs)\u001b[0m\n\u001b[0;32m     74\u001b[0m \u001b[1;33m\u001b[0m\u001b[0m\n\u001b[0;32m     75\u001b[0m     \u001b[0mkwargs\u001b[0m\u001b[1;33m.\u001b[0m\u001b[0msetdefault\u001b[0m\u001b[1;33m(\u001b[0m\u001b[1;34m'allow_redirects'\u001b[0m\u001b[1;33m,\u001b[0m \u001b[1;32mTrue\u001b[0m\u001b[1;33m)\u001b[0m\u001b[1;33m\u001b[0m\u001b[1;33m\u001b[0m\u001b[0m\n\u001b[1;32m---> 76\u001b[1;33m     \u001b[1;32mreturn\u001b[0m \u001b[0mrequest\u001b[0m\u001b[1;33m(\u001b[0m\u001b[1;34m'get'\u001b[0m\u001b[1;33m,\u001b[0m \u001b[0murl\u001b[0m\u001b[1;33m,\u001b[0m \u001b[0mparams\u001b[0m\u001b[1;33m=\u001b[0m\u001b[0mparams\u001b[0m\u001b[1;33m,\u001b[0m \u001b[1;33m**\u001b[0m\u001b[0mkwargs\u001b[0m\u001b[1;33m)\u001b[0m\u001b[1;33m\u001b[0m\u001b[1;33m\u001b[0m\u001b[0m\n\u001b[0m\u001b[0;32m     77\u001b[0m \u001b[1;33m\u001b[0m\u001b[0m\n\u001b[0;32m     78\u001b[0m \u001b[1;33m\u001b[0m\u001b[0m\n",
      "\u001b[1;32m~\\anaconda3\\lib\\site-packages\\requests\\api.py\u001b[0m in \u001b[0;36mrequest\u001b[1;34m(method, url, **kwargs)\u001b[0m\n\u001b[0;32m     59\u001b[0m     \u001b[1;31m# cases, and look like a memory leak in others.\u001b[0m\u001b[1;33m\u001b[0m\u001b[1;33m\u001b[0m\u001b[1;33m\u001b[0m\u001b[0m\n\u001b[0;32m     60\u001b[0m     \u001b[1;32mwith\u001b[0m \u001b[0msessions\u001b[0m\u001b[1;33m.\u001b[0m\u001b[0mSession\u001b[0m\u001b[1;33m(\u001b[0m\u001b[1;33m)\u001b[0m \u001b[1;32mas\u001b[0m \u001b[0msession\u001b[0m\u001b[1;33m:\u001b[0m\u001b[1;33m\u001b[0m\u001b[1;33m\u001b[0m\u001b[0m\n\u001b[1;32m---> 61\u001b[1;33m         \u001b[1;32mreturn\u001b[0m \u001b[0msession\u001b[0m\u001b[1;33m.\u001b[0m\u001b[0mrequest\u001b[0m\u001b[1;33m(\u001b[0m\u001b[0mmethod\u001b[0m\u001b[1;33m=\u001b[0m\u001b[0mmethod\u001b[0m\u001b[1;33m,\u001b[0m \u001b[0murl\u001b[0m\u001b[1;33m=\u001b[0m\u001b[0murl\u001b[0m\u001b[1;33m,\u001b[0m \u001b[1;33m**\u001b[0m\u001b[0mkwargs\u001b[0m\u001b[1;33m)\u001b[0m\u001b[1;33m\u001b[0m\u001b[1;33m\u001b[0m\u001b[0m\n\u001b[0m\u001b[0;32m     62\u001b[0m \u001b[1;33m\u001b[0m\u001b[0m\n\u001b[0;32m     63\u001b[0m \u001b[1;33m\u001b[0m\u001b[0m\n",
      "\u001b[1;32m~\\anaconda3\\lib\\site-packages\\requests\\sessions.py\u001b[0m in \u001b[0;36mrequest\u001b[1;34m(self, method, url, params, data, headers, cookies, files, auth, timeout, allow_redirects, proxies, hooks, stream, verify, cert, json)\u001b[0m\n\u001b[0;32m    540\u001b[0m         }\n\u001b[0;32m    541\u001b[0m         \u001b[0msend_kwargs\u001b[0m\u001b[1;33m.\u001b[0m\u001b[0mupdate\u001b[0m\u001b[1;33m(\u001b[0m\u001b[0msettings\u001b[0m\u001b[1;33m)\u001b[0m\u001b[1;33m\u001b[0m\u001b[1;33m\u001b[0m\u001b[0m\n\u001b[1;32m--> 542\u001b[1;33m         \u001b[0mresp\u001b[0m \u001b[1;33m=\u001b[0m \u001b[0mself\u001b[0m\u001b[1;33m.\u001b[0m\u001b[0msend\u001b[0m\u001b[1;33m(\u001b[0m\u001b[0mprep\u001b[0m\u001b[1;33m,\u001b[0m \u001b[1;33m**\u001b[0m\u001b[0msend_kwargs\u001b[0m\u001b[1;33m)\u001b[0m\u001b[1;33m\u001b[0m\u001b[1;33m\u001b[0m\u001b[0m\n\u001b[0m\u001b[0;32m    543\u001b[0m \u001b[1;33m\u001b[0m\u001b[0m\n\u001b[0;32m    544\u001b[0m         \u001b[1;32mreturn\u001b[0m \u001b[0mresp\u001b[0m\u001b[1;33m\u001b[0m\u001b[1;33m\u001b[0m\u001b[0m\n",
      "\u001b[1;32m~\\anaconda3\\lib\\site-packages\\requests\\sessions.py\u001b[0m in \u001b[0;36msend\u001b[1;34m(self, request, **kwargs)\u001b[0m\n\u001b[0;32m    653\u001b[0m \u001b[1;33m\u001b[0m\u001b[0m\n\u001b[0;32m    654\u001b[0m         \u001b[1;31m# Send the request\u001b[0m\u001b[1;33m\u001b[0m\u001b[1;33m\u001b[0m\u001b[1;33m\u001b[0m\u001b[0m\n\u001b[1;32m--> 655\u001b[1;33m         \u001b[0mr\u001b[0m \u001b[1;33m=\u001b[0m \u001b[0madapter\u001b[0m\u001b[1;33m.\u001b[0m\u001b[0msend\u001b[0m\u001b[1;33m(\u001b[0m\u001b[0mrequest\u001b[0m\u001b[1;33m,\u001b[0m \u001b[1;33m**\u001b[0m\u001b[0mkwargs\u001b[0m\u001b[1;33m)\u001b[0m\u001b[1;33m\u001b[0m\u001b[1;33m\u001b[0m\u001b[0m\n\u001b[0m\u001b[0;32m    656\u001b[0m \u001b[1;33m\u001b[0m\u001b[0m\n\u001b[0;32m    657\u001b[0m         \u001b[1;31m# Total elapsed time of the request (approximately)\u001b[0m\u001b[1;33m\u001b[0m\u001b[1;33m\u001b[0m\u001b[1;33m\u001b[0m\u001b[0m\n",
      "\u001b[1;32m~\\anaconda3\\lib\\site-packages\\requests\\adapters.py\u001b[0m in \u001b[0;36msend\u001b[1;34m(self, request, stream, timeout, verify, cert, proxies)\u001b[0m\n\u001b[0;32m    496\u001b[0m \u001b[1;33m\u001b[0m\u001b[0m\n\u001b[0;32m    497\u001b[0m         \u001b[1;32mexcept\u001b[0m \u001b[1;33m(\u001b[0m\u001b[0mProtocolError\u001b[0m\u001b[1;33m,\u001b[0m \u001b[0msocket\u001b[0m\u001b[1;33m.\u001b[0m\u001b[0merror\u001b[0m\u001b[1;33m)\u001b[0m \u001b[1;32mas\u001b[0m \u001b[0merr\u001b[0m\u001b[1;33m:\u001b[0m\u001b[1;33m\u001b[0m\u001b[1;33m\u001b[0m\u001b[0m\n\u001b[1;32m--> 498\u001b[1;33m             \u001b[1;32mraise\u001b[0m \u001b[0mConnectionError\u001b[0m\u001b[1;33m(\u001b[0m\u001b[0merr\u001b[0m\u001b[1;33m,\u001b[0m \u001b[0mrequest\u001b[0m\u001b[1;33m=\u001b[0m\u001b[0mrequest\u001b[0m\u001b[1;33m)\u001b[0m\u001b[1;33m\u001b[0m\u001b[1;33m\u001b[0m\u001b[0m\n\u001b[0m\u001b[0;32m    499\u001b[0m \u001b[1;33m\u001b[0m\u001b[0m\n\u001b[0;32m    500\u001b[0m         \u001b[1;32mexcept\u001b[0m \u001b[0mMaxRetryError\u001b[0m \u001b[1;32mas\u001b[0m \u001b[0me\u001b[0m\u001b[1;33m:\u001b[0m\u001b[1;33m\u001b[0m\u001b[1;33m\u001b[0m\u001b[0m\n",
      "\u001b[1;31mConnectionError\u001b[0m: ('Connection aborted.', ConnectionResetError(10054, '遠端主機已強制關閉一個現存的連線。', None, 10054, None))"
     ]
    }
   ],
   "source": [
    "import requests as  req\n",
    "stock = input(\"輸入查詢的股價代碼:\")\n",
    "date = input(\"輸入要查詢的年分:\")\n",
    "url = 'https://www.twse.com.tw/exchangeReport/STOCK_DAY?response=json&date=' + str(date) + '0901&stockNo=' +  str(stock) + '&_'\n",
    "headers = {\n",
    "    'user-agent': 'Mozilla/5.0 (Windows NT 10.0; Win64; x64) AppleWebKit/537.36 (KHTML, like Gecko) Chrome/93.0.4577.82 Safari/537.36'\n",
    "}\n",
    "datas = req.get(url, headers = headers)\n",
    "print(type(datas.text))\n",
    "stock = datas.json()\n",
    "print(type(stock))"
   ]
  },
  {
   "cell_type": "markdown",
   "metadata": {},
   "source": [
    "## 爬取股價數據專題(已完成):\n",
    " * 讓使用者輸入股價代碼與起始年分\n",
    " * 取得至最新的股價\n",
    " * 將取的資料寫成csv檔輸出"
   ]
  },
  {
   "cell_type": "code",
   "execution_count": 1,
   "metadata": {},
   "outputs": [
    {
     "name": "stdout",
     "output_type": "stream",
     "text": [
      "輸入查詢的股價代碼:2603\n",
      "輸入要查詢的起始年分:2021\n",
      "2021\n",
      "https://www.twse.com.tw/exchangeReport/STOCK_DAY?response=json&date=20210101&stockNo=2603&_\n",
      "https://www.twse.com.tw/exchangeReport/STOCK_DAY?response=json&date=20210201&stockNo=2603&_\n",
      "https://www.twse.com.tw/exchangeReport/STOCK_DAY?response=json&date=20210301&stockNo=2603&_\n",
      "https://www.twse.com.tw/exchangeReport/STOCK_DAY?response=json&date=20210401&stockNo=2603&_\n",
      "https://www.twse.com.tw/exchangeReport/STOCK_DAY?response=json&date=20210501&stockNo=2603&_\n",
      "https://www.twse.com.tw/exchangeReport/STOCK_DAY?response=json&date=20210601&stockNo=2603&_\n",
      "https://www.twse.com.tw/exchangeReport/STOCK_DAY?response=json&date=20210701&stockNo=2603&_\n",
      "https://www.twse.com.tw/exchangeReport/STOCK_DAY?response=json&date=20210801&stockNo=2603&_\n",
      "https://www.twse.com.tw/exchangeReport/STOCK_DAY?response=json&date=20210901&stockNo=2603&_\n",
      "https://www.twse.com.tw/exchangeReport/STOCK_DAY?response=json&date=20211001&stockNo=2603&_\n",
      "https://www.twse.com.tw/exchangeReport/STOCK_DAY?response=json&date=20211101&stockNo=2603&_\n",
      "https://www.twse.com.tw/exchangeReport/STOCK_DAY?response=json&date=20211201&stockNo=2603&_\n",
      "寫檔完成!\n"
     ]
    }
   ],
   "source": [
    "import requests as req\n",
    "import time\n",
    "\n",
    "# 模擬電腦使用者\n",
    "headers = {\n",
    "    'user-agent': 'Mozilla/5.0 (Macintosh; Intel Mac OS X 10_15_7) AppleWebKit/537.36 (KHTML, like Gecko) Chrome/92.0.4515.159 Safari/537.36',\n",
    "}\n",
    "\n",
    "num = input(\"輸入查詢的股價代碼:\")\n",
    "date = input(\"輸入要查詢的起始年分:\")\n",
    "\n",
    "make_stocks = []\n",
    "# 需要股價資訊的欄位名稱\n",
    "make_stocks.append(['Date','Open','High','Low','Close','Volume'])\n",
    "\n",
    "for y in range(int(date),2022):\n",
    "    print(y)\n",
    "    for i in range(1,13):\n",
    "        if i < 10:\n",
    "            url = 'https://www.twse.com.tw/exchangeReport/STOCK_DAY?response=json&date=' + str(y) + '0' + str(i) + '01&stockNo=' +  str(num) + '&_'\n",
    "            print(url)\n",
    "        else:\n",
    "            url = 'https://www.twse.com.tw/exchangeReport/STOCK_DAY?response=json&date=' + str(y) + str(i) + '01&stockNo=' +  str(num) + '&_'\n",
    "            print(url)\n",
    "        \n",
    "        time.sleep(1)\n",
    "        r = req.get(url, headers = headers)\n",
    "        stock = r.json()\n",
    "        stat = stock['stat']\n",
    "        \n",
    "        if stat == 'OK':\n",
    "            datas = stock['data']\n",
    "            for data in datas:\n",
    "                need = []\n",
    "                day = str(y) + data[0][3:]\n",
    "                need.append(day)\n",
    "                need.append(data[3])\n",
    "                need.append(data[4])\n",
    "                need.append(data[5])\n",
    "                need.append(data[6])\n",
    "                volume = round(float(data[1].replace(',',''))/1000)\n",
    "                need.append(str(volume))\n",
    "                make_stocks.append(need)\n",
    "        else:\n",
    "            #print('查詢日期大於今日，請重新查詢!')\n",
    "            break\n",
    "\n",
    "# print(make_stocks)\n",
    "\n",
    "connect = ','\n",
    "with open(str(num) + '.csv','w') as file:\n",
    "    for line in make_stocks:\n",
    "        csv = connect.join(line)  #將串列轉換成以,區隔的字串\n",
    "        csv += '\\n' \n",
    "        file.write(csv)\n",
    "    print('寫檔完成!')"
   ]
  },
  {
   "cell_type": "markdown",
   "metadata": {},
   "source": []
  },
  {
   "cell_type": "markdown",
   "metadata": {},
   "source": [
    "### 利用 for 迴圈，爬取特定年份的股價檔\n",
    "    整理資料後輸出 \"股價代號_年分.csv\" 檔案"
   ]
  },
  {
   "cell_type": "code",
   "execution_count": 99,
   "metadata": {
    "collapsed": true
   },
   "outputs": [
    {
     "name": "stdout",
     "output_type": "stream",
     "text": [
      "[['Date', 'Open', 'High', 'Low', 'Close', 'Volume'], ['2021/01/04', '29.95', '29.99', '29.80', '29.94', '14681'], ['2021/01/05', '29.94', '30.04', '29.87', '30.02', '32407'], ['2021/01/06', '30.08', '30.21', '29.90', '30.00', '23935'], ['2021/01/07', '30.05', '30.23', '30.04', '30.22', '32357'], ['2021/01/08', '30.35', '30.47', '30.25', '30.46', '26868'], ['2021/01/11', '30.49', '30.67', '30.47', '30.61', '23405'], ['2021/01/12', '30.61', '30.61', '30.32', '30.35', '15160'], ['2021/01/13', '30.49', '30.72', '30.49', '30.69', '26315'], ['2021/01/14', '30.75', '31.01', '30.71', '30.92', '29598'], ['2021/01/15', '31.06', '31.13', '30.73', '30.79', '21324'], ['2021/01/18', '30.75', '30.75', '30.21', '30.61', '18464'], ['2021/01/19', '30.61', '30.78', '30.61', '30.74', '14502'], ['2021/01/20', '30.74', '30.74', '30.21', '30.25', '20537'], ['2021/01/21', '30.25', '30.44', '30.23', '30.30', '13358'], ['2021/01/22', '30.25', '30.58', '30.23', '30.53', '12875'], ['2021/01/25', '30.50', '30.84', '30.41', '30.83', '17722'], ['2021/01/26', '30.90', '30.98', '30.58', '30.68', '11467'], ['2021/01/27', '30.76', '31.00', '30.76', '30.95', '21475'], ['2021/01/28', '30.61', '30.94', '30.50', '30.72', '14010'], ['2021/01/29', '30.73', '30.77', '30.21', '30.26', '12351'], ['2021/02/01', '30.20', '30.26', '29.99', '30.25', '9436'], ['2021/02/02', '30.28', '30.56', '30.28', '30.50', '6763'], ['2021/02/03', '30.55', '30.60', '30.48', '30.51', '4808'], ['2021/02/04', '30.51', '30.58', '30.39', '30.51', '5531'], ['2021/02/05', '30.56', '30.64', '30.53', '30.55', '7813'], ['2021/02/17', '30.90', '31.01', '30.82', '31.00', '20260'], ['2021/02/18', '31.00', '31.21', '30.95', '31.13', '17630'], ['2021/02/19', '31.13', '31.13', '30.92', '31.12', '7245'], ['2021/02/22', '31.27', '31.54', '31.27', '31.50', '17182'], ['2021/02/23', '31.50', '31.80', '31.33', '31.80', '15380'], ['2021/02/24', '31.80', '32.02', '31.80', '31.80', '14888'], ['2021/02/25', '32.00', '32.09', '31.90', '32.01', '11561'], ['2021/02/26', '31.95', '31.98', '31.78', '31.90', '11352'], ['2021/03/02', '32.05', '32.13', '31.89', '31.90', '9562'], ['2021/03/03', '31.90', '31.95', '31.79', '31.93', '10618'], ['2021/03/04', '31.93', '31.93', '31.77', '31.80', '8055'], ['2021/03/05', '31.67', '31.80', '31.55', '31.80', '10297'], ['2021/03/08', '32.00', '32.08', '31.85', '32.00', '12611'], ['2021/03/09', '32.00', '32.01', '31.84', '32.00', '7785'], ['2021/03/10', '32.13', '32.22', '32.06', '32.10', '9917'], ['2021/03/11', '32.14', '32.33', '32.14', '32.33', '13381'], ['2021/03/12', '32.40', '32.45', '32.33', '32.43', '13611'], ['2021/03/15', '32.54', '32.75', '32.54', '32.74', '11616'], ['2021/03/16', '32.90', '33.00', '32.89', '32.99', '13769'], ['2021/03/17', '33.00', '33.02', '32.88', '32.95', '10037'], ['2021/03/18', '33.18', '33.55', '33.18', '33.53', '10953'], ['2021/03/19', '33.33', '33.61', '33.25', '33.60', '11713'], ['2021/03/22', '33.60', '33.69', '33.44', '33.60', '10072'], ['2021/03/23', '33.70', '33.79', '33.59', '33.66', '7622'], ['2021/03/24', '33.66', '33.75', '33.55', '33.65', '7852'], ['2021/03/25', '33.65', '33.66', '33.40', '33.66', '9253'], ['2021/03/26', '33.80', '33.80', '33.72', '33.80', '11964'], ['2021/03/29', '33.92', '34.35', '33.92', '34.34', '9516'], ['2021/03/30', '34.36', '34.60', '34.32', '34.60', '6756'], ['2021/03/31', '34.60', '34.86', '34.60', '34.63', '16167'], ['2021/04/01', '34.65', '34.78', '34.54', '34.61', '9299'], ['2021/04/06', '34.98', '34.98', '34.70', '34.74', '11918'], ['2021/04/07', '34.74', '34.75', '34.67', '34.71', '6189'], ['2021/04/08', '34.72', '34.75', '34.67', '34.75', '7513'], ['2021/04/09', '34.75', '34.76', '34.64', '34.70', '7736'], ['2021/04/12', '34.70', '34.75', '34.67', '34.69', '5431'], ['2021/04/13', '34.69', '34.73', '34.45', '34.47', '15257'], ['2021/04/14', '34.47', '34.48', '33.92', '34.35', '18568'], ['2021/04/15', '34.35', '34.53', '34.32', '34.50', '6292'], ['2021/04/16', '34.84', '34.94', '34.61', '34.94', '24288'], ['2021/04/19', '34.99', '35.20', '34.99', '35.20', '13976'], ['2021/04/20', '35.25', '35.41', '35.25', '35.33', '11211'], ['2021/04/21', '35.33', '35.53', '35.25', '35.53', '8257'], ['2021/04/22', '35.60', '35.85', '35.25', '35.40', '11788'], ['2021/04/23', '35.38', '35.38', '35.10', '35.30', '13540'], ['2021/04/26', '35.58', '35.99', '35.58', '35.99', '9877'], ['2021/04/27', '35.99', '35.99', '35.86', '35.98', '5614'], ['2021/04/28', '35.98', '35.99', '35.86', '35.98', '5319'], ['2021/04/29', '35.98', '36.17', '35.88', '36.12', '8074'], ['2021/05/03', '36.12', '36.17', '35.90', '35.91', '15938'], ['2021/05/04', '35.91', '35.99', '34.66', '35.30', '43614'], ['2021/05/05', '35.24', '35.74', '35.02', '35.35', '35620'], ['2021/05/06', '35.41', '35.60', '34.96', '35.30', '19199'], ['2021/05/07', '35.35', '35.74', '35.35', '35.72', '8075'], ['2021/05/10', '35.87', '35.90', '35.76', '35.88', '6278'], ['2021/05/11', '35.72', '35.72', '34.45', '34.70', '49340'], ['2021/05/12', '34.26', '34.43', '32.07', '33.50', '88411'], ['2021/05/13', '32.95', '33.86', '32.33', '33.40', '52099'], ['2021/05/14', '33.50', '34.02', '33.45', '33.65', '25656'], ['2021/05/17', '32.18', '33.30', '32.18', '32.75', '73623'], ['2021/05/18', '33.01', '34.01', '32.96', '34.01', '22687'], ['2021/05/19', '33.98', '34.18', '33.71', '34.10', '14347'], ['2021/05/20', '34.00', '34.10', '33.66', '33.86', '12326'], ['2021/05/21', '34.20', '34.40', '33.78', '34.00', '12327'], ['2021/05/24', '33.84', '34.10', '33.65', '34.05', '19632'], ['2021/05/25', '34.28', '34.34', '34.15', '34.34', '9958'], ['2021/05/26', '34.40', '34.42', '34.22', '34.32', '8542'], ['2021/05/27', '34.24', '34.29', '33.94', '34.28', '8616'], ['2021/05/28', '34.50', '34.55', '34.32', '34.55', '8746'], ['2021/05/31', '34.60', '34.77', '34.55', '34.75', '8619'], ['2021/06/01', '34.82', '35.06', '34.74', '35.06', '16294'], ['2021/06/02', '35.06', '35.23', '34.86', '34.96', '7357'], ['2021/06/03', '35.10', '35.13', '34.90', '34.95', '5749'], ['2021/06/04', '34.80', '34.87', '34.72', '34.77', '7010'], ['2021/06/07', '34.77', '34.79', '34.19', '34.72', '13536'], ['2021/06/08', '34.77', '34.78', '34.56', '34.65', '6533'], ['2021/06/09', '34.61', '34.61', '34.37', '34.45', '8043'], ['2021/06/10', '34.45', '34.63', '34.40', '34.60', '7630'], ['2021/06/11', '34.60', '34.66', '34.54', '34.55', '7302'], ['2021/06/15', '34.59', '34.74', '34.53', '34.65', '5220'], ['2021/06/16', '34.62', '34.78', '34.58', '34.78', '8365'], ['2021/06/17', '34.67', '34.90', '34.57', '34.90', '4713'], ['2021/06/18', '35.00', '35.00', '34.89', '34.91', '4544'], ['2021/06/21', '34.85', '34.85', '34.50', '34.55', '13835'], ['2021/06/22', '34.70', '34.77', '34.41', '34.43', '10588'], ['2021/06/23', '34.50', '34.53', '34.34', '34.45', '10315'], ['2021/06/24', '34.45', '34.70', '34.45', '34.66', '3556'], ['2021/06/25', '34.78', '34.94', '34.74', '34.74', '6777'], ['2021/06/28', '34.80', '35.10', '34.80', '35.10', '10826'], ['2021/06/29', '35.14', '35.15', '34.62', '34.80', '14013'], ['2021/06/30', '34.89', '35.03', '34.80', '35.00', '9701'], ['2021/07/01', '35.16', '35.35', '34.84', '35.00', '38130'], ['2021/07/02', '35.08', '35.28', '35.04', '35.20', '10721'], ['2021/07/05', '35.54', '35.69', '35.38', '35.69', '12614'], ['2021/07/06', '35.85', '36.05', '35.80', '35.91', '12133'], ['2021/07/07', '35.83', '35.86', '35.51', '35.61', '11399'], ['2021/07/08', '35.83', '35.88', '35.49', '35.80', '14767'], ['2021/07/09', '35.77', '35.77', '35.30', '35.44', '14915'], ['2021/07/12', '35.65', '35.67', '35.05', '35.27', '18625'], ['2021/07/13', '35.33', '35.45', '34.80', '34.85', '29236'], ['2021/07/14', '34.89', '34.90', '34.35', '34.48', '28314'], ['2021/07/15', '34.53', '35.00', '34.53', '34.98', '11662'], ['2021/07/16', '34.96', '35.15', '34.81', '35.12', '11701'], ['2021/07/19', '35.12', '35.15', '34.99', '35.14', '5266'], ['2021/07/20', '34.95', '34.96', '34.50', '34.56', '23553'], ['2021/07/21', '34.76', '34.87', '33.93', '34.13', '49284'], ['2021/07/22', '34.20', '34.46', '34.07', '34.21', '17122'], ['2021/07/23', '34.50', '34.50', '34.25', '34.47', '7068'], ['2021/07/26', '34.51', '34.67', '34.40', '34.50', '11020'], ['2021/07/27', '34.50', '34.52', '33.99', '34.07', '22963'], ['2021/07/28', '34.07', '34.07', '33.25', '33.89', '43355'], ['2021/07/29', '34.06', '34.20', '33.86', '34.10', '19638'], ['2021/07/30', '34.20', '34.22', '33.88', '33.90', '28742'], ['2021/08/02', '34.03', '34.03', '33.63', '34.00', '19028'], ['2021/08/03', '34.01', '34.16', '33.98', '34.15', '6509'], ['2021/08/04', '34.18', '34.35', '34.17', '34.35', '5508'], ['2021/08/05', '34.40', '34.40', '34.14', '34.20', '7142'], ['2021/08/06', '34.20', '34.25', '34.02', '34.25', '9393'], ['2021/08/09', '34.22', '34.22', '33.88', '34.10', '12330'], ['2021/08/10', '34.10', '34.18', '33.71', '33.79', '29648'], ['2021/08/11', '33.72', '33.79', '33.24', '33.49', '35589'], ['2021/08/12', '33.52', '33.52', '33.33', '33.51', '11302'], ['2021/08/13', '33.56', '33.58', '33.20', '33.27', '25144'], ['2021/08/16', '33.28', '33.28', '32.74', '32.86', '52400'], ['2021/08/17', '32.90', '33.08', '32.48', '32.53', '32411'], ['2021/08/18', '32.38', '33.07', '32.13', '33.07', '26797'], ['2021/08/19', '32.88', '32.88', '32.29', '32.32', '45729'], ['2021/08/20', '32.40', '32.49', '32.00', '32.26', '25526'], ['2021/08/23', '32.52', '32.90', '32.52', '32.88', '16614'], ['2021/08/24', '33.01', '33.08', '32.66', '32.80', '20752'], ['2021/08/25', '32.95', '33.00', '32.80', '33.00', '10263'], ['2021/08/26', '33.10', '33.12', '32.78', '32.99', '17741'], ['2021/08/27', '32.96', '33.12', '32.83', '33.11', '8883'], ['2021/08/30', '33.22', '33.29', '33.15', '33.29', '8667'], ['2021/08/31', '33.30', '33.38', '33.05', '33.38', '10047'], ['2021/09/01', '33.35', '33.41', '33.20', '33.39', '11103'], ['2021/09/02', '33.39', '33.41', '33.09', '33.16', '11373'], ['2021/09/03', '33.25', '33.33', '33.17', '33.24', '7210'], ['2021/09/06', '33.25', '33.33', '33.01', '33.07', '19065'], ['2021/09/07', '33.07', '33.19', '33.04', '33.16', '8905'], ['2021/09/08', '33.24', '33.24', '32.73', '32.80', '29968'], ['2021/09/09', '32.75', '32.96', '32.63', '32.94', '7071'], ['2021/09/10', '33.00', '33.22', '32.94', '33.22', '7127'], ['2021/09/13', '33.23', '33.52', '33.23', '33.41', '12555'], ['2021/09/14', '33.57', '33.59', '33.31', '33.36', '9188'], ['2021/09/15', '33.36', '33.36', '33.11', '33.33', '9045'], ['2021/09/16', '33.34', '33.43', '33.19', '33.28', '12704'], ['2021/09/17', '33.28', '33.46', '33.24', '33.42', '7427']]\n"
     ]
    }
   ],
   "source": [
    "import requests as req\n",
    "\n",
    "# 模擬電腦使用者\n",
    "headers = {\n",
    "    'user-agent': 'Mozilla/5.0 (Macintosh; Intel Mac OS X 10_15_7) AppleWebKit/537.36 (KHTML, like Gecko) Chrome/92.0.4515.159 Safari/537.36',\n",
    "}\n",
    "\n",
    "make_stocks = []\n",
    "# 需要股價資訊的欄位名稱\n",
    "make_stocks.append(['Date','Open','High','Low','Close','Volume'])\n",
    "\n",
    "for i in range(1,10):\n",
    "    if i < 10:\n",
    "        url = 'https://www.twse.com.tw/exchangeReport/STOCK_DAY?response=json&date=20210' + str(i) + '01&stockNo=0056&_=1631954825336'\n",
    "    else:\n",
    "        url = 'https://www.twse.com.tw/exchangeReport/STOCK_DAY?response=json&date=2021' + str(i) + '01&stockNo=0056&_=1631954825336'\n",
    "    r = req.get(url, headers = headers)\n",
    "    stock = r.json()\n",
    "    datas = stock['data']\n",
    "\n",
    "    for data in datas:\n",
    "        need = []\n",
    "        day = str(2021) + data[0][3:]\n",
    "        need.append(day)\n",
    "        need.append(data[3])\n",
    "        need.append(data[4])\n",
    "        need.append(data[5])\n",
    "        need.append(data[6])\n",
    "        volume = round(float(data[1].replace(',',''))/1000)\n",
    "        need.append(str(volume))\n",
    "        make_stocks.append(need)\n",
    "\n",
    "# print(make_stocks)\n",
    "\n",
    "connect = ','\n",
    "with open('0056_2021.csv','w') as file:\n",
    "    for line in make_stocks:\n",
    "        csv = connect.join(line)  #將串列轉換成以,區隔的字串\n",
    "        csv += '\\n' \n",
    "        file.write(csv)"
   ]
  },
  {
   "cell_type": "markdown",
   "metadata": {},
   "source": [
    "### 應用股價.csv檔"
   ]
  },
  {
   "cell_type": "code",
   "execution_count": 101,
   "metadata": {},
   "outputs": [
    {
     "data": {
      "image/png": "[encoded data removed]",
      "text/plain": [
       "<Figure size 576x288 with 2 Axes>"
      ]
     },
     "metadata": {
      "needs_background": "light"
     },
     "output_type": "display_data"
    }
   ],
   "source": [
    "import numpy as np \n",
    "import pandas as pd\n",
    "import matplotlib.pyplot as plt\n",
    "from datetime import datetime\n",
    "\n",
    "df = pd.read_csv(\"2892_2021.csv\", encoding = 'utf8')\n",
    "df_0056 = pd.read_csv(\"0056_2021.csv\", encoding = \"utf8\")\n",
    "day = np.array(df['Date'])\n",
    "day = [datetime.strptime(d, \"%Y/%m/%d\") for d in day]\n",
    "#print(day[:5])\n",
    "price = np.full(len(day), 22.5)\n",
    "\n",
    "\n",
    "buy = [np.nan] * len(day)\n",
    "for d in day:\n",
    "    if(d.month == 8 and d.day == 26):\n",
    "        num = day.index(d)\n",
    "        buy[num] = df['Close'][num] * 0.98\n",
    "\n",
    "fig = plt.figure(figsize =(8, 4))\n",
    "\n",
    "ax1 = fig.add_axes([0, 0.3, 1, 1])\n",
    "ax2 = fig.add_axes([0, 0, 1, 0.3])\n",
    "\n",
    "ax1.plot(day, df['Close'])\n",
    "ax1.plot(day, price, \"g-\")\n",
    "#ax1.plot(day, df_0056['Close'])\n",
    "ax1.plot(day, buy, \"^\", label = '8/26')\n",
    "ax2.bar(day, df['Volume'], color = 'red')\n",
    "ax1.set(ylabel = \"price\", title = \"2891_2021\")\n",
    "ax2.set(ylabel = \"volume\", xlabel = \"day\")\n",
    "ax1.legend()\n",
    "plt.show()"
   ]
  },
  {
   "cell_type": "markdown",
   "metadata": {},
   "source": [
    " * **殖**利率： **浮動**的利息比率\n",
    "     * 股息（固定不變） / 本金（股價浮動）\n",
    "     * 可以設定好殖利率，去判斷這檔股票的合理價格"
   ]
  },
  {
   "cell_type": "code",
   "execution_count": 91,
   "metadata": {},
   "outputs": [
    {
     "name": "stdout",
     "output_type": "stream",
     "text": [
      "set interest rate(%): 4\n",
      "reasonable_price:  22.5\n"
     ]
    }
   ],
   "source": [
    "# 兆豐金今年現金股利為＿1.58\n",
    "dividend = 0.9\n",
    "interest_rate = input(\"set interest rate(%): \") \n",
    "reasonable_price = float(dividend) / float(interest_rate) * 100\n",
    "print(\"reasonable_price: \", reasonable_price)"
   ]
  },
  {
   "cell_type": "markdown",
   "metadata": {},
   "source": [
    "## 整體遇到的問題:\n",
    "\n",
    "* 每一檔股價代碼的網址最後方並不相同:\n",
    "    * 0056:https://www.twse.com.tw/exchangeReport/STOCK_DAY?response=json&date=20210924&stockNo=0056&_=1632497387444\n",
    "    * 0050:https://www.twse.com.tw/exchangeReport/STOCK_DAY?response=json&date=20200101&stockNo=0050&_=1632497387449\n",
    "    * 0050:https://www.twse.com.tw/exchangeReport/STOCK_DAY?response=json&date=20210924&stockNo=0050&_=1632497387447  \n",
    "    * 0050:https://www.twse.com.tw/exchangeReport/STOCK_DAY?response=json&date=20210201&stockNo=0050&_=1632497387451\n",
    "    * 因此無法直接跟改 stockNo 後方的代碼去取的不同股票的價格 -> 需要另外查詢網址\n",
    "    * 解決: 最後方的網址不一定要打\n",
    "* ('Connection aborted.', ConnectionResetError(10054, '遠端主機已強制關閉一個現存的連線。', None, 10054, None))\n",
    "    * 沒有使用 time.sleep()，一次爬取兩年分以上資訊，被伺服器鎖IP\n",
    "    * 要等隔天才能再測試惹\n",
    "    "
   ]
  }
 ],
 "metadata": {
  "kernelspec": {
   "display_name": "Python 3",
   "language": "python",
   "name": "python3"
  },
  "language_info": {
   "codemirror_mode": {
    "name": "ipython",
    "version": 3
   },
   "file_extension": ".py",
   "mimetype": "text/x-python",
   "name": "python",
   "nbconvert_exporter": "python",
   "pygments_lexer": "ipython3",
   "version": "3.8.11"
  },
  "toc": {
   "base_numbering": 1,
   "nav_menu": {},
   "number_sections": true,
   "sideBar": true,
   "skip_h1_title": false,
   "title_cell": "Table of Contents",
   "title_sidebar": "Contents",
   "toc_cell": false,
   "toc_position": {},
   "toc_section_display": true,
   "toc_window_display": false
  }
 },
 "nbformat": 4,
 "nbformat_minor": 4
}
