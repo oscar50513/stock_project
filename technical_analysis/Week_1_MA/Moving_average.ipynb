{
 "cells": [
  {
   "cell_type": "markdown",
   "id": "322be679",
   "metadata": {},
   "source": [
    "# Moving_average(MA)\n",
    "**參考資料來源:**  [柴鼠兄弟認識均線](https://www.youtube.com/watch?v=ti8m7rJmB3E)、[市場先生教均線](https://rich01.com/what-is-moving-average-line/)  \n",
    "\n",
    "\n",
    "## 移動平均線(均線)\n",
    "---\n",
    "* 代表過去一段時間裡的平均成交價格\n",
    "    * 換句話說，均線是*買方的平均成本*，或*賣方的平均賣出價格*。\n",
    "    \n",
    "    \n",
    "* 用來**判斷趨勢**\n",
    "    * 當最新的價格跟過去市場共識出現落差時，人們往往就會判斷接下來趨勢可能有變化。\n",
    "    \n",
    "    \n",
    "* 計算公式:\n",
    "    * 移動平均線 = 將 N天的收盤價 加總 後再 除以N ，即得到第N天的**算術平均線**數值。\n",
    "\n",
    "\n",
    "* 日K線圖中，常用的均線如下：\n",
    "    * 5日線 (也稱為周線，5交易日為一周)\n",
    "    * 10日線 (也稱為雙周線，10交易日為兩周)\n",
    "    * 20日線 (也稱為月線，20交易日將近一個月，也有人用22日均線)\n",
    "    * 60日線 (也稱為季線，60交易日接近一季)\n",
    "    * 120日線 (也稱為半年線，120交易日接近半年)\n",
    "    * 240日線 (也稱為年線，240交易日接近一年，也有人用252交易日更加接近一年)\n",
    "    \n",
    "    \n",
    "![](2330.png)"
   ]
  },
  {
   "cell_type": "markdown",
   "id": "b90a0109",
   "metadata": {},
   "source": [
    "## 均線所代表的意義\n",
    "---\n",
    "1. 大多數人<font color = 'red'>過去一段時間買賣的成本價</font>\n",
    "\n",
    "    * 假設今天的收盤價高於10日均線(10MA)，就代表過去10天進場的人賺錢；\n",
    "    * 如果今天收盤價低於20日均線(20MA)，就代表過去20天進場的人賠錢。    \n",
    "    \n",
    "    \n",
    "2. 一段時間內的市場共識，排除價格波動的雜訊\n",
    "    * 一條**短期均線**呈現近期的價格並排除雜訊，通常會用5MA、10MA、20MA，\n",
    "    * 一條**長期均線**代表一個長時間的市場共識，通常會用20MA、60MA、120MA等等。\n",
    "    "
   ]
  },
  {
   "cell_type": "markdown",
   "id": "d7daa7c2",
   "metadata": {},
   "source": [
    "## 如何用均線判斷進出場時機?\n",
    "---\n",
    "\n",
    ">以**交叉信號**來判斷上漲或下跌趨勢，  \n",
    "當兩個長短不同的移動平均線(MA)在圖表中交叉，有個專有名詞叫做 <font color = 'red'>死亡交叉、黃金交叉</font>：  \n",
    "\n",
    "\n",
    "1. 移動平均線的 黃金交叉： **短均線向上突破長均線**\n",
    "\n",
    "    當移動平均線20MA向上突破60MA的時候，被稱為是黃金交叉，  \n",
    "    表示短期內可能會上漲、有波段漲幅，適合多單進場或是空單出場。  \n",
    "    \n",
    "\n",
    "2. 移動平均線的 死亡交叉： **短均線向下突破長均線**\n",
    "\n",
    "    當移動平均線20MA跌破60MA的時候，被視為死亡交叉，  \n",
    "    表示短期內可能會下跌、有波段跌幅，適合空單進場或是多單出場。  \n",
    "![](2603.png)"
   ]
  },
  {
   "cell_type": "markdown",
   "id": "89ed69e5",
   "metadata": {},
   "source": [
    "## 兩大注意事項:\n",
    "---\n",
    "\n",
    "用均線突破這種判斷方式，通常在判斷很長期的大趨勢沒什麼問題，但有兩項**缺陷**：\n",
    "\n",
    ">價格短線變動不明確時，均線會<font color = 'red'>頻繁的交叉</font>，這時如果根據這些指標進出場，  \n",
    "就會頻繁的買高賣低被來回洗刷，造成虧損。  \n",
    "\n",
    ">均線是一種<font color = 'red'>過去數據的平均值</font>，因此在做任何反應時，必然都是慢半拍的，  \n",
    "你很難期待它在短線上幫你創造太精確的成果。  \n",
    "很多人會把過去的狀態當成未來必然的變化，但這是錯誤的邏輯。  \n",
    "就像看到烏雲就覺得一定會下雨，但實際上並不一定。"
   ]
  },
  {
   "cell_type": "markdown",
   "id": "d5053033",
   "metadata": {},
   "source": [
    "## 以均線為基礎再延伸的技術指標:\n",
    "* 乖離率\n",
    "* MACD指標\n",
    "* 布林通道\n",
    "* 直通道"
   ]
  },
  {
   "cell_type": "markdown",
   "id": "384dd913",
   "metadata": {},
   "source": [
    "## 三個重點整理:\n",
    "\n",
    "1. 移動平均線(Moving Average)又稱為 均線 或 MA，是過去一段時間價格的平均值。\n",
    "2. 移動平均線反應過去一段時間市場對價格的共識，也是買賣雙方的成交價，均線也可以排除短期內股價上下波動的雜訊。\n",
    "3. 常使用價格(或短均線)穿過長均線，來反應出目前價格脫離過去一段時間的共識，如果認為後續有動能、強者恆強，趨勢就會延續改變(突破!)。也有人認為當價格偏離過大會有均值回歸現象，這些都是均線的使用方式。"
   ]
  },
  {
   "cell_type": "code",
   "execution_count": null,
   "id": "f262b11e",
   "metadata": {},
   "outputs": [],
   "source": []
  }
 ],
 "metadata": {
  "kernelspec": {
   "display_name": "Python 3 (ipykernel)",
   "language": "python",
   "name": "python3"
  },
  "language_info": {
   "codemirror_mode": {
    "name": "ipython",
    "version": 3
   },
   "file_extension": ".py",
   "mimetype": "text/x-python",
   "name": "python",
   "nbconvert_exporter": "python",
   "pygments_lexer": "ipython3",
   "version": "3.8.8"
  },
  "toc": {
   "base_numbering": 1,
   "nav_menu": {},
   "number_sections": true,
   "sideBar": true,
   "skip_h1_title": false,
   "title_cell": "Table of Contents",
   "title_sidebar": "Contents",
   "toc_cell": false,
   "toc_position": {},
   "toc_section_display": true,
   "toc_window_display": false
  }
 },
 "nbformat": 4,
 "nbformat_minor": 5
}
