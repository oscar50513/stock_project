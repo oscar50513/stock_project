{
 "cells": [
  {
   "cell_type": "markdown",
   "id": "06d3ef04",
   "metadata": {},
   "source": [
    "### 股票交易手續費計算\n",
    "請寫一個程式，要求使用者輸入每股成交金額與買入張數(中間以空格區分)，\n",
    "\n",
    "然後程式會輸出交易手續費(取整數計算)，再輸出交割款項。\n",
    "\n",
    "備註:\n",
    "    交割款項 = 交易金額 + 交易手續費\n",
    "    交易金額 = 每股成交金額 * 交易股數(1張股票為1000股)\n",
    "    交易手續費 = 交易金額 * 券商手續費(0.1425％)\n",
    "  \n",
    "    範例輸入1：\n",
    "        15.67 3\n",
    "    範例輸出1：\n",
    "        67\n",
    "        47077\n",
    "    範例輸入2：\n",
    "        581 2\n",
    "    範例輸出2：\n",
    "        1656\n",
    "        1163656    \n",
    "        \n",
    "---\n",
    "\n",
    "* 對於input的處理: **資料型態**為字串!\n",
    "* 字串與串列的轉換: .split(' ')"
   ]
  },
  {
   "cell_type": "code",
   "execution_count": 2,
   "id": "40df91a6",
   "metadata": {},
   "outputs": [
    {
     "name": "stdout",
     "output_type": "stream",
     "text": [
      "15.67 3\n",
      "<class 'str'>\n"
     ]
    }
   ],
   "source": [
    "data = input()\n",
    "print(type(data))"
   ]
  },
  {
   "cell_type": "code",
   "execution_count": 5,
   "id": "4101530c",
   "metadata": {},
   "outputs": [
    {
     "name": "stdout",
     "output_type": "stream",
     "text": [
      "<class 'list'>\n",
      "['15.67', '3']\n"
     ]
    }
   ],
   "source": [
    "line = data.split(' ')\n",
    "print(type(line))\n",
    "print(line)"
   ]
  },
  {
   "cell_type": "code",
   "execution_count": null,
   "id": "e7a6ce44",
   "metadata": {},
   "outputs": [],
   "source": [
    "# Ans:\n",
    "datas = input()\n",
    "data = datas.split(' ')\n",
    "price = float(data[0])\n",
    "num = int(data[1]) * 1000\n",
    "prices = price * num\n",
    "print(prices * 0.001425)\n",
    "s_price = round(prices * 0.001425)\n",
    "print(s_price)\n",
    "print(int(prices + s_price))"
   ]
  },
  {
   "cell_type": "markdown",
   "id": "e9866706",
   "metadata": {},
   "source": [
    "### Numpy\n",
    "1. 今有一班級共4n個人(n>0)，老師按修課序號將全班分成n組。\n",
    "2. 規定每一組的第一人是組長，總成績會額外加5分，超出100以100計。\n",
    "3. 每組的平均成績大於80時，整組的總成績會額外加2分，超出100以100計。\n",
    "4. 全班按照n*4的陣列且照組別依下表安排教室座位。\n",
    "\n",
    "請寫一個程式，要求使用者輸入考試的4n筆成績（整數），使用者輸入一個-1表示完成這次考試成績的輸入。  \n",
    "\n",
    "程式中請按教室座位先輸出考試全班的成績（以整數輸出），然後再輸出加分過後的成績，最後再輸出等第成績。\n",
    "\n",
    "**成績換算**  \n",
    "    90分以上為A  \n",
    "    80分以上為B，類推...  \n",
    "    60分以下為E  \n",
    "\n",
    "    範例輸入1：\n",
    "    70\n",
    "    99\n",
    "    80\n",
    "    85\n",
    "    96\n",
    "    50\n",
    "    46\n",
    "    61\n",
    "    -1\n",
    "    範例輸出1：\n",
    "    [[70 99 80 85]\n",
    "     [96 50 46 61]]\n",
    "\n",
    "    [[ 77. 100.  82.  87.]\n",
    "     [100.  50.  46.  61.]]\n",
    "\n",
    "    [['C' 'A' 'B' 'B']\n",
    "     ['A' 'E' 'E' 'D']]\n",
    "---\n",
    "\n",
    "* 迴圈與input的結合\n",
    "* 串列的處理與新增資料: .append()\n",
    "* Numpy的應用: np.array(串列).reshape(列,行)\n",
    "* Numpy的加總: np.sum(data, axis = 1) \n",
    "    * 1:列;0:行\n",
    "* 注意: Numpy中的資料型態都必須是一樣的矩陣!"
   ]
  },
  {
   "cell_type": "markdown",
   "id": "4c18f035",
   "metadata": {},
   "source": [
    "使用array()將其它格式的資料轉為陣列：\n",
    " * a = np.array([1, 3, 5, 7, 9])  \n",
    "     * 將串列list轉為numpy陣列，每個元素為整數  "
   ]
  },
  {
   "cell_type": "code",
   "execution_count": 2,
   "id": "11c04254",
   "metadata": {},
   "outputs": [
    {
     "name": "stdout",
     "output_type": "stream",
     "text": [
      "[70 99 80 85 96 50]\n"
     ]
    }
   ],
   "source": [
    "import numpy as np\n",
    "line = [70,99,80,85,96,50]\n",
    "nline = np.array(line)\n",
    "print(nline)"
   ]
  },
  {
   "cell_type": "code",
   "execution_count": 3,
   "id": "d026222e",
   "metadata": {},
   "outputs": [
    {
     "name": "stdout",
     "output_type": "stream",
     "text": [
      "[[70 99 80]\n",
      " [85 96 50]]\n"
     ]
    }
   ],
   "source": [
    "# reshape(列,行)函式轉換成多維陣列\n",
    "nline = nline.reshape(2,3)\n",
    "print(nline)"
   ]
  },
  {
   "cell_type": "code",
   "execution_count": 5,
   "id": "f10cf392",
   "metadata": {},
   "outputs": [
    {
     "name": "stdout",
     "output_type": "stream",
     "text": [
      "[77.5 97.5 65. ]\n",
      "[83. 77.]\n"
     ]
    }
   ],
   "source": [
    "#np.mean() \n",
    "mean = np.mean(nline, axis = 0)\n",
    "print(mean)\n",
    "mean1 = np.mean(nline, axis = 1)\n",
    "print(mean1)\n"
   ]
  },
  {
   "cell_type": "code",
   "execution_count": 20,
   "id": "5fd8fab0",
   "metadata": {},
   "outputs": [
    {
     "name": "stdout",
     "output_type": "stream",
     "text": [
      "70\n",
      "99\n",
      "80\n",
      "85\n",
      "96\n",
      "50\n"
     ]
    }
   ],
   "source": [
    "# 運用 for 迴圈走訪 numpy\n",
    "for i in range(2):\n",
    "    for j in range(3): \n",
    "        print(nline[i][j])"
   ]
  },
  {
   "cell_type": "code",
   "execution_count": 22,
   "id": "35524e16",
   "metadata": {},
   "outputs": [
    {
     "name": "stdout",
     "output_type": "stream",
     "text": [
      "70\n",
      "99\n",
      "80\n",
      "88\n",
      "96\n",
      "50\n",
      "46\n",
      "61\n",
      "-1\n",
      "[[70 99 80 88]\n",
      " [96 50 46 61]]\n",
      "[[ 77. 100.  82.  90.]\n",
      " [100.  50.  46.  61.]]\n",
      "\n",
      "[['C' 'A' 'B' 'A']\n",
      " ['A' 'E' 'E' 'D']]\n"
     ]
    }
   ],
   "source": [
    "# Ans:\n",
    "import numpy as np \n",
    "data1 = []\n",
    "n = 0\n",
    "i = eval(input())\n",
    "while(i != -1):\n",
    "    data1.append(i)\n",
    "    i = eval(input())\n",
    "    n += 1\n",
    "num1 = np.array(data1).reshape(int(n/4),4)\n",
    "print(num1)\n",
    "\n",
    "mean = np.mean(num1, axis = 1)\n",
    "for i in range(len(mean)):\n",
    "    if mean[i] > 80:\n",
    "        mean[i] = 2\n",
    "    else:\n",
    "        mean[i] = 0\n",
    "mean = mean.reshape(int(n/4),1)\n",
    "sorce = num1 + mean \n",
    "\n",
    "grade = np.full(int(n),'A').reshape(int(n/4),4)\n",
    "\n",
    "for i in range(int(n/4)):\n",
    "    for j in range(4):\n",
    "        if(j==0):\n",
    "            sorce[i][j] += 5\n",
    "\n",
    "        if(sorce[i][j]> 100):\n",
    "            sorce[i][j] = float(100)\n",
    "        if sorce[i][j] >= 90:\n",
    "            grade[i][j] = 'A'\n",
    "        elif sorce[i][j] >= 80:\n",
    "            grade[i][j] = 'B'\n",
    "        elif sorce[i][j] >= 70:\n",
    "            grade[i][j] = 'C'\n",
    "        elif sorce[i][j] >= 60:\n",
    "            grade[i][j] = 'D'\n",
    "        else:\n",
    "            grade[i][j] = 'E'\n",
    "\n",
    "print()\n",
    "print(sorce)\n",
    "print()\n",
    "print(grade)\n",
    "#70 99 80 88 96 50 46 61 -1"
   ]
  },
  {
   "cell_type": "markdown",
   "id": "b816fd22",
   "metadata": {},
   "source": [
    "### Numpy.reshape(-1)\n",
    "\n",
    "* 當reshape輸入值為-1時，Numpy會根據剩下的維度計算出陣列的另外一個shape屬性值!"
   ]
  },
  {
   "cell_type": "code",
   "execution_count": 23,
   "id": "5eb3a9e0",
   "metadata": {},
   "outputs": [
    {
     "name": "stdout",
     "output_type": "stream",
     "text": [
      "[[70 99 80 88]\n",
      " [96 50 46 61]]\n"
     ]
    }
   ],
   "source": [
    "# data1 = [70, 99, 80, 88, 96, 50, 46, 61]\n",
    "num2 = np.array(data1).reshape(-1,4)\n",
    "print(num2)"
   ]
  },
  {
   "cell_type": "markdown",
   "id": "77643567",
   "metadata": {},
   "source": [
    "### Numpy 二維陣列的取值\n",
    "\n",
    "num2 = \n",
    "[[70 99 80 88]\n",
    " [96 50 46 61]]\n",
    " \n",
    " \n",
    " * 使用**坐標軸**取值： num2[列座標 , 行座標]\n",
    "     * num2[0,0] = 70\n",
    "     * num2[**：**,0]+= 5\n",
    "         * **:** 為取得所有 \"列\",並只取每一列的第一個數字  \n",
    " * 使用**布林值**取值： num2[判斷式]\n",
    "     * num2[num2>100] = 100"
   ]
  },
  {
   "cell_type": "code",
   "execution_count": 61,
   "id": "25c640d6",
   "metadata": {},
   "outputs": [
    {
     "name": "stdout",
     "output_type": "stream",
     "text": [
      "num2 = \n",
      " [[70 99 80 88]\n",
      " [96 50 46 61]]\n",
      "座標(0,0):  70\n",
      "每一列的第一個數字:  [70 96]\n",
      "\n",
      "num2 = \n",
      " [[ 75  99  80  88]\n",
      " [101  50  46  61]]\n",
      "布林陣列: \n",
      " [[False False False False]\n",
      " [ True False False False]]\n",
      "利用布林陣列取值: \n",
      " [101]\n",
      "\n",
      "num2 = \n",
      " [[ 75  99  80  88]\n",
      " [100  50  46  61]]\n",
      "布林陣列: \n",
      " [ True False]\n",
      "利用布林陣列取值: \n",
      " [[75 99 80 88]]\n",
      "num2 = \n",
      " [[ 77 100  82  90]\n",
      " [100  50  46  61]]\n"
     ]
    }
   ],
   "source": [
    "# numpy的取值\n",
    "data1 = [70, 99, 80, 88, 96, 50, 46, 61]\n",
    "num2 = np.array(data1).reshape(-1,4)\n",
    "print(\"num2 = \\n\", num2)\n",
    "print(\"座標(0,0): \", num2[0,0])\n",
    "print(\"每一列的第一個數字: \", num2[:,0])\n",
    "num2[:,0]+=5\n",
    "\n",
    "print(\"\\nnum2 = \\n\",num2)\n",
    "print(\"布林陣列: \\n\", num2>100)\n",
    "print(\"利用布林陣列取值: \\n\", num2[num2>100])\n",
    "num2[num2>100] = 100\n",
    "print(\"\\nnum2 = \\n\",num2)\n",
    "\n",
    "mean = np.mean(num2, axis = 1)\n",
    "print(\"布林陣列: \\n\", mean>80)\n",
    "print(\"利用布林陣列取值: \\n\", num2[mean>80])\n",
    "num2[mean>80]+=2\n",
    "num2[num2>100] = 100\n",
    "print(\"num2 = \\n\",num2)"
   ]
  },
  {
   "cell_type": "markdown",
   "id": "8614d277",
   "metadata": {},
   "source": [
    "### numpy.digitize(x, bins, right=False)\n",
    "https://numpy.org/doc/stable/reference/generated/numpy.digitize.html\n",
    "\n",
    "* 先建立範圍區間: bins=np.array([60,70,80,90])\n",
    "* numpy.digitize(num2, bins):\n",
    "    * 會回傳 num2 各項數值在 bins 的 **區間** 位置!"
   ]
  },
  {
   "cell_type": "code",
   "execution_count": 86,
   "id": "a1af3061",
   "metadata": {},
   "outputs": [
    {
     "name": "stdout",
     "output_type": "stream",
     "text": [
      "num2 = \n",
      " [[ 77 100  82  90]\n",
      " [100  50  46  61]]\n",
      "\n",
      "建立成績區間: [60 70 80 90]\n",
      "\n",
      "成績標的索引:\n",
      " [[2 4 3 4]\n",
      " [4 0 0 1]]\n",
      "\n",
      "num3 = \n",
      " [['C' 'A' 'B' 'A']\n",
      " ['A' 'E' 'E' 'D']]\n"
     ]
    }
   ],
   "source": [
    "print(\"num2 = \\n\", num2)\n",
    "bins=np.array([60,70,80,90])\n",
    "print(\"\\n建立成績區間:\", bins)\n",
    "inds=np.digitize(num2,bins)\n",
    "\n",
    "print(\"\\n成績標的索引:\\n\", inds)\n",
    "level = ['E','D','C','B','A']\n",
    "num3 = [level[int(i)] for i in inds.reshape(-1,1)]\n",
    "num3 = np.array(num3).reshape(-1,4)\n",
    "print(\"\\nnum3 = \\n\", num3)"
   ]
  },
  {
   "cell_type": "markdown",
   "id": "337a3b14",
   "metadata": {},
   "source": [
    "### pandas \n",
    "> 請設計一程式分析2330在7月與8月的表現，讀取 [2330.csv](2330.csv) 檔後計算出每月平均股價(收盤價)、當月的最高價及成交量(月總和) \n",
    "\n",
    "    EX:\n",
    "    7 月的平均股價為: 370.74  元\n",
    "    當月的最高價為:   466.5  元\n",
    "    本月成交量為:  1468402  張\n",
    "\n",
    "    8 月的平均股價為: 429.67  元\n",
    "    當月的最高價為:   453.5  元\n",
    "    本月成交量為:  1001180  張\n",
    "---\n",
    "* pandas的讀檔\n",
    "* pandas設定時間\n",
    "* pandas取資料,loc與iloc\n",
    "* pandas計算"
   ]
  },
  {
   "cell_type": "code",
   "execution_count": 102,
   "id": "bede0ed5",
   "metadata": {
    "collapsed": true
   },
   "outputs": [
    {
     "name": "stdout",
     "output_type": "stream",
     "text": [
      "          Date   Open   High    Low  Close  Volume\n",
      "0   2020/07/01  315.0  318.0  314.0  317.5   29685\n",
      "1   2020/07/02  319.0  322.0  318.0  322.0   37789\n",
      "2   2020/07/03  327.0  330.5  326.5  329.5   55657\n",
      "3   2020/07/06  332.5  338.0  332.0  338.0   57256\n",
      "4   2020/07/07  343.5  346.0  338.0  338.5   59046\n",
      "5   2020/07/08  337.5  342.5  337.5  341.0   33813\n",
      "6   2020/07/09  346.0  347.0  343.0  345.0   37410\n",
      "7   2020/07/10  352.5  353.0  345.5  348.5   60902\n",
      "8   2020/07/13  351.0  354.5  350.5  354.5   49460\n",
      "9   2020/07/14  355.0  364.0  354.5  363.5   63030\n",
      "10  2020/07/15  366.0  370.0  361.0  363.0   75105\n",
      "11  2020/07/16  359.0  361.0  353.5  357.5   68583\n",
      "12  2020/07/17  361.0  369.0  360.0  367.0   66403\n",
      "13  2020/07/20  370.0  370.0  362.5  366.0   44940\n",
      "14  2020/07/21  372.5  387.0  371.5  383.0   64440\n",
      "15  2020/07/22  381.0  386.0  379.0  384.0   43960\n",
      "16  2020/07/23  382.0  383.0  379.0  381.5   45397\n",
      "17  2020/07/24  390.0  395.0  382.0  386.0   90989\n",
      "18  2020/07/27  420.5  424.5  416.5  424.5  103316\n",
      "19  2020/07/28  464.0  466.5  428.5  435.0  172158\n",
      "20  2020/07/29  428.0  431.5  419.5  422.0   88641\n",
      "21  2020/07/30  436.5  441.0  428.5  434.0   69937\n",
      "22  2020/07/31  426.0  432.0  425.5  425.5   50485\n",
      "23  2020/08/03  420.5  424.0  415.0  416.0   77289\n",
      "24  2020/08/04  421.5  425.5  418.5  425.5   41697\n",
      "25  2020/08/05  430.5  433.5  426.0  429.0   47461\n",
      "26  2020/08/06  437.5  438.0  431.0  435.0   43444\n",
      "27  2020/08/07  433.5  434.0  428.0  433.0   37611\n",
      "28  2020/08/10  427.5  437.5  427.5  435.5   36068\n",
      "29  2020/08/11  432.0  435.0  429.0  429.0   34545\n",
      "30  2020/08/12  422.0  423.5  419.0  419.0   53980\n",
      "31  2020/08/13  428.0  429.0  424.5  429.0   45669\n",
      "32  2020/08/14  424.0  428.0  423.0  427.0   24260\n",
      "33  2020/08/17  427.0  435.0  425.5  435.0   34608\n",
      "34  2020/08/18  440.0  440.5  432.0  433.0   45504\n",
      "35  2020/08/19  436.0  436.5  427.5  427.5   31487\n",
      "36  2020/08/20  427.0  427.5  401.0  415.0   75155\n",
      "37  2020/08/21  421.5  427.0  420.0  424.5   41956\n",
      "38  2020/08/24  427.5  434.5  425.0  428.0   49199\n",
      "39  2020/08/25  433.5  436.0  430.5  434.5   37025\n",
      "40  2020/08/26  435.5  442.0  435.0  442.0   41406\n",
      "41  2020/08/27  448.0  453.5  444.0  444.0   57207\n",
      "42  2020/08/28  440.0  440.5  431.0  435.0   57039\n",
      "43  2020/08/31  437.0  439.5  426.5  426.5   88570\n"
     ]
    }
   ],
   "source": [
    "import pandas as pd\n",
    "import numpy as np\n",
    "data = pd.read_csv('2330.csv')\n",
    "print(data)"
   ]
  },
  {
   "cell_type": "code",
   "execution_count": 108,
   "id": "d647383f",
   "metadata": {},
   "outputs": [
    {
     "name": "stdout",
     "output_type": "stream",
     "text": [
      "        Date   Open   High    Low  Close  Volume\n",
      "0 2020-07-01  315.0  318.0  314.0  317.5   29685\n",
      "1 2020-07-02  319.0  322.0  318.0  322.0   37789\n",
      "2 2020-07-03  327.0  330.5  326.5  329.5   55657\n",
      "3 2020-07-06  332.5  338.0  332.0  338.0   57256\n",
      "4 2020-07-07  343.5  346.0  338.0  338.5   59046\n",
      "取得月份:\n",
      " 0    7\n",
      "1    7\n",
      "2    7\n",
      "3    7\n",
      "4    7\n",
      "Name: Date, dtype: int64\n"
     ]
    }
   ],
   "source": [
    "# 設定時間座標: pandas.to_datetime(data[\"Data\"])\n",
    "data[\"Date\"]= pd.to_datetime(data[\"Date\"]) \n",
    "print(data.head())\n",
    "\n",
    "# data[\"Date\"].dt.month\n",
    "print(\"取得月份:\\n\", data[\"Date\"].dt.month.head())"
   ]
  },
  {
   "cell_type": "code",
   "execution_count": 101,
   "id": "9a644140",
   "metadata": {},
   "outputs": [
    {
     "name": "stdout",
     "output_type": "stream",
     "text": [
      "         Date   Open   High    Low  Close  Volume\n",
      "18 2020-07-27  420.5  424.5  416.5  424.5  103316\n",
      "19 2020-07-28  464.0  466.5  428.5  435.0  172158\n",
      "20 2020-07-29  428.0  431.5  419.5  422.0   88641\n",
      "21 2020-07-30  436.5  441.0  428.5  434.0   69937\n",
      "22 2020-07-31  426.0  432.0  425.5  425.5   50485\n",
      "\n",
      "七月股價:\n",
      "          Date   Open   High    Low  Close  Volume\n",
      "18 2020-07-27  420.5  424.5  416.5  424.5  103316\n",
      "19 2020-07-28  464.0  466.5  428.5  435.0  172158\n",
      "20 2020-07-29  428.0  431.5  419.5  422.0   88641\n",
      "21 2020-07-30  436.5  441.0  428.5  434.0   69937\n",
      "22 2020-07-31  426.0  432.0  425.5  425.5   50485\n",
      "\n",
      "八月股價:\n",
      "          Date   Open   High    Low  Close  Volume\n",
      "39 2020-08-25  433.5  436.0  430.5  434.5   37025\n",
      "40 2020-08-26  435.5  442.0  435.0  442.0   41406\n",
      "41 2020-08-27  448.0  453.5  444.0  444.0   57207\n",
      "42 2020-08-28  440.0  440.5  431.0  435.0   57039\n",
      "43 2020-08-31  437.0  439.5  426.5  426.5   88570\n"
     ]
    }
   ],
   "source": [
    "# DataFrame.iloc[列索引,行索引]\n",
    "data1 = data.iloc[:23,:]\n",
    "print(data1.tail())\n",
    "\n",
    "data_07 = data[data[\"Date\"].dt.month == 7]\n",
    "print(\"\\n七月股價:\\n\", data_07.tail())\n",
    "data_08 = data[data[\"Date\"].dt.month == 8]\n",
    "print(\"\\n八月股價:\\n\", data_08.tail())"
   ]
  },
  {
   "cell_type": "code",
   "execution_count": 112,
   "id": "d39669c2",
   "metadata": {
    "scrolled": true
   },
   "outputs": [
    {
     "name": "stdout",
     "output_type": "stream",
     "text": [
      "7 月的平均股價為:  370.74  元\n",
      "當月的最高價為:    466.5  元\n",
      "本月成交量為:   1468402  張\n",
      "\n",
      "8 月的平均股價為:  429.67  元\n",
      "當月的最高價為:    453.5  元\n",
      "本月成交量為:   1001180  張\n"
     ]
    }
   ],
   "source": [
    "print(\"7 月的平均股價為: \", round(data_07[\"Close\"].mean(),2),\" 元\")\n",
    "print(\"當月的最高價為:   \", data_07[\"High\"].max(), \" 元\")\n",
    "print(\"本月成交量為:  \", data_07[\"Volume\"].sum(),\" 張\")\n",
    "print()\n",
    "print(\"8 月的平均股價為: \",round(data_08.Close.mean(),2),\" 元\")\n",
    "print(\"當月的最高價為:   \", data_08.High.max(), \" 元\")\n",
    "print(\"本月成交量為:  \", data_08.Volume.sum(),\" 張\")"
   ]
  }
 ],
 "metadata": {
  "kernelspec": {
   "display_name": "Python 3",
   "language": "python",
   "name": "python3"
  },
  "language_info": {
   "codemirror_mode": {
    "name": "ipython",
    "version": 3
   },
   "file_extension": ".py",
   "mimetype": "text/x-python",
   "name": "python",
   "nbconvert_exporter": "python",
   "pygments_lexer": "ipython3",
   "version": "3.8.8"
  },
  "toc": {
   "base_numbering": 1,
   "nav_menu": {},
   "number_sections": true,
   "sideBar": true,
   "skip_h1_title": false,
   "title_cell": "Table of Contents",
   "title_sidebar": "Contents",
   "toc_cell": false,
   "toc_position": {},
   "toc_section_display": true,
   "toc_window_display": false
  }
 },
 "nbformat": 4,
 "nbformat_minor": 5
}
