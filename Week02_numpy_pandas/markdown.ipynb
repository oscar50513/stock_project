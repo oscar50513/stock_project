{
 "cells": [
  {
   "cell_type": "markdown",
   "metadata": {
    "collapsed": true
   },
   "source": [
    "<h1 style=\"color:blue;text-align:center\"> Markdown 格式介紹 </h1>\n",
    "\n",
    "<h3 style=\"color:black;text-align:center\"> 賴志宏 Chih-Hung Lai &emsp; 建立日期：2019.09.18   &emsp; 最後修改日期：2021.03.04"
   ]
  },
  {
   "cell_type": "markdown",
   "metadata": {},
   "source": [
    "<h2 style=\"color:blue\"> Content of Table </h2>\n",
    "\n",
    "1. 標題文字\n",
    "2. 換行＆空格\n",
    "3. 項目符號的列表清單\n",
    "4. 字形變化\n",
    "5. 字形顏色\n",
    "6. 超連結\n",
    "7. 圖片\n",
    "8. 表格\n",
    "9. 其它"
   ]
  },
  {
   "cell_type": "markdown",
   "metadata": {},
   "source": [
    "### 可參考：\n",
    "* W3C HTML\n",
    " * https://www.w3schools.com/html/default.asp\n",
    "* HackMD 網站：\n",
    " * https://hackmd.io/NfUvqoDOQ1mq6jEAxR-dGw \n",
    "* 瑪利歐的部落格\n",
    " * https://ed521.github.io/2019/08/hexo-markdown/"
   ]
  },
  {
   "cell_type": "markdown",
   "metadata": {
    "collapsed": true
   },
   "source": [
    "# <font color = blue> 1. 標題文字"
   ]
  },
  {
   "cell_type": "markdown",
   "metadata": {},
   "source": [
    "# 標題 1\n",
    "## 標題 2\n",
    "### 標題 3\n",
    "#### 標題 4\n",
    "##### 標題 5\n",
    "###### 標題 6"
   ]
  },
  {
   "cell_type": "markdown",
   "metadata": {},
   "source": [
    "# <font color = blue>2. 換行＆空格"
   ]
  },
  {
   "cell_type": "code",
   "execution_count": null,
   "metadata": {},
   "outputs": [],
   "source": [
    "* 會忽略空白(數個空格只保留一個）和換行\n",
    "* 在上一列的最後面要空兩格，才會換到下一列\n",
    "    \n",
    "* 插入一个空格 (non-breaking space)\n",
    "　　　　&nbsp;    或    &#160;     或      &#xA0;\n",
    "\n",
    "* 插入两个空格 (en space)\n",
    "　　　　&ensp;     或    &#8194;   或      &#x2002;\n",
    "\n",
    "* 插入四个空格 (em space)\n",
    "　　　　&emsp;    或    &#8195;   或      &#x2003;\n",
    "\n",
    "* 插入细空格 (thin space)\n",
    "　　　　&thinsp;   或     &#8201;  或      &#x2009;\n",
    "\n",
    "* 注意：不要漏掉分号。"
   ]
  },
  {
   "cell_type": "markdown",
   "metadata": {
    "collapsed": true
   },
   "source": [
    "# <font color = blue>3. 項目符號的列表清單"
   ]
  },
  {
   "cell_type": "markdown",
   "metadata": {},
   "source": [
    "## 無次序項目清單\n",
    "### 方法：使用 + - * 皆可，之後接上一個空格\n",
    "\n",
    "* fa\n",
    "* ab\n",
    "\n"
   ]
  },
  {
   "cell_type": "markdown",
   "metadata": {},
   "source": [
    "## 多層清單\n",
    "* 列表資料\n",
    " * 內縮的列表\n",
    "* 列表資料\n",
    " * 內縮的列表\n",
    "   * 內縮的列表"
   ]
  },
  {
   "cell_type": "markdown",
   "metadata": {},
   "source": [
    "## 數字項目清單\n",
    "### 方法：數字之後接上一個空格\n",
    "\n",
    "1. fsdaf\n",
    "2. fsd"
   ]
  },
  {
   "cell_type": "markdown",
   "metadata": {
    "collapsed": true
   },
   "source": [
    "## 數字的列表清單 ??"
   ]
  },
  {
   "cell_type": "markdown",
   "metadata": {},
   "source": [
    "1. 數字清單1\n",
    "2. 數字清單1     \n",
    "2.1 數字清單2.1    \n",
    "2.2 數字清單2.2    \n",
    "2.2.1 數字清單2.2.1\n",
    "\n",
    "註：超過一層清單，每個清單後面要空兩格，才會換到下一列（使用非清單的一般格式）"
   ]
  },
  {
   "cell_type": "markdown",
   "metadata": {},
   "source": [
    "## 方形清單（代辦事項清單）\n",
    "\n",
    "- [ ] 青菜  \n",
    "- [x] 蘿蔔  \n",
    "- [x] 醬油  \n",
    "- [ ] 豬肉\n",
    "\n",
    "[x] 青菜"
   ]
  },
  {
   "cell_type": "markdown",
   "metadata": {},
   "source": [
    "# <font color = blue>4. 字形變化"
   ]
  },
  {
   "cell_type": "markdown",
   "metadata": {},
   "source": [
    "*我是斜體*\n",
    "\n",
    "**我是粗體**\t\n",
    "\n",
    "***我是粗斜體***\t\n",
    "\n",
    "~~我是刪除線~~  \n",
    "\n",
    "<u>我是底線，使用 HTML 語法 </u>  \n",
    "    \n",
    "我是<sup>上標字 </sup> ，使用 HTML 語法  \n",
    "X <sup> 2 </sup>\n",
    "\n",
    "我是<sub>下標字 </sub> ，使用 HTML 語法\n",
    "\n",
    "X <sub> 2 </sub>"
   ]
  },
  {
   "cell_type": "markdown",
   "metadata": {},
   "source": [
    "# <font color = blue> 5. 字形顏色\n",
    "\n",
    "* markdown不提供，使用 html 語法"
   ]
  },
  {
   "cell_type": "markdown",
   "metadata": {},
   "source": [
    "## 方法有兩種：\n",
    "1. <font color = \"顏色的英文單字\">  文字 </font>\n",
    " * <font color = \"red\"> 紅色的字體 </font>\n",
    "\n",
    "2. <font color = \"#RGB的16進位數字\">  文字 </font>\n",
    " * <font color = \"#ooFFoo\">  綠色的字體 </font> \n"
   ]
  },
  {
   "cell_type": "markdown",
   "metadata": {},
   "source": [
    "red\t#ff0000  \n",
    "yellow\t#ffff00  \n",
    "lime\t#00ff00   \n",
    "aqua (cyan)\t#00ffff  \n",
    "blue\t#0000ff \n",
    "\n",
    "[常用顏色表](https://www.ifreesite.com/color/web-color-code.htm)"
   ]
  },
  {
   "cell_type": "markdown",
   "metadata": {
    "collapsed": true
   },
   "source": [
    "# <font color = blue>6. 超連結"
   ]
  },
  {
   "cell_type": "code",
   "execution_count": null,
   "metadata": {},
   "outputs": [],
   "source": [
    "格式：[顯示的文字](超連結或含路徑的檔案) "
   ]
  },
  {
   "cell_type": "markdown",
   "metadata": {},
   "source": [
    "[google連結](http://www.google.com)  \n",
    "[test](test.ipynb)  \n",
    "[賴志宏的python筆記首頁](../index.ipynb)  "
   ]
  },
  {
   "cell_type": "markdown",
   "metadata": {
    "collapsed": true
   },
   "source": [
    "# <font color = blue>7. 圖片"
   ]
  },
  {
   "cell_type": "code",
   "execution_count": 5,
   "metadata": {},
   "outputs": [],
   "source": [
    "# 格式： ![說明文字](圖片檔名，可以是網路的 URL，或是本地的圖檔，可加入路徑)"
   ]
  },
  {
   "cell_type": "markdown",
   "metadata": {},
   "source": [
    "![Google圖片](NDHU_logo.png)\n",
    "![Google圖片](https://www.google.com.tw/images/branding/googlelogo/2x/googlelogo_color_272x92dp.png)"
   ]
  },
  {
   "cell_type": "markdown",
   "metadata": {
    "collapsed": true
   },
   "source": [
    "## 使用HTML 標籤加入圖片"
   ]
  },
  {
   "cell_type": "markdown",
   "metadata": {},
   "source": [
    "<img src =\"NDHU_logo.png\" width = \"100\" height = \"50\" align = \"center\">\n",
    "<img src =\"NDHU_logo.png\" width = \"100\" height = \"50\" align = \"right\">"
   ]
  },
  {
   "cell_type": "markdown",
   "metadata": {},
   "source": [
    "# <font color=\"blue\"> 8. 表格"
   ]
  },
  {
   "cell_type": "markdown",
   "metadata": {},
   "source": [
    "表格的基本語法如下，第一列是表格的標題列，然後第二列固定要是以 --- 做區隔，加欄位都是使用 | 來添加。注意表格的每欄寬度會自動分配，所以可以忽略一切的空格(也就是每列的 | 沒有對齊也沒關係，且加多少空格也不會影響每欄的寬度)"
   ]
  },
  {
   "cell_type": "markdown",
   "metadata": {},
   "source": [
    "| Column 1 | Column 2 | Column 3 |\n",
    "| -------- | -------- | -------- |\n",
    "| Text1 | Text2 | Text3 |\n",
    "| Text4    | Text5    | Text6    |\n"
   ]
  },
  {
   "cell_type": "code",
   "execution_count": null,
   "metadata": {},
   "outputs": [],
   "source": [
    "而每欄可以決定要如何對齊，對齊方式取決於第二列的 ---，再加上 : 符號：\n",
    "\n",
    ":--- 靠左對齊。\n",
    "---: 靠右對齊。\n",
    ":---: 置中對齊。"
   ]
  },
  {
   "cell_type": "markdown",
   "metadata": {},
   "source": [
    "| 預設對齊 | 靠左對齊 | 靠右對齊 | 置中對齊 |\n",
    "| ----- | :----- | -----: | :-----: |\n",
    "| Text1 | Text2 | Text3 | Text4 |\n",
    "| Text5 | Text6 | Text7 | Text8 |\n",
    "| Text9 | Text10 | Text11 | Text12 |"
   ]
  },
  {
   "cell_type": "markdown",
   "metadata": {},
   "source": [
    "# <font color = \"blue\"> 9. 其它"
   ]
  },
  {
   "cell_type": "markdown",
   "metadata": {},
   "source": [
    "## 分隔線\n",
    "\n",
    "一整列中輸入三個以上的 *** 或三個以上的 ---，且整列不能有其它文字，結果顯示如下：\n",
    "\n",
    "test\n",
    "=====\n",
    "\n",
    "\n",
    "test\n",
    "\n",
    "---\n"
   ]
  },
  {
   "cell_type": "markdown",
   "metadata": {},
   "source": [
    "## 引用區塊"
   ]
  },
  {
   "cell_type": "markdown",
   "metadata": {},
   "source": [
    "> 動車品牌蔚來最近自信滿點。  \n",
    "> 蔚來創辦人、董事長兼CEO李斌近日表示，\n",
    ">> 蔚來的短期競爭對手是賓士\n",
    ">>> 、BMW、奧迪蔚來"
   ]
  },
  {
   "cell_type": "markdown",
   "metadata": {},
   "source": [
    "# 注意：\n",
    "\n",
    "* HTML 語法盡量包在 Markdown 語法裡面，否則可能會造成一些顯示上的錯誤，或是使得markdown錯誤，例如：\n",
    "\n",
    "<font color = \"blue\"> * 1. test"
   ]
  }
 ],
 "metadata": {
  "kernelspec": {
   "display_name": "Python 3 (ipykernel)",
   "language": "python",
   "name": "python3"
  },
  "language_info": {
   "codemirror_mode": {
    "name": "ipython",
    "version": 3
   },
   "file_extension": ".py",
   "mimetype": "text/x-python",
   "name": "python",
   "nbconvert_exporter": "python",
   "pygments_lexer": "ipython3",
   "version": "3.8.8"
  }
 },
 "nbformat": 4,
 "nbformat_minor": 2
}
