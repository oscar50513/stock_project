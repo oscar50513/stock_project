{
 "cells": [
  {
   "cell_type": "markdown",
   "id": "528e7c26",
   "metadata": {},
   "source": [
    "# 股票交易流程:"
   ]
  },
  {
   "cell_type": "markdown",
   "id": "45693904",
   "metadata": {},
   "source": [
    "## 交割日期:  \n",
    "    假設投資人在 T日 購買一張股票， T日稱為成交日期。\n",
    "    不過投資人必須要等到 T+1(隔日) 才會收到這張股票。\n",
    "    若是要賣這張股票，也是T+1(隔日)才能賣出。\n",
    "    而這張股票必須支付的股款，必須在T+2早上10點前存入證券交割帳戶，\n",
    "    T+2 也就是所謂的交割日期。\n",
    "    若是T+2早上10點後，戶頭裡面的餘額不夠支付，就會發生違約交割的情形。\n",
    "\n",
    "## 股票買賣交易流程:\n",
    "\n",
    "| T日(今天) | T+1日(明天) | T+2日(後天10：00) |\n",
    "| :-----: | :-----: | :-----: | \n",
    "| 購買(賣出)股票 | 取得(失去)股票 | 支出(收入)股款 |\n",
    "\n",
    "\n",
    "## 程式練習:\n",
    ">每當我們成功買進股票時，券商發送訊息會告知成交的相關訊息，  \n",
    "請設計一程式，將成交回報的字串處理過後，輸出相關的交割資訊來提醒投資人。  \n",
    "\n",
    "    input:  \n",
    "    \"於 7/15 2330 限價 581元  盤中零股現買 20股 已成交\"   \n",
    "    output: \n",
    "    \"您於 7/15 購買 2330，每股 581元 20股\"  \n",
    "    \"提醒您交割日期為 7月17日 10:00，交割款項為 11637元!\"\n",
    "\n",
    "備註:   \n",
    "交割款項 = 成交價格 + 券商手續費  \n",
    "成交價格 = 581(成交價) * 20(股數)  \n",
    "券商手續費 = 成交價格 * 0.1425%  \n"
   ]
  },
  {
   "cell_type": "code",
   "execution_count": null,
   "id": "cc30041f",
   "metadata": {},
   "outputs": [],
   "source": []
  }
 ],
 "metadata": {
  "kernelspec": {
   "display_name": "Python 3",
   "language": "python",
   "name": "python3"
  },
  "language_info": {
   "codemirror_mode": {
    "name": "ipython",
    "version": 3
   },
   "file_extension": ".py",
   "mimetype": "text/x-python",
   "name": "python",
   "nbconvert_exporter": "python",
   "pygments_lexer": "ipython3",
   "version": "3.8.11"
  },
  "toc": {
   "base_numbering": 1,
   "nav_menu": {},
   "number_sections": true,
   "sideBar": true,
   "skip_h1_title": false,
   "title_cell": "Table of Contents",
   "title_sidebar": "Contents",
   "toc_cell": false,
   "toc_position": {},
   "toc_section_display": true,
   "toc_window_display": false
  }
 },
 "nbformat": 4,
 "nbformat_minor": 5
}
