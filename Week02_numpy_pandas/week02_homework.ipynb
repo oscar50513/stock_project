{
 "cells": [
  {
   "cell_type": "markdown",
   "id": "6ace3cc2",
   "metadata": {},
   "source": [
    "## week02_homework\n",
    "基本的Python一題，Numpy與Pandas各一題"
   ]
  },
  {
   "cell_type": "markdown",
   "id": "b5b2d655",
   "metadata": {},
   "source": [
    "### Python"
   ]
  },
  {
   "cell_type": "markdown",
   "id": "5b013579",
   "metadata": {},
   "source": [
    "### 交割日期:  \n",
    "    假設投資人在 T日 購買一張股票， T日稱為成交日期。\n",
    "    不過投資人必須要等到 T+1(隔日) 才會收到這張股票。\n",
    "    若是要賣這張股票，也是T+1(隔日)才能賣出。\n",
    "    而這張股票必須支付的股款，必須在T+2早上10點前存入證券交割帳戶，\n",
    "    T+2 也就是所謂的交割日期。\n",
    "    若是T+2早上10點後，戶頭裡面的餘額不夠支付，就會發生違約交割的情形。\n",
    "\n",
    "### 股票買賣交易流程:\n",
    "\n",
    "| T日(今天) | T+1日(明天) | T+2日(後天10：00) |\n",
    "| :-----: | :-----: | :-----: | \n",
    "| 購買(賣出)股票 | 取得(失去)股票 | 支出(收入)股款 |\n",
    "\n",
    "\n",
    "### 作業一:\n",
    ">每當我們成功買進股票時，券商發送訊息會告知成交的相關訊息，  \n",
    "請設計一程式，將成交回報的字串處理過後，輸出相關的交割資訊來提醒投資人。  \n",
    "\n",
    "    input:  \n",
    "    \"於 7/15 2330 限價 581元  盤中零股現買 20股 已成交\"   \n",
    "    output: \n",
    "    \"您於 7/15 購買 2330，每股 581元 20股\"  \n",
    "    \"提醒您交割日期為 7月17日 10:00，交割款項為 11637元!\"\n",
    "\n",
    "備註:   \n",
    "交割款項 = 成交價格 + 券商手續費  \n",
    "成交價格 = 581(成交價) * 20(股數)  \n",
    "券商手續費 = 成交價格 * 0.1425%  \n"
   ]
  },
  {
   "cell_type": "code",
   "execution_count": 97,
   "id": "851cde37",
   "metadata": {},
   "outputs": [
    {
     "name": "stdout",
     "output_type": "stream",
     "text": [
      "於 7/15 2330 限價 581元 盤中零股現買 20股 已成交\n",
      "您於 7/15 購買 2330 ，每股 581元 共 20股\n",
      "提醒您交割日期為 7 月 17 ，交割款項為  11637.0 元!\n"
     ]
    }
   ],
   "source": [
    "data = input()\n",
    "s = data.split(' ')\n",
    "#print(s)\n",
    "print(\"您於\", s[1], \"購買\", s[2], \"，每股\", s[4], '共', s[6])\n",
    "\n",
    "day = s[1].split('/')\n",
    "if int(day[1]) + 2 < 31:\n",
    "    day[1] = int(day[1]) + 2\n",
    "else:\n",
    "    day[0] = int(day[0]) + 1\n",
    "    day[1] = int(day[1]) + 2 - 31\n",
    "price = float(s[4].replace('元',''))\n",
    "#print(price)\n",
    "num = int(s[6].replace('股',''))\n",
    "s_price = round(price * num * 0.001425) \n",
    "print(\"提醒您交割日期為\", day[0], '月', day[1], \"，交割款項為 \", price*num+s_price, \"元!\" )"
   ]
  },
  {
   "cell_type": "code",
   "execution_count": null,
   "id": "19850816",
   "metadata": {},
   "outputs": [],
   "source": []
  },
  {
   "cell_type": "markdown",
   "id": "cfc8a65f",
   "metadata": {},
   "source": [
    "請寫一個程式，要求使用者輸入每股成交金額與買入張數(中間以空格區分)，\n",
    "\n",
    "然後程式會輸出交易手續費(取整數計算)，再輸出交割款項。\n",
    "\n",
    "備註:\n",
    "    交割款項 = 交易金額 + 交易手續費\n",
    "    交易金額 = 每股成交金額 * 交易股數(1張股票為1000股)\n",
    "    交易手續費 = 交易金額 * 券商手續費(0.1425％)\n",
    "  \n",
    "    範例輸入1：\n",
    "        15.67 3\n",
    "    範例輸出1：\n",
    "        67\n",
    "        47077\n",
    "    範例輸入2：\n",
    "        581 2\n",
    "    範例輸出2：\n",
    "        1656\n",
    "        1163656    \n",
    "        \n",
    "---\n",
    "\n",
    "* 對於input的處理: **資料型態**為字串!\n",
    "* 字串與串列的轉換: .split(' ')"
   ]
  },
  {
   "cell_type": "code",
   "execution_count": 2,
   "id": "84664bf7",
   "metadata": {},
   "outputs": [
    {
     "name": "stdout",
     "output_type": "stream",
     "text": [
      "104.5 6\n",
      "893.475\n",
      "893\n",
      "627893\n"
     ]
    }
   ],
   "source": [
    "datas = input()\n",
    "#print(datas)\n",
    "data = datas.split(' ')\n",
    "#print(data)\n",
    "price = float(data[0])\n",
    "num = int(data[1]) * 1000\n",
    "prices = price * num\n",
    "print(prices * 0.001425)\n",
    "s_price = round(prices * 0.001425)\n",
    "print(s_price)\n",
    "print(int(prices + s_price))"
   ]
  },
  {
   "cell_type": "markdown",
   "id": "650bfe29",
   "metadata": {},
   "source": [
    "### Numpy"
   ]
  },
  {
   "cell_type": "markdown",
   "id": "56981b9c",
   "metadata": {},
   "source": [
    "1. 今有一班級共4n個人(n>0)，老師按修課序號將全班分成n組。\n",
    "2. 規定每一組的第一人是組長，總成績會額外加5分，超出100以100計。\n",
    "3. 每組的平均成績大於80時，整組的總成績會額外加2分，超出100以100計。\n",
    "4. 全班按照n*4的陣列且照組別依下表安排教室座位。\n",
    "\n",
    "請寫一個程式，要求使用者輸入考試的4n筆成績（整數），使用者輸入一個-1表示完成這次考試成績的輸入。  \n",
    "\n",
    "然後程式會輸出交易手續費(取整數計算)，再輸出交割款項。\n",
    "\n",
    "> 請設計一程式，先輸入\n",
    "程式中請按教室座位先輸出考試全班的成績（以整數輸出），然後再輸出加分過後的成績，最後再輸出等第成績(含組長額外加分，)。\n",
    "\n",
    "**成績換算**\n",
    "    90分以上為A\n",
    "    80分以上為B，類推...\n",
    "    60分以下為E\n",
    "\n",
    "    範例輸入1：\n",
    "    70\n",
    "    99\n",
    "    80\n",
    "    85\n",
    "    96\n",
    "    50\n",
    "    46\n",
    "    61\n",
    "    -1\n",
    "    範例輸出1：\n",
    "    [[70 99 80 85]\n",
    "     [96 50 46 61]]\n",
    "\n",
    "    [[ 77. 100.  82.  87.]\n",
    "     [100.  50.  46.  61.]]\n",
    "\n",
    "    [['C' 'A' 'B' 'B']\n",
    "     ['A' 'E' 'E' 'D']]\n",
    "---\n",
    "直行橫列\n",
    "\n",
    "* 迴圈與input與走訪Numpy\n",
    "* 串列的處理與新增資料: .append()\n",
    "* Numpy的應用: np.array(串列).reshape(列,行)\n",
    "* Numpy的加總: np.sum(data, axis = 1) \n",
    "    * 1:列;0:行\n",
    "* 注意: Numpy中的資料型態都必須是一樣的矩陣!"
   ]
  },
  {
   "cell_type": "code",
   "execution_count": 18,
   "id": "52676087",
   "metadata": {},
   "outputs": [
    {
     "name": "stdout",
     "output_type": "stream",
     "text": [
      "94\n",
      "89\n",
      "84\n",
      "76\n",
      "99\n",
      "65\n",
      "45\n",
      "77\n",
      "55\n",
      "80\n",
      "99\n",
      "73\n",
      "-1\n",
      "[[94 89 84 76]\n",
      " [99 65 45 77]\n",
      " [55 80 99 73]]\n",
      "\n",
      "[[100.  91.  86.  78.]\n",
      " [100.  65.  45.  77.]\n",
      " [ 60.  80.  99.  73.]]\n",
      "\n",
      "[['A' 'A' 'B' 'C']\n",
      " ['A' 'D' 'E' 'C']\n",
      " ['D' 'B' 'A' 'C']]\n"
     ]
    }
   ],
   "source": [
    "import numpy as np \n",
    "data1 = []\n",
    "n = 0\n",
    "i = eval(input())\n",
    "while(i != -1):\n",
    "    data1.append(i)\n",
    "    i = eval(input())\n",
    "    n += 1\n",
    "num1 = np.array(data1).reshape(int(n/4),4)\n",
    "\n",
    "print(num1)\n",
    "\n",
    "add = np.sum(num1, axis = 1)\n",
    "add = add/4\n",
    "#print(add)\n",
    "for i in range(len(add)):\n",
    "    if add[i] > 80:\n",
    "        add[i] = 2\n",
    "    else:\n",
    "        add[i] = 0\n",
    "#print(add)\n",
    "add = add.reshape(int(n/4),1)\n",
    "#print(add)\n",
    "sorce = num1 + add \n",
    "print()\n",
    "#print(sorce)\n",
    "\n",
    "grade = np.full(int(n),'A').reshape(int(n/4),4)\n",
    "\n",
    "for i in range(int(n/4)):\n",
    "    for j in range(4):\n",
    "        if(j==0):\n",
    "            sorce[i][j] += 5\n",
    "        if(sorce[i][j]> 100):\n",
    "            sorce[i][j] = float(100)\n",
    "        if sorce[i][j] >= 90:\n",
    "            grade[i][j] = 'A'\n",
    "        elif sorce[i][j] >= 80:\n",
    "            grade[i][j] = 'B'\n",
    "        elif sorce[i][j] >= 70:\n",
    "            grade[i][j] = 'C'\n",
    "        elif sorce[i][j] >= 60:\n",
    "            grade[i][j] = 'D'\n",
    "        else:\n",
    "            grade[i][j] = 'E'\n",
    "print(sorce)\n",
    "print()\n",
    "print(grade)\n",
    "#70 99 80 88 96 50 46 61 -1\n",
    "#94 89 84 76 99 65 45 77 55 80 99 73 -1"
   ]
  },
  {
   "cell_type": "code",
   "execution_count": 5,
   "id": "0d959e95",
   "metadata": {},
   "outputs": [
    {
     "name": "stdout",
     "output_type": "stream",
     "text": [
      "94\n",
      "89\n",
      "84\n",
      "76\n",
      "99\n",
      "65\n",
      "45\n",
      "77\n",
      "55\n",
      "80\n",
      "99\n",
      "73\n",
      "-1\n",
      "[[94 89 84 76]\n",
      " [99 65 45 77]\n",
      " [55 80 99 73]]\n",
      "\n",
      "[[100  91  86  78]\n",
      " [100  65  45  77]\n",
      " [ 60  80  99  73]]\n",
      "\n",
      "[['A' 'A' 'B' 'C']\n",
      " ['A' 'D' 'E' 'C']\n",
      " ['D' 'B' 'A' 'C']]\n"
     ]
    }
   ],
   "source": [
    "import numpy as np\n",
    "o=[]\n",
    "i=0\n",
    "while True:\n",
    "    x=int(input())\n",
    "    if x==-1:\n",
    "        break\n",
    "    o.append(x)\n",
    "    i+=1\n",
    "r=np.array(o).reshape(-1,4)\n",
    "#1\n",
    "print(r)\n",
    "print()\n",
    "\n",
    "r[:,0]+=5\n",
    "r[r>100]=100\n",
    "aver=np.mean(r,axis=1)\n",
    "r[aver>80]+=2\n",
    "r[r>100]=100\n",
    "#2\n",
    "print(r)\n",
    "print()\n",
    "bins=np.array([60,70,80,90])\n",
    "inds=np.digitize(r,bins)\n",
    "level=['E','D','C','B','A']\n",
    "#grade=map(lambda x:level[x],ind)\n",
    "#print(np.array(grade))\n",
    "vf=np.vectorize(lambda x:level[x])\n",
    "#3\n",
    "print(vf(inds))\n",
    "#94 89 84 76 99 65 45 77 55 80 99 73 -1"
   ]
  },
  {
   "cell_type": "markdown",
   "id": "832369e1",
   "metadata": {},
   "source": [
    "### pandas "
   ]
  },
  {
   "cell_type": "markdown",
   "id": "e61b0ca5",
   "metadata": {},
   "source": [
    "> 請設計一程式分析2330在7月與8月的表現，讀取 [2330.csv](2330.csv) 檔後計算出每月平均股價(收盤價)、當月的最高價及成交量(月總和) \n",
    "\n",
    "    EX:\n",
    "    7 月的平均股價為: 370.74  元\n",
    "    當月的最高價為:   466.5  元\n",
    "    本月成交量為:  1468402  張\n",
    "\n",
    "    8 月的平均股價為: 429.67  元\n",
    "    當月的最高價為:   453.5  元\n",
    "    本月成交量為:  1001180  張\n",
    "---\n",
    "* pandas的讀檔\n",
    "* pandas取資料,loc與iloc\n",
    "* pandas與numpy的轉換"
   ]
  },
  {
   "cell_type": "code",
   "execution_count": 82,
   "id": "b49bc090",
   "metadata": {},
   "outputs": [
    {
     "name": "stdout",
     "output_type": "stream",
     "text": [
      "7 月的平均股價為: 370.74  元\n",
      "當月的最高價為:   466.5  元\n",
      "本月成交量為:  1468402  張\n",
      "\n",
      "8 月的平均股價為: 429.67  元\n",
      "當月的最高價為:   453.5  元\n",
      "本月成交量為:  1001180  張\n",
      "\n"
     ]
    }
   ],
   "source": [
    "import pandas as pd\n",
    "import numpy as np\n",
    "\n",
    "data = pd.read_csv('2330.csv')\n",
    "#print(data.head())\n",
    "data1 = data.iloc[:23,:]\n",
    "Close = np.array(data1['Close'])\n",
    "High = np.array(data1['High'])\n",
    "Volume = np.array(data1['Volume'])\n",
    "avg = np.sum(Close)/len(Close)\n",
    "print(\"7 月的平均股價為:\", round(avg,2), \" 元\")\n",
    "print(\"當月的最高價為:  \", np.max(High), \" 元\")\n",
    "print(\"本月成交量為: \",np.sum(Volume), \" 張\\n\")\n",
    "data2 = data.iloc[23:,:]\n",
    "Close = np.array(data2['Close'])\n",
    "High = np.array(data2['High'])\n",
    "Volume = np.array(data2['Volume'])\n",
    "avg = np.sum(Close)/len(Close)\n",
    "print(\"8 月的平均股價為:\", round(avg,2), \" 元\")\n",
    "print(\"當月的最高價為:  \", np.max(High), \" 元\")\n",
    "print(\"本月成交量為: \",np.sum(Volume), \" 張\\n\")"
   ]
  },
  {
   "cell_type": "code",
   "execution_count": 27,
   "id": "4ad984f1",
   "metadata": {},
   "outputs": [
    {
     "name": "stdout",
     "output_type": "stream",
     "text": [
      "<class 'pandas.core.frame.DataFrame'>\n",
      "         Date   Open   High    Low  Close  Volume\n",
      "0  2020/07/01  315.0  318.0  314.0  317.5   29685\n",
      "1  2020/07/02  319.0  322.0  318.0  322.0   37789\n",
      "2  2020/07/03  327.0  330.5  326.5  329.5   55657\n",
      "3  2020/07/06  332.5  338.0  332.0  338.0   57256\n",
      "4  2020/07/07  343.5  346.0  338.0  338.5   59046\n",
      "\n",
      "<class 'pandas.core.series.Series'>\n",
      "0    315.0\n",
      "1    319.0\n",
      "2    327.0\n",
      "3    332.5\n",
      "4    343.5\n",
      "Name: Open, dtype: float64\n",
      "\n",
      "17585.5\n",
      "17585.5\n"
     ]
    }
   ],
   "source": [
    "import pandas as pd\n",
    "import numpy as np\n",
    "data = pd.read_csv('2330.csv')\n",
    "print(type(data))\n",
    "print(data.head())\n",
    "\n",
    "\n",
    "Open = data.Open\n",
    "print()\n",
    "print(type(Open))\n",
    "print(Open.head())\n",
    "\n",
    "s = Open.sum()\n",
    "print()\n",
    "print(s)\n",
    "\n",
    "a = np.array(data['Open'])\n",
    "s2 = np.sum(a)\n",
    "print(s2)"
   ]
  },
  {
   "cell_type": "code",
   "execution_count": 34,
   "id": "6f0a03e3",
   "metadata": {},
   "outputs": [
    {
     "name": "stdout",
     "output_type": "stream",
     "text": [
      "7 月的平均股價為: 370.74 元\n",
      "當月的最高價為:   466.5 元\n",
      "本月成交量為: 1468402 張\n",
      "8 月的平均股價為: 429.67 元\n",
      "當月的最高價為:   453.5 元\n",
      "本月成交量為: 1001180 張\n"
     ]
    }
   ],
   "source": [
    "import pandas as pd\n",
    "\n",
    "\n",
    "def info_of_month(_df, _year, _month):\n",
    "    \"\"\"Selection values by DateTime then print the informations of the table\"\"\"\n",
    "\n",
    "    # Selecting values\n",
    "    _df = _df.loc[str(_year) + \"-\" + str(_month).zfill(2)]\n",
    "\n",
    "    # print informations\n",
    "    print(int(_month), \"月的\", end=\"\")\n",
    "    print(\"平均股價為:\", round(_df[\"Close\"].mean(), 2), \"元\")\n",
    "    print(\"當月的最高價為:  \", _df[\"High\"].max(), \"元\")\n",
    "    # print(\"  最低價為:\", _df[\"Low\"].min(), \"元\")\n",
    "    print(\"本月成交量為:\", _df[\"Volume\"].sum(), \"張\")\n",
    "\n",
    "\n",
    "def read_stock_data(ticker):\n",
    "    \"\"\"read the full data of the file as a \"\"\"\n",
    "    file_position = \"2330.csv\"\n",
    "    _df = pd.read_csv(file_position,\n",
    "                      index_col=0, parse_dates=True)\n",
    "    return _df\n",
    "\n",
    "\n",
    "def main():\n",
    "    ticker = \"2330\"\n",
    "    year = 2020\n",
    "    for i in range(7, 9):\n",
    "        info_of_month(read_stock_data(ticker), year, i)\n",
    "\n",
    "\n",
    "if __name__ == \"__main__\":\n",
    "    main()"
   ]
  },
  {
   "cell_type": "code",
   "execution_count": 37,
   "id": "53e21cfc",
   "metadata": {},
   "outputs": [
    {
     "name": "stdout",
     "output_type": "stream",
     "text": [
      "02\n"
     ]
    }
   ],
   "source": [
    "# .zfill() 使用方式\n",
    "num = 2\n",
    "print(str(num).zfill(2))"
   ]
  },
  {
   "cell_type": "code",
   "execution_count": 48,
   "id": "a29f5fcd",
   "metadata": {
    "collapsed": true
   },
   "outputs": [
    {
     "name": "stdout",
     "output_type": "stream",
     "text": [
      "             Open   High    Low  Close  Volume\n",
      "Date                                          \n",
      "2020-07-01  315.0  318.0  314.0  317.5   29685\n",
      "2020-07-02  319.0  322.0  318.0  322.0   37789\n",
      "2020-07-03  327.0  330.5  326.5  329.5   55657\n",
      "2020-07-06  332.5  338.0  332.0  338.0   57256\n",
      "2020-07-07  343.5  346.0  338.0  338.5   59046\n",
      "             Open   High    Low  Close  Volume\n",
      "Date                                          \n",
      "2020-08-03  420.5  424.0  415.0  416.0   77289\n",
      "2020-08-04  421.5  425.5  418.5  425.5   41697\n",
      "2020-08-05  430.5  433.5  426.0  429.0   47461\n",
      "2020-08-06  437.5  438.0  431.0  435.0   43444\n",
      "2020-08-07  433.5  434.0  428.0  433.0   37611\n",
      "2020-08-10  427.5  437.5  427.5  435.5   36068\n",
      "2020-08-11  432.0  435.0  429.0  429.0   34545\n",
      "2020-08-12  422.0  423.5  419.0  419.0   53980\n",
      "2020-08-13  428.0  429.0  424.5  429.0   45669\n",
      "2020-08-14  424.0  428.0  423.0  427.0   24260\n",
      "2020-08-17  427.0  435.0  425.5  435.0   34608\n",
      "2020-08-18  440.0  440.5  432.0  433.0   45504\n",
      "2020-08-19  436.0  436.5  427.5  427.5   31487\n",
      "2020-08-20  427.0  427.5  401.0  415.0   75155\n",
      "2020-08-21  421.5  427.0  420.0  424.5   41956\n",
      "2020-08-24  427.5  434.5  425.0  428.0   49199\n",
      "2020-08-25  433.5  436.0  430.5  434.5   37025\n",
      "2020-08-26  435.5  442.0  435.0  442.0   41406\n",
      "2020-08-27  448.0  453.5  444.0  444.0   57207\n",
      "2020-08-28  440.0  440.5  431.0  435.0   57039\n",
      "2020-08-31  437.0  439.5  426.5  426.5   88570\n"
     ]
    }
   ],
   "source": [
    "import pandas as pd\n",
    "# pd.read_csv(data, parse_dates=True) # 自動解析日期時間格式\n",
    "_df = pd.read_csv('2330.csv',index_col=0, parse_dates=True)\n",
    "print(_df.head())\n",
    "\n",
    "# 選擇 index 中所有符合 2020-08 的資料 \n",
    "_df = _df.loc[str(2020) + \"-\" + str('8').zfill(2)]\n",
    "print(_df)"
   ]
  },
  {
   "cell_type": "code",
   "execution_count": 65,
   "id": "b2692f2c",
   "metadata": {},
   "outputs": [
    {
     "data": {
      "text/plain": [
       "'1.3.3'"
      ]
     },
     "execution_count": 65,
     "metadata": {},
     "output_type": "execute_result"
    }
   ],
   "source": [
    "pd.__version__"
   ]
  },
  {
   "cell_type": "code",
   "execution_count": null,
   "id": "48067ebd",
   "metadata": {},
   "outputs": [],
   "source": [
    "import pandas as pd\n",
    "pd.__version__\n",
    "df = pd.read_csv('2330.csv') \n",
    "\n",
    "df1 = df[df['Date'].between('7/1/2020','7/31/2020')]\n",
    "df1.column = df1['High']# 7月的最高價為\n",
    "max_value = df1.column.max()\n",
    "\n",
    "print(max_value)# 7月的最高價為\n",
    "mean1 = df1['Close'].mean() #7 月的平均股價為\n",
    "print(mean1)#7 月的平均股價為\n",
    "df1.column = df1['Volume']#7月成交量為\n",
    "sum1 = df1.column.sum()\n",
    "print(sum1) #7月成交量為\n",
    "\n",
    "df2 = df[df['Date'].between('8/1/2020','8/31/2020')]\n",
    "df2\n",
    "mean2 = df2['Close'].mean() #8 月的平均股價為\n",
    "print(mean2)#8 月的平均股價為\n",
    "df2.column = df2['High']# 8月的最高價為\n",
    "max_value2 = df2.column.max()\n",
    "print(max_value2)\n",
    "df2.column = df2['Volume']#8月成交量為\n",
    "sum2 = df2.column.sum()\n",
    "print(sum2) #8月成交量為"
   ]
  }
 ],
 "metadata": {
  "kernelspec": {
   "display_name": "Python 3",
   "language": "python",
   "name": "python3"
  },
  "language_info": {
   "codemirror_mode": {
    "name": "ipython",
    "version": 3
   },
   "file_extension": ".py",
   "mimetype": "text/x-python",
   "name": "python",
   "nbconvert_exporter": "python",
   "pygments_lexer": "ipython3",
   "version": "3.8.8"
  },
  "toc": {
   "base_numbering": 1,
   "nav_menu": {},
   "number_sections": true,
   "sideBar": true,
   "skip_h1_title": false,
   "title_cell": "Table of Contents",
   "title_sidebar": "Contents",
   "toc_cell": false,
   "toc_position": {},
   "toc_section_display": true,
   "toc_window_display": false
  }
 },
 "nbformat": 4,
 "nbformat_minor": 5
}
